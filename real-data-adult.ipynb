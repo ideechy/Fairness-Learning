{
 "metadata": {
  "language_info": {
   "codemirror_mode": {
    "name": "ipython",
    "version": 3
   },
   "file_extension": ".py",
   "mimetype": "text/x-python",
   "name": "python",
   "nbconvert_exporter": "python",
   "pygments_lexer": "ipython3",
   "version": "3.8.5-final"
  },
  "orig_nbformat": 2,
  "kernelspec": {
   "name": "python3",
   "display_name": "Python 3",
   "language": "python"
  }
 },
 "nbformat": 4,
 "nbformat_minor": 2,
 "cells": [
  {
   "cell_type": "code",
   "execution_count": 1,
   "metadata": {},
   "outputs": [],
   "source": [
    "import pandas as pd\n",
    "import numpy as np\n",
    "import statsmodels.api as sm\n",
    "import matplotlib.pyplot as plt\n",
    "import seaborn as sns\n",
    "from sklearn import preprocessing\n",
    "from sklearn.decomposition import PCA\n",
    "from fairdata import FairData"
   ]
  },
  {
   "cell_type": "code",
   "execution_count": 2,
   "metadata": {},
   "outputs": [
    {
     "output_type": "execute_result",
     "data": {
      "text/plain": [
       "       age          workclass  fnlwgt    education  education-num  \\\n",
       "0       39          State-gov   77516    Bachelors             13   \n",
       "1       50   Self-emp-not-inc   83311    Bachelors             13   \n",
       "2       38            Private  215646      HS-grad              9   \n",
       "3       53            Private  234721         11th              7   \n",
       "4       28            Private  338409    Bachelors             13   \n",
       "...    ...                ...     ...          ...            ...   \n",
       "32556   27            Private  257302   Assoc-acdm             12   \n",
       "32557   40            Private  154374      HS-grad              9   \n",
       "32558   58            Private  151910      HS-grad              9   \n",
       "32559   22            Private  201490      HS-grad              9   \n",
       "32560   52       Self-emp-inc  287927      HS-grad              9   \n",
       "\n",
       "            marital-status          occupation    relationship    race  \\\n",
       "0            Never-married        Adm-clerical   Not-in-family   White   \n",
       "1       Married-civ-spouse     Exec-managerial         Husband   White   \n",
       "2                 Divorced   Handlers-cleaners   Not-in-family   White   \n",
       "3       Married-civ-spouse   Handlers-cleaners         Husband   Black   \n",
       "4       Married-civ-spouse      Prof-specialty            Wife   Black   \n",
       "...                    ...                 ...             ...     ...   \n",
       "32556   Married-civ-spouse        Tech-support            Wife   White   \n",
       "32557   Married-civ-spouse   Machine-op-inspct         Husband   White   \n",
       "32558              Widowed        Adm-clerical       Unmarried   White   \n",
       "32559        Never-married        Adm-clerical       Own-child   White   \n",
       "32560   Married-civ-spouse     Exec-managerial            Wife   White   \n",
       "\n",
       "           sex  capital-gain  capital-loss  hours-per-week  native-country  \\\n",
       "0         Male          2174             0              40   United-States   \n",
       "1         Male             0             0              13   United-States   \n",
       "2         Male             0             0              40   United-States   \n",
       "3         Male             0             0              40   United-States   \n",
       "4       Female             0             0              40            Cuba   \n",
       "...        ...           ...           ...             ...             ...   \n",
       "32556   Female             0             0              38   United-States   \n",
       "32557     Male             0             0              40   United-States   \n",
       "32558   Female             0             0              40   United-States   \n",
       "32559     Male             0             0              20   United-States   \n",
       "32560   Female         15024             0              40   United-States   \n",
       "\n",
       "       income  \n",
       "0       <=50K  \n",
       "1       <=50K  \n",
       "2       <=50K  \n",
       "3       <=50K  \n",
       "4       <=50K  \n",
       "...       ...  \n",
       "32556   <=50K  \n",
       "32557    >50K  \n",
       "32558   <=50K  \n",
       "32559   <=50K  \n",
       "32560    >50K  \n",
       "\n",
       "[32561 rows x 15 columns]"
      ],
      "text/html": "<div>\n<style scoped>\n    .dataframe tbody tr th:only-of-type {\n        vertical-align: middle;\n    }\n\n    .dataframe tbody tr th {\n        vertical-align: top;\n    }\n\n    .dataframe thead th {\n        text-align: right;\n    }\n</style>\n<table border=\"1\" class=\"dataframe\">\n  <thead>\n    <tr style=\"text-align: right;\">\n      <th></th>\n      <th>age</th>\n      <th>workclass</th>\n      <th>fnlwgt</th>\n      <th>education</th>\n      <th>education-num</th>\n      <th>marital-status</th>\n      <th>occupation</th>\n      <th>relationship</th>\n      <th>race</th>\n      <th>sex</th>\n      <th>capital-gain</th>\n      <th>capital-loss</th>\n      <th>hours-per-week</th>\n      <th>native-country</th>\n      <th>income</th>\n    </tr>\n  </thead>\n  <tbody>\n    <tr>\n      <th>0</th>\n      <td>39</td>\n      <td>State-gov</td>\n      <td>77516</td>\n      <td>Bachelors</td>\n      <td>13</td>\n      <td>Never-married</td>\n      <td>Adm-clerical</td>\n      <td>Not-in-family</td>\n      <td>White</td>\n      <td>Male</td>\n      <td>2174</td>\n      <td>0</td>\n      <td>40</td>\n      <td>United-States</td>\n      <td>&lt;=50K</td>\n    </tr>\n    <tr>\n      <th>1</th>\n      <td>50</td>\n      <td>Self-emp-not-inc</td>\n      <td>83311</td>\n      <td>Bachelors</td>\n      <td>13</td>\n      <td>Married-civ-spouse</td>\n      <td>Exec-managerial</td>\n      <td>Husband</td>\n      <td>White</td>\n      <td>Male</td>\n      <td>0</td>\n      <td>0</td>\n      <td>13</td>\n      <td>United-States</td>\n      <td>&lt;=50K</td>\n    </tr>\n    <tr>\n      <th>2</th>\n      <td>38</td>\n      <td>Private</td>\n      <td>215646</td>\n      <td>HS-grad</td>\n      <td>9</td>\n      <td>Divorced</td>\n      <td>Handlers-cleaners</td>\n      <td>Not-in-family</td>\n      <td>White</td>\n      <td>Male</td>\n      <td>0</td>\n      <td>0</td>\n      <td>40</td>\n      <td>United-States</td>\n      <td>&lt;=50K</td>\n    </tr>\n    <tr>\n      <th>3</th>\n      <td>53</td>\n      <td>Private</td>\n      <td>234721</td>\n      <td>11th</td>\n      <td>7</td>\n      <td>Married-civ-spouse</td>\n      <td>Handlers-cleaners</td>\n      <td>Husband</td>\n      <td>Black</td>\n      <td>Male</td>\n      <td>0</td>\n      <td>0</td>\n      <td>40</td>\n      <td>United-States</td>\n      <td>&lt;=50K</td>\n    </tr>\n    <tr>\n      <th>4</th>\n      <td>28</td>\n      <td>Private</td>\n      <td>338409</td>\n      <td>Bachelors</td>\n      <td>13</td>\n      <td>Married-civ-spouse</td>\n      <td>Prof-specialty</td>\n      <td>Wife</td>\n      <td>Black</td>\n      <td>Female</td>\n      <td>0</td>\n      <td>0</td>\n      <td>40</td>\n      <td>Cuba</td>\n      <td>&lt;=50K</td>\n    </tr>\n    <tr>\n      <th>...</th>\n      <td>...</td>\n      <td>...</td>\n      <td>...</td>\n      <td>...</td>\n      <td>...</td>\n      <td>...</td>\n      <td>...</td>\n      <td>...</td>\n      <td>...</td>\n      <td>...</td>\n      <td>...</td>\n      <td>...</td>\n      <td>...</td>\n      <td>...</td>\n      <td>...</td>\n    </tr>\n    <tr>\n      <th>32556</th>\n      <td>27</td>\n      <td>Private</td>\n      <td>257302</td>\n      <td>Assoc-acdm</td>\n      <td>12</td>\n      <td>Married-civ-spouse</td>\n      <td>Tech-support</td>\n      <td>Wife</td>\n      <td>White</td>\n      <td>Female</td>\n      <td>0</td>\n      <td>0</td>\n      <td>38</td>\n      <td>United-States</td>\n      <td>&lt;=50K</td>\n    </tr>\n    <tr>\n      <th>32557</th>\n      <td>40</td>\n      <td>Private</td>\n      <td>154374</td>\n      <td>HS-grad</td>\n      <td>9</td>\n      <td>Married-civ-spouse</td>\n      <td>Machine-op-inspct</td>\n      <td>Husband</td>\n      <td>White</td>\n      <td>Male</td>\n      <td>0</td>\n      <td>0</td>\n      <td>40</td>\n      <td>United-States</td>\n      <td>&gt;50K</td>\n    </tr>\n    <tr>\n      <th>32558</th>\n      <td>58</td>\n      <td>Private</td>\n      <td>151910</td>\n      <td>HS-grad</td>\n      <td>9</td>\n      <td>Widowed</td>\n      <td>Adm-clerical</td>\n      <td>Unmarried</td>\n      <td>White</td>\n      <td>Female</td>\n      <td>0</td>\n      <td>0</td>\n      <td>40</td>\n      <td>United-States</td>\n      <td>&lt;=50K</td>\n    </tr>\n    <tr>\n      <th>32559</th>\n      <td>22</td>\n      <td>Private</td>\n      <td>201490</td>\n      <td>HS-grad</td>\n      <td>9</td>\n      <td>Never-married</td>\n      <td>Adm-clerical</td>\n      <td>Own-child</td>\n      <td>White</td>\n      <td>Male</td>\n      <td>0</td>\n      <td>0</td>\n      <td>20</td>\n      <td>United-States</td>\n      <td>&lt;=50K</td>\n    </tr>\n    <tr>\n      <th>32560</th>\n      <td>52</td>\n      <td>Self-emp-inc</td>\n      <td>287927</td>\n      <td>HS-grad</td>\n      <td>9</td>\n      <td>Married-civ-spouse</td>\n      <td>Exec-managerial</td>\n      <td>Wife</td>\n      <td>White</td>\n      <td>Female</td>\n      <td>15024</td>\n      <td>0</td>\n      <td>40</td>\n      <td>United-States</td>\n      <td>&gt;50K</td>\n    </tr>\n  </tbody>\n</table>\n<p>32561 rows × 15 columns</p>\n</div>"
     },
     "metadata": {},
     "execution_count": 2
    }
   ],
   "source": [
    "df_train_raw = pd.read_csv(\n",
    "    'data/Adult/adult.data', names=[\n",
    "        'age',              # continuous.\n",
    "        'workclass',        # Private, Self-emp-not-inc, Self-emp-inc, Federal-gov Local-gov, State-gov, Without-pay, Never-worked.\n",
    "        'fnlwgt',           # continuous.\n",
    "        'education',        # Bachelors, Some-college, 11th, HS-grad, Prof-school, Assoc-acdm, Assoc-voc, 9th, 7th-8th, 12th, Masters, 1st-4th, 10th, Doctorate, 5th-6th, Preschool.\n",
    "        'education-num',    # continuous.\n",
    "        'marital-status',   # Married-civ-spouse, Divorced, Never-married, Separated, Widowed, Married-spouse-absent, Married-AF-spouse.\n",
    "        'occupation',       # Tech-support, Craft-repair, Other-service, Sales, Exec-managerial, Prof-specialty, Handlers-cleaners, Machine-op-inspct, Adm-clerical, Farming-fishing, Transport-moving, Priv-house-serv, Protective-serv, Armed-Forces.\n",
    "        'relationship',     # Wife, Own-child, Husband, Not-in-family, Other-relative, Unmarried.\n",
    "        'race',             # White, Asian-Pac-Islander, Amer-Indian-Eskimo, Other, Black.\n",
    "        'sex',              # Female, Male.\n",
    "        'capital-gain',     # continuous.\n",
    "        'capital-loss',     # continuous.\n",
    "        'hours-per-week',   # continuous.\n",
    "        'native-country',   # United-States, Cambodia, England, Puerto-Rico, Canada, Germany, Outlying-US(Guam-USVI-etc), India, Japan, Greece, South, China, Cuba, Iran, Honduras, Philippines, Italy, Poland, Jamaica, Vietnam, Mexico, Portugal, Ireland, France, Dominican-Republic, Laos, Ecuador, Taiwan, Haiti, Columbia, Hungary, Guatemala, Nicaragua, Scotland, Thailand, Yugoslavia, El-Salvador, Trinadad&Tobago, Peru, Hong, Holand-Netherlands.\n",
    "        'income',           # <=50K, >50K\n",
    "    ]\n",
    ")\n",
    "df_test_raw = pd.read_csv('data/Adult/adult.test', skiprows=1, names=df_train_raw.columns)\n",
    "df_train_raw[df_train_raw == '?'] = np.nan\n",
    "df_test_raw[df_test_raw == '?'] = np.nan\n",
    "df_train_raw"
   ]
  },
  {
   "cell_type": "code",
   "execution_count": 3,
   "metadata": {},
   "outputs": [],
   "source": [
    "# Impute missing values with mode\n",
    "for col in ['workclass', 'occupation', 'native-country']:\n",
    "    mode = df_train_raw[col].mode()[0]\n",
    "    df_train_raw[col].fillna(mode, inplace=True)\n",
    "    df_test_raw[col].fillna(mode, inplace=True)\n",
    "x_train = df_train_raw.drop(['income'], axis=1)\n",
    "x_test = df_test_raw.drop(['income'], axis=1)\n",
    "y_train = pd.DataFrame({'income': df_train_raw['income'] == ' >50K'}).astype(int)\n",
    "y_test = pd.DataFrame({'income': df_test_raw['income'] == ' >50K'}).astype(int)"
   ]
  },
  {
   "cell_type": "code",
   "execution_count": 4,
   "metadata": {},
   "outputs": [],
   "source": [
    "# Encode categorical variables\n",
    "categorical = ['workclass', 'education', 'marital-status', 'occupation', 'relationship', 'race', 'sex', 'native-country']\n",
    "for feature in categorical:\n",
    "    le = preprocessing.LabelEncoder()\n",
    "    x_train[feature] = le.fit_transform(x_train[feature])\n",
    "    x_test[feature] = le.transform(x_test[feature])"
   ]
  },
  {
   "cell_type": "code",
   "execution_count": 5,
   "metadata": {},
   "outputs": [
    {
     "output_type": "execute_result",
     "data": {
      "text/plain": [
       "        age  workclass    fnlwgt  education  education-num  marital-status  \\\n",
       "0  0.030671   2.150579 -1.063611  -0.335437       1.134739        0.921634   \n",
       "1  0.837109   1.463736 -1.008707  -0.335437       1.134739       -0.406212   \n",
       "2 -0.042642   0.090050  0.245079   0.181332      -0.420060       -1.734058   \n",
       "3  1.057047   0.090050  0.425801  -2.402511      -1.197459       -0.406212   \n",
       "4 -0.775768   0.090050  1.408176  -0.335437       1.134739       -0.406212   \n",
       "\n",
       "   occupation  relationship  capital-gain  capital-loss  hours-per-week  \\\n",
       "0   -1.317809     -0.277805      0.148453      -0.21666       -0.035429   \n",
       "1   -0.608387     -0.900181     -0.145920      -0.21666       -2.222153   \n",
       "2   -0.135438     -0.277805     -0.145920      -0.21666       -0.035429   \n",
       "3   -0.135438     -0.900181     -0.145920      -0.21666       -0.035429   \n",
       "4    0.810458      2.211698     -0.145920      -0.21666       -0.035429   \n",
       "\n",
       "   native-country  \n",
       "0        0.291569  \n",
       "1        0.291569  \n",
       "2        0.291569  \n",
       "3        0.291569  \n",
       "4       -4.054223  "
      ],
      "text/html": "<div>\n<style scoped>\n    .dataframe tbody tr th:only-of-type {\n        vertical-align: middle;\n    }\n\n    .dataframe tbody tr th {\n        vertical-align: top;\n    }\n\n    .dataframe thead th {\n        text-align: right;\n    }\n</style>\n<table border=\"1\" class=\"dataframe\">\n  <thead>\n    <tr style=\"text-align: right;\">\n      <th></th>\n      <th>age</th>\n      <th>workclass</th>\n      <th>fnlwgt</th>\n      <th>education</th>\n      <th>education-num</th>\n      <th>marital-status</th>\n      <th>occupation</th>\n      <th>relationship</th>\n      <th>capital-gain</th>\n      <th>capital-loss</th>\n      <th>hours-per-week</th>\n      <th>native-country</th>\n    </tr>\n  </thead>\n  <tbody>\n    <tr>\n      <th>0</th>\n      <td>0.030671</td>\n      <td>2.150579</td>\n      <td>-1.063611</td>\n      <td>-0.335437</td>\n      <td>1.134739</td>\n      <td>0.921634</td>\n      <td>-1.317809</td>\n      <td>-0.277805</td>\n      <td>0.148453</td>\n      <td>-0.21666</td>\n      <td>-0.035429</td>\n      <td>0.291569</td>\n    </tr>\n    <tr>\n      <th>1</th>\n      <td>0.837109</td>\n      <td>1.463736</td>\n      <td>-1.008707</td>\n      <td>-0.335437</td>\n      <td>1.134739</td>\n      <td>-0.406212</td>\n      <td>-0.608387</td>\n      <td>-0.900181</td>\n      <td>-0.145920</td>\n      <td>-0.21666</td>\n      <td>-2.222153</td>\n      <td>0.291569</td>\n    </tr>\n    <tr>\n      <th>2</th>\n      <td>-0.042642</td>\n      <td>0.090050</td>\n      <td>0.245079</td>\n      <td>0.181332</td>\n      <td>-0.420060</td>\n      <td>-1.734058</td>\n      <td>-0.135438</td>\n      <td>-0.277805</td>\n      <td>-0.145920</td>\n      <td>-0.21666</td>\n      <td>-0.035429</td>\n      <td>0.291569</td>\n    </tr>\n    <tr>\n      <th>3</th>\n      <td>1.057047</td>\n      <td>0.090050</td>\n      <td>0.425801</td>\n      <td>-2.402511</td>\n      <td>-1.197459</td>\n      <td>-0.406212</td>\n      <td>-0.135438</td>\n      <td>-0.900181</td>\n      <td>-0.145920</td>\n      <td>-0.21666</td>\n      <td>-0.035429</td>\n      <td>0.291569</td>\n    </tr>\n    <tr>\n      <th>4</th>\n      <td>-0.775768</td>\n      <td>0.090050</td>\n      <td>1.408176</td>\n      <td>-0.335437</td>\n      <td>1.134739</td>\n      <td>-0.406212</td>\n      <td>0.810458</td>\n      <td>2.211698</td>\n      <td>-0.145920</td>\n      <td>-0.21666</td>\n      <td>-0.035429</td>\n      <td>-4.054223</td>\n    </tr>\n  </tbody>\n</table>\n</div>"
     },
     "metadata": {},
     "execution_count": 5
    }
   ],
   "source": [
    "# Feature scaling\n",
    "a_train = x_train.drop(['race', 'sex'], axis=1)\n",
    "a_test = x_test.drop(['race', 'sex'], axis=1)\n",
    "scaler = preprocessing.StandardScaler()\n",
    "a_train = pd.DataFrame(scaler.fit_transform(a_train), columns=a_train.columns)\n",
    "a_test = pd.DataFrame(scaler.transform(a_test), columns=a_test.columns)\n",
    "a_train.head()"
   ]
  },
  {
   "cell_type": "code",
   "execution_count": 6,
   "metadata": {},
   "outputs": [],
   "source": [
    "# PCA\n",
    "pca = PCA()\n",
    "a_train = pd.DataFrame(pca.fit_transform(a_train), columns=a_train.columns)\n",
    "a_test = pd.DataFrame(pca.transform(a_test), columns=a_test.columns)"
   ]
  },
  {
   "cell_type": "code",
   "execution_count": 7,
   "metadata": {},
   "outputs": [],
   "source": [
    "# Combine sensitive attributes\n",
    "s_train = pd.DataFrame({'race-sex':x_train.race * 2 + x_train.sex})\n",
    "s_test = pd.DataFrame({'race-sex':x_test.race * 2 + x_test.sex})"
   ]
  },
  {
   "cell_type": "code",
   "execution_count": 8,
   "metadata": {},
   "outputs": [],
   "source": [
    "fairdata_ortho = FairData(s_train, a_train, y_train, preprocess_method='o')\n",
    "fairdata_mdm = FairData(s_train, a_train, y_train, preprocess_method='m')"
   ]
  },
  {
   "cell_type": "code",
   "execution_count": 9,
   "metadata": {},
   "outputs": [
    {
     "output_type": "execute_result",
     "data": {
      "text/plain": [
       "           ML       FTU        FL        AA        FLAP-1    FLAP-2\n",
       "AA   0.303389  0.257410  0.000000  0.000000  2.775558e-17  0.000000\n",
       "CF   0.277902  0.233775  0.022756  0.026795  2.801999e-02  0.022756\n",
       "LB  -0.238096 -0.238541 -0.238296 -0.233885 -2.433122e-01 -0.238296\n",
       "UB   0.761186  0.760423  0.759366  0.764423  7.547639e-01  0.759366\n",
       "MAE  0.238814  0.239577  0.240634  0.235577  2.452361e-01  0.240634"
      ],
      "text/html": "<div>\n<style scoped>\n    .dataframe tbody tr th:only-of-type {\n        vertical-align: middle;\n    }\n\n    .dataframe tbody tr th {\n        vertical-align: top;\n    }\n\n    .dataframe thead th {\n        text-align: right;\n    }\n</style>\n<table border=\"1\" class=\"dataframe\">\n  <thead>\n    <tr style=\"text-align: right;\">\n      <th></th>\n      <th>ML</th>\n      <th>FTU</th>\n      <th>FL</th>\n      <th>AA</th>\n      <th>FLAP-1</th>\n      <th>FLAP-2</th>\n    </tr>\n  </thead>\n  <tbody>\n    <tr>\n      <th>AA</th>\n      <td>0.303389</td>\n      <td>0.257410</td>\n      <td>0.000000</td>\n      <td>0.000000</td>\n      <td>2.775558e-17</td>\n      <td>0.000000</td>\n    </tr>\n    <tr>\n      <th>CF</th>\n      <td>0.277902</td>\n      <td>0.233775</td>\n      <td>0.022756</td>\n      <td>0.026795</td>\n      <td>2.801999e-02</td>\n      <td>0.022756</td>\n    </tr>\n    <tr>\n      <th>LB</th>\n      <td>-0.238096</td>\n      <td>-0.238541</td>\n      <td>-0.238296</td>\n      <td>-0.233885</td>\n      <td>-2.433122e-01</td>\n      <td>-0.238296</td>\n    </tr>\n    <tr>\n      <th>UB</th>\n      <td>0.761186</td>\n      <td>0.760423</td>\n      <td>0.759366</td>\n      <td>0.764423</td>\n      <td>7.547639e-01</td>\n      <td>0.759366</td>\n    </tr>\n    <tr>\n      <th>MAE</th>\n      <td>0.238814</td>\n      <td>0.239577</td>\n      <td>0.240634</td>\n      <td>0.235577</td>\n      <td>2.452361e-01</td>\n      <td>0.240634</td>\n    </tr>\n  </tbody>\n</table>\n</div>"
     },
     "metadata": {},
     "execution_count": 9
    }
   ],
   "source": [
    "fairdata_ortho_eval = fairdata_ortho.evaluate(\n",
    "    a_test, s_test, y_test, metrics=['aa', 'cf', 'lb', 'ub', 'mae']\n",
    ")\n",
    "pd.DataFrame(fairdata_ortho_eval, index=['AA', 'CF', 'LB', 'UB', 'MAE'], columns=['ML', 'FTU', 'FL', 'AA', 'FLAP-1', 'FLAP-2'])"
   ]
  },
  {
   "cell_type": "code",
   "execution_count": 10,
   "metadata": {},
   "outputs": [
    {
     "output_type": "execute_result",
     "data": {
      "text/plain": [
       "           ML       FTU        FL        AA    FLAP-1    FLAP-2\n",
       "AA   0.303389  0.257410  0.000000  0.000000  0.017783  0.015902\n",
       "CF   0.277902  0.233775  0.022756  0.026795  0.001978  0.002265\n",
       "LB  -0.238096 -0.238541 -0.238296 -0.233885 -0.241299 -0.237600\n",
       "UB   0.761186  0.760423  0.759366  0.764423  0.756968  0.759915\n",
       "MAE  0.238814  0.239577  0.240634  0.235577  0.243032  0.240085"
      ],
      "text/html": "<div>\n<style scoped>\n    .dataframe tbody tr th:only-of-type {\n        vertical-align: middle;\n    }\n\n    .dataframe tbody tr th {\n        vertical-align: top;\n    }\n\n    .dataframe thead th {\n        text-align: right;\n    }\n</style>\n<table border=\"1\" class=\"dataframe\">\n  <thead>\n    <tr style=\"text-align: right;\">\n      <th></th>\n      <th>ML</th>\n      <th>FTU</th>\n      <th>FL</th>\n      <th>AA</th>\n      <th>FLAP-1</th>\n      <th>FLAP-2</th>\n    </tr>\n  </thead>\n  <tbody>\n    <tr>\n      <th>AA</th>\n      <td>0.303389</td>\n      <td>0.257410</td>\n      <td>0.000000</td>\n      <td>0.000000</td>\n      <td>0.017783</td>\n      <td>0.015902</td>\n    </tr>\n    <tr>\n      <th>CF</th>\n      <td>0.277902</td>\n      <td>0.233775</td>\n      <td>0.022756</td>\n      <td>0.026795</td>\n      <td>0.001978</td>\n      <td>0.002265</td>\n    </tr>\n    <tr>\n      <th>LB</th>\n      <td>-0.238096</td>\n      <td>-0.238541</td>\n      <td>-0.238296</td>\n      <td>-0.233885</td>\n      <td>-0.241299</td>\n      <td>-0.237600</td>\n    </tr>\n    <tr>\n      <th>UB</th>\n      <td>0.761186</td>\n      <td>0.760423</td>\n      <td>0.759366</td>\n      <td>0.764423</td>\n      <td>0.756968</td>\n      <td>0.759915</td>\n    </tr>\n    <tr>\n      <th>MAE</th>\n      <td>0.238814</td>\n      <td>0.239577</td>\n      <td>0.240634</td>\n      <td>0.235577</td>\n      <td>0.243032</td>\n      <td>0.240085</td>\n    </tr>\n  </tbody>\n</table>\n</div>"
     },
     "metadata": {},
     "execution_count": 10
    }
   ],
   "source": [
    "fairdata_mdm_eval = fairdata_mdm.evaluate(\n",
    "    a_test, s_test, y_test, metrics=['aa', 'cf', 'lb', 'ub', 'mae']\n",
    ")\n",
    "pd.DataFrame(fairdata_mdm_eval, index=['AA', 'CF', 'LB', 'UB', 'MAE'], columns=['ML', 'FTU', 'FL', 'AA', 'FLAP-1', 'FLAP-2'])"
   ]
  },
  {
   "cell_type": "code",
   "execution_count": null,
   "metadata": {},
   "outputs": [],
   "source": []
  }
 ]
}