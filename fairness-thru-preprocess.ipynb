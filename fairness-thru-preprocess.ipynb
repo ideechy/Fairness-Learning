{
 "cells": [
  {
   "cell_type": "code",
   "execution_count": 1,
   "metadata": {
    "ExecuteTime": {
     "end_time": "2020-04-29T19:30:11.433588Z",
     "start_time": "2020-04-29T19:30:11.340464Z"
    }
   },
   "outputs": [],
   "source": [
    "import numpy as np\n",
    "import pandas as pd\n",
    "# import pyreadr\n",
    "from sklearn.preprocessing import LabelEncoder, OneHotEncoder\n",
    "from scipy.special import expit\n",
    "import statsmodels.api as sm\n",
    "import matplotlib\n",
    "import matplotlib.pyplot as plt\n",
    "from fairdata import FairData\n",
    "import gc"
   ]
  },
  {
   "cell_type": "markdown",
   "metadata": {},
   "source": [
    "## Admission Data"
   ]
  },
  {
   "cell_type": "markdown",
   "metadata": {},
   "source": [
    "### Data generation"
   ]
  },
  {
   "cell_type": "code",
   "execution_count": 2,
   "metadata": {
    "ExecuteTime": {
     "end_time": "2020-04-29T04:09:45.821992Z",
     "start_time": "2020-04-29T04:09:45.808880Z"
    }
   },
   "outputs": [],
   "source": [
    "def dat_gen_admission(n, lmbd, intcp, beta_a, beta_s):\n",
    "    '''Generating admission data.\n",
    "    \n",
    "    The sensitive attribute (S) is sex, the only non-sensitive attribute (A) \n",
    "    is test score, thus the dimension of a is 1. Test score (A) depends on sex \n",
    "    (S) if lmbd is not zero, and the decision (Y) depends on sex (S) if beta_s\n",
    "    is not zero.\n",
    "    \n",
    "    Args:\n",
    "        n: sample size.\n",
    "        lmbd: historical disadvantage, male will have higher test score (A) on \n",
    "            average if lmbd is positive.\n",
    "        intcp: intercept in the logistic model for Y.\n",
    "        beta_a: coefficient of A in the logistic model for Y.\n",
    "        beta_s: selection bias, male will have a higher probability of \n",
    "            admission if beta_s is positive.\n",
    "        \n",
    "    Returns:\n",
    "        A tuple of three numpy.ndarrays (s, a, y).\n",
    "        \n",
    "        s: sensitive attributes, numpy.ndarray of size (n, 1).\n",
    "        a: non-sensitive attributes, numpy.ndarray of size (n, 1).\n",
    "        y: decisions, numpy.ndarray of size (n, 1).\n",
    "        \n",
    "    '''\n",
    "    s = np.random.binomial(1, p=0.5, size=n)\n",
    "    eps = np.random.rand(n)\n",
    "    a = np.clip(lmbd * s + eps, 0, 1)\n",
    "    y = np.random.binomial(1, p=expit(intcp + beta_a * a + beta_s * s))\n",
    "    return s.reshape(n, 1), a.reshape(n, 1), y.reshape(n, 1)"
   ]
  },
  {
   "cell_type": "code",
   "execution_count": 3,
   "metadata": {
    "ExecuteTime": {
     "end_time": "2020-04-29T14:23:41.066457Z",
     "start_time": "2020-04-29T14:23:40.979118Z"
    }
   },
   "outputs": [
    {
     "data": {
      "text/html": [
       "<div>\n",
       "<style scoped>\n",
       "    .dataframe tbody tr th:only-of-type {\n",
       "        vertical-align: middle;\n",
       "    }\n",
       "\n",
       "    .dataframe tbody tr th {\n",
       "        vertical-align: top;\n",
       "    }\n",
       "\n",
       "    .dataframe thead th {\n",
       "        text-align: right;\n",
       "    }\n",
       "</style>\n",
       "<table border=\"1\" class=\"dataframe\">\n",
       "  <thead>\n",
       "    <tr style=\"text-align: right;\">\n",
       "      <th></th>\n",
       "      <th>ID</th>\n",
       "      <th>Sex</th>\n",
       "      <th>Test</th>\n",
       "      <th>Admit</th>\n",
       "    </tr>\n",
       "  </thead>\n",
       "  <tbody>\n",
       "    <tr>\n",
       "      <th>0</th>\n",
       "      <td>1</td>\n",
       "      <td>f</td>\n",
       "      <td>68</td>\n",
       "      <td>no</td>\n",
       "    </tr>\n",
       "    <tr>\n",
       "      <th>1</th>\n",
       "      <td>2</td>\n",
       "      <td>m</td>\n",
       "      <td>96</td>\n",
       "      <td>yes</td>\n",
       "    </tr>\n",
       "    <tr>\n",
       "      <th>2</th>\n",
       "      <td>3</td>\n",
       "      <td>f</td>\n",
       "      <td>3</td>\n",
       "      <td>yes</td>\n",
       "    </tr>\n",
       "    <tr>\n",
       "      <th>3</th>\n",
       "      <td>4</td>\n",
       "      <td>f</td>\n",
       "      <td>98</td>\n",
       "      <td>no</td>\n",
       "    </tr>\n",
       "    <tr>\n",
       "      <th>4</th>\n",
       "      <td>5</td>\n",
       "      <td>f</td>\n",
       "      <td>9</td>\n",
       "      <td>no</td>\n",
       "    </tr>\n",
       "    <tr>\n",
       "      <th>...</th>\n",
       "      <td>...</td>\n",
       "      <td>...</td>\n",
       "      <td>...</td>\n",
       "      <td>...</td>\n",
       "    </tr>\n",
       "    <tr>\n",
       "      <th>4995</th>\n",
       "      <td>4996</td>\n",
       "      <td>f</td>\n",
       "      <td>69</td>\n",
       "      <td>no</td>\n",
       "    </tr>\n",
       "    <tr>\n",
       "      <th>4996</th>\n",
       "      <td>4997</td>\n",
       "      <td>m</td>\n",
       "      <td>50</td>\n",
       "      <td>no</td>\n",
       "    </tr>\n",
       "    <tr>\n",
       "      <th>4997</th>\n",
       "      <td>4998</td>\n",
       "      <td>f</td>\n",
       "      <td>6</td>\n",
       "      <td>no</td>\n",
       "    </tr>\n",
       "    <tr>\n",
       "      <th>4998</th>\n",
       "      <td>4999</td>\n",
       "      <td>m</td>\n",
       "      <td>31</td>\n",
       "      <td>yes</td>\n",
       "    </tr>\n",
       "    <tr>\n",
       "      <th>4999</th>\n",
       "      <td>5000</td>\n",
       "      <td>f</td>\n",
       "      <td>76</td>\n",
       "      <td>no</td>\n",
       "    </tr>\n",
       "  </tbody>\n",
       "</table>\n",
       "<p>5000 rows × 4 columns</p>\n",
       "</div>"
      ],
      "text/plain": [
       "        ID Sex  Test Admit\n",
       "0        1   f    68    no\n",
       "1        2   m    96   yes\n",
       "2        3   f     3   yes\n",
       "3        4   f    98    no\n",
       "4        5   f     9    no\n",
       "...    ...  ..   ...   ...\n",
       "4995  4996   f    69    no\n",
       "4996  4997   m    50    no\n",
       "4997  4998   f     6    no\n",
       "4998  4999   m    31   yes\n",
       "4999  5000   f    76    no\n",
       "\n",
       "[5000 rows x 4 columns]"
      ]
     },
     "execution_count": 3,
     "metadata": {},
     "output_type": "execute_result"
    }
   ],
   "source": [
    "np.random.seed(1)\n",
    "s_train, a_train, y_train = dat_gen_admission(5000, lmbd=0.2, intcp=-1, beta_a=2, beta_s=1)\n",
    "s_test = np.array([[0], [1], [0]])\n",
    "a_test = np.array([[0.85], [0.85], [0.65]])\n",
    "dat = pd.DataFrame({\n",
    "    'ID':np.arange(1, 5001), \n",
    "    'Sex':pd.Categorical(map(lambda x: 'm' if x else 'f', s_train)), \n",
    "    'Test':np.round(a_train.squeeze() * 100).astype(np.int), \n",
    "    'Admit':pd.Categorical(map(lambda x: 'yes' if x else 'no', y_train))\n",
    "})\n",
    "dat"
   ]
  },
  {
   "cell_type": "code",
   "execution_count": 46,
   "metadata": {},
   "outputs": [
    {
     "data": {
      "text/plain": [
       "array([[[-1.        ,  2.        ,  1.        ,  0.5       ,\n",
       "          0.        ,  0.76452   ,  0.76544   ,  0.76037   ,\n",
       "          0.76034   ,  0.76135   ,  0.76541   ],\n",
       "        [-1.        ,  2.        ,  1.        ,  0.5       ,\n",
       "          0.2       ,  0.76474   ,  0.7655    ,  0.75899   ,\n",
       "          0.75876   ,  0.75876   ,  0.75876   ],\n",
       "        [-1.        ,  2.        ,  1.        ,  0.5       ,\n",
       "          0.4       ,  0.76457   ,  0.76473   ,  0.75925   ,\n",
       "          0.75932   ,  0.75932   ,  0.75932   ],\n",
       "        [-1.        ,  2.        ,  1.        ,  0.5       ,\n",
       "          0.6       ,  0.7629    ,  0.76358   ,  0.75745   ,\n",
       "          0.75743   ,  0.75743   ,  0.75743   ],\n",
       "        [-1.        ,  2.        ,  1.        ,  0.5       ,\n",
       "          0.8       ,  0.76566   ,  0.76524   ,  0.75954   ,\n",
       "          0.75952   ,  0.75952   ,  0.75952   ]],\n",
       "\n",
       "       [[-1.        ,  2.        ,  1.        ,  0.5       ,\n",
       "          0.        ,  0.01281365,  0.01275643,  0.01277627,\n",
       "          0.01282593,  0.01218226,  0.01283674],\n",
       "        [-1.        ,  2.        ,  1.        ,  0.5       ,\n",
       "          0.2       ,  0.01312297,  0.01315789,  0.01236891,\n",
       "          0.0121096 ,  0.0121096 ,  0.0121096 ],\n",
       "        [-1.        ,  2.        ,  1.        ,  0.5       ,\n",
       "          0.4       ,  0.0154326 ,  0.01543234,  0.01509064,\n",
       "          0.01498391,  0.01498391,  0.01498391],\n",
       "        [-1.        ,  2.        ,  1.        ,  0.5       ,\n",
       "          0.6       ,  0.01472719,  0.01460971,  0.01529665,\n",
       "          0.01521858,  0.01521858,  0.01521858],\n",
       "        [-1.        ,  2.        ,  1.        ,  0.5       ,\n",
       "          0.8       ,  0.01224191,  0.01350786,  0.01308466,\n",
       "          0.01310914,  0.01310914,  0.01310914]],\n",
       "\n",
       "       [[-1.        ,  2.        ,  1.        ,  0.5       ,\n",
       "          0.        ,  0.744     ,  0.745     ,  0.73695   ,\n",
       "          0.73695   ,  0.739     ,  0.745475  ],\n",
       "        [-1.        ,  2.        ,  1.        ,  0.5       ,\n",
       "          0.2       ,  0.740475  ,  0.743     ,  0.734475  ,\n",
       "          0.734475  ,  0.734475  ,  0.734475  ],\n",
       "        [-1.        ,  2.        ,  1.        ,  0.5       ,\n",
       "          0.4       ,  0.7349    ,  0.7339    ,  0.73095   ,\n",
       "          0.732     ,  0.732     ,  0.732     ],\n",
       "        [-1.        ,  2.        ,  1.        ,  0.5       ,\n",
       "          0.6       ,  0.736     ,  0.737     ,  0.72895   ,\n",
       "          0.72895   ,  0.72895   ,  0.72895   ],\n",
       "        [-1.        ,  2.        ,  1.        ,  0.5       ,\n",
       "          0.8       ,  0.738     ,  0.7349    ,  0.733475  ,\n",
       "          0.733     ,  0.733     ,  0.733     ]],\n",
       "\n",
       "       [[-1.        ,  2.        ,  1.        ,  0.5       ,\n",
       "          0.        ,  0.785525  ,  0.787575  ,  0.780525  ,\n",
       "          0.780525  ,  0.781     ,  0.787625  ],\n",
       "        [-1.        ,  2.        ,  1.        ,  0.5       ,\n",
       "          0.2       ,  0.794     ,  0.795575  ,  0.78005   ,\n",
       "          0.78005   ,  0.78005   ,  0.78005   ],\n",
       "        [-1.        ,  2.        ,  1.        ,  0.5       ,\n",
       "          0.4       ,  0.79605   ,  0.794575  ,  0.78905   ,\n",
       "          0.788525  ,  0.788525  ,  0.788525  ],\n",
       "        [-1.        ,  2.        ,  1.        ,  0.5       ,\n",
       "          0.6       ,  0.79205   ,  0.793575  ,  0.7861    ,\n",
       "          0.78505   ,  0.78505   ,  0.78505   ],\n",
       "        [-1.        ,  2.        ,  1.        ,  0.5       ,\n",
       "          0.8       ,  0.788625  ,  0.787525  ,  0.78505   ,\n",
       "          0.78505   ,  0.78505   ,  0.78505   ]]])"
      ]
     },
     "execution_count": 46,
     "metadata": {},
     "output_type": "execute_result"
    }
   ],
   "source": [
    "np.load('result/dat_gen_loan_univariate_n5000_marginal_preprocess_acc.npy')"
   ]
  },
  {
   "cell_type": "markdown",
   "metadata": {},
   "source": [
    "### Decisions on test data"
   ]
  },
  {
   "cell_type": "code",
   "execution_count": 4,
   "metadata": {
    "ExecuteTime": {
     "end_time": "2020-04-29T04:09:56.750375Z",
     "start_time": "2020-04-29T04:09:51.369171Z"
    }
   },
   "outputs": [
    {
     "name": "stdout",
     "output_type": "stream",
     "text": [
      "The decisions on the training data is fair.\n"
     ]
    },
    {
     "data": {
      "text/html": [
       "<div>\n",
       "<style scoped>\n",
       "    .dataframe tbody tr th:only-of-type {\n",
       "        vertical-align: middle;\n",
       "    }\n",
       "\n",
       "    .dataframe tbody tr th {\n",
       "        vertical-align: top;\n",
       "    }\n",
       "\n",
       "    .dataframe thead th {\n",
       "        text-align: right;\n",
       "    }\n",
       "</style>\n",
       "<table border=\"1\" class=\"dataframe\">\n",
       "  <thead>\n",
       "    <tr style=\"text-align: right;\">\n",
       "      <th></th>\n",
       "      <th>ID</th>\n",
       "      <th>Sex</th>\n",
       "      <th>Test</th>\n",
       "      <th>y_ml</th>\n",
       "      <th>y_eo</th>\n",
       "      <th>y_aa</th>\n",
       "      <th>y_1</th>\n",
       "      <th>y_2</th>\n",
       "    </tr>\n",
       "  </thead>\n",
       "  <tbody>\n",
       "    <tr>\n",
       "      <th>0</th>\n",
       "      <td>A</td>\n",
       "      <td>f</td>\n",
       "      <td>85</td>\n",
       "      <td>0.607381</td>\n",
       "      <td>0.704383</td>\n",
       "      <td>0.753499</td>\n",
       "      <td>0.694659</td>\n",
       "      <td>0.697084</td>\n",
       "    </tr>\n",
       "    <tr>\n",
       "      <th>1</th>\n",
       "      <td>B</td>\n",
       "      <td>m</td>\n",
       "      <td>85</td>\n",
       "      <td>0.827840</td>\n",
       "      <td>0.704383</td>\n",
       "      <td>0.625893</td>\n",
       "      <td>0.612216</td>\n",
       "      <td>0.614256</td>\n",
       "    </tr>\n",
       "    <tr>\n",
       "      <th>2</th>\n",
       "      <td>C</td>\n",
       "      <td>f</td>\n",
       "      <td>65</td>\n",
       "      <td>0.490404</td>\n",
       "      <td>0.604385</td>\n",
       "      <td>0.663253</td>\n",
       "      <td>0.645261</td>\n",
       "      <td>0.647779</td>\n",
       "    </tr>\n",
       "  </tbody>\n",
       "</table>\n",
       "</div>"
      ],
      "text/plain": [
       "  ID Sex  Test      y_ml      y_eo      y_aa       y_1       y_2\n",
       "0  A   f    85  0.607381  0.704383  0.753499  0.694659  0.697084\n",
       "1  B   m    85  0.827840  0.704383  0.625893  0.612216  0.614256\n",
       "2  C   f    65  0.490404  0.604385  0.663253  0.645261  0.647779"
      ]
     },
     "execution_count": 4,
     "metadata": {},
     "output_type": "execute_result"
    }
   ],
   "source": [
    "admission = FairData(s_train, a_train, y_train, preprocess_method='m')\n",
    "y_ml = admission.f_ml(s_test, a_test)\n",
    "y_eo = admission.f_eo(a_test)\n",
    "y_aa = admission.f_aa(s_test, a_test)\n",
    "y_1 = admission.f_1(s_test, a_test)\n",
    "y_2 = admission.f_2(s_test, a_test)\n",
    "dat = pd.DataFrame({\n",
    "    'ID':['A', 'B', 'C'], \n",
    "    'Sex':pd.Categorical(map(lambda x: 'm' if x else 'f', s_test)), \n",
    "    'Test':np.round(a_test.squeeze() * 100).astype(np.int),\n",
    "    'y_ml':y_ml, 'y_eo':y_eo, 'y_aa':y_aa, \n",
    "    'y_1':y_1, 'y_2':y_2\n",
    "})\n",
    "f = 'fair' if admission.cit() > 0.05 else 'not fair'\n",
    "print('The decisions on the training data is {:s}.'.format(f))\n",
    "dat"
   ]
  },
  {
   "cell_type": "code",
   "execution_count": 6,
   "metadata": {
    "ExecuteTime": {
     "end_time": "2020-04-29T04:10:06.753133Z",
     "start_time": "2020-04-29T04:10:06.745517Z"
    }
   },
   "outputs": [
    {
     "data": {
      "text/plain": [
       "0.58"
      ]
     },
     "execution_count": 6,
     "metadata": {},
     "output_type": "execute_result"
    }
   ],
   "source": [
    "admission.pval"
   ]
  },
  {
   "cell_type": "code",
   "execution_count": 7,
   "metadata": {
    "ExecuteTime": {
     "end_time": "2020-04-29T04:10:41.077687Z",
     "start_time": "2020-04-29T04:10:36.315956Z"
    }
   },
   "outputs": [
    {
     "data": {
      "text/plain": [
       "0.61"
      ]
     },
     "execution_count": 7,
     "metadata": {},
     "output_type": "execute_result"
    }
   ],
   "source": [
    "admission.cit(B=99, bootstrap_a_prime=False)"
   ]
  },
  {
   "cell_type": "markdown",
   "metadata": {},
   "source": [
    "### Selection bias correction (EO)"
   ]
  },
  {
   "cell_type": "code",
   "execution_count": 5,
   "metadata": {
    "ExecuteTime": {
     "end_time": "2020-04-13T16:28:18.024973Z",
     "start_time": "2020-04-13T16:27:43.428604Z"
    }
   },
   "outputs": [],
   "source": [
    "M = 100\n",
    "eo, acc1 = [], []\n",
    "for _ in range(M):\n",
    "    eo_metrics, accuracies = [], []\n",
    "    for beta_s in range(6):\n",
    "        s, a, y = dat_gen_admission(6000, lmbd=0.2, intcp=-1, beta_a=2, beta_s=beta_s)\n",
    "        data = FairData(s[:5000], a[:5000], y[:5000])\n",
    "        eo_metric, accuracy = data.evaluate(s[5000:], a[5000:], y[5000:],\n",
    "                                            adv=1, dis=0, metrics=['eo', 'acc'])\n",
    "        eo_metrics.append(eo_metric)\n",
    "        accuracies.append(accuracy)\n",
    "    eo.append(eo_metrics)\n",
    "    acc1.append(accuracies)\n",
    "eo_mean = np.mean(eo, axis=0)\n",
    "eo_err = np.std(eo, axis=0)\n",
    "acc1_mean = np.mean(acc1, axis=0)\n",
    "acc1_err = np.std(acc1, axis=0)"
   ]
  },
  {
   "cell_type": "code",
   "execution_count": 6,
   "metadata": {
    "ExecuteTime": {
     "end_time": "2020-04-13T16:28:26.427566Z",
     "start_time": "2020-04-13T16:28:25.405602Z"
    }
   },
   "outputs": [
    {
     "data": {
      "image/png": "[encoded data removed]",
      "text/plain": [
       "<Figure size 432x216 with 2 Axes>"
      ]
     },
     "metadata": {
      "needs_background": "light"
     },
     "output_type": "display_data"
    }
   ],
   "source": [
    "prop_cycle = plt.rcParams['axes.prop_cycle']\n",
    "colors = prop_cycle.by_key()['color']    \n",
    "f, (ax1,ax2) = plt.subplots(1, 2, figsize=(6,3), constrained_layout=True)\n",
    "\n",
    "method = ['$f_{ML}$', 'FTU', '$f_{EO}$', '$f_{AA}$', '$f_{1}$', '$f_{2}$']\n",
    "for i in range(6):\n",
    "    ax1.errorbar(range(6), eo_mean[:, i], eo_err[:, i], label = method[i])\n",
    "    ax2.errorbar(range(6), acc1_mean[:, i], acc1_err[:, i])\n",
    "ax1.set_xlabel(\"Bias due to sex $\\\\beta_{s}$\")\n",
    "ax1.set_ylabel(\"EO-fairness\")\n",
    "ax2.set_xlabel(\"Bias due to sex $\\\\beta_{s}$\")\n",
    "ax2.set_ylabel(\"Test acc.\")\n",
    "f.legend(bbox_to_anchor=(0.5,1.02), loc=\"lower center\", borderaxespad=0, ncol=6)\n",
    "plt.show()"
   ]
  },
  {
   "cell_type": "code",
   "execution_count": 7,
   "metadata": {
    "ExecuteTime": {
     "end_time": "2020-04-13T16:28:55.404081Z",
     "start_time": "2020-04-13T16:28:55.394027Z"
    }
   },
   "outputs": [
    {
     "data": {
      "text/plain": [
       "array([[ 0.00048,  0.     ,  0.     , -0.08187, -0.08187, -0.08209],\n",
       "       [ 0.20689,  0.     ,  0.     , -0.07266, -0.07072, -0.07201],\n",
       "       [ 0.34563,  0.     ,  0.     , -0.05798, -0.05627, -0.05896],\n",
       "       [ 0.41058,  0.     ,  0.     , -0.04902, -0.04831, -0.05224],\n",
       "       [ 0.44028,  0.     ,  0.     , -0.04463, -0.04463, -0.04916],\n",
       "       [ 0.45196,  0.     ,  0.     , -0.04225, -0.04258, -0.04743]])"
      ]
     },
     "execution_count": 7,
     "metadata": {},
     "output_type": "execute_result"
    }
   ],
   "source": [
    "np.round(eo_mean,5)"
   ]
  },
  {
   "cell_type": "code",
   "execution_count": 8,
   "metadata": {
    "ExecuteTime": {
     "end_time": "2020-04-13T16:28:57.077670Z",
     "start_time": "2020-04-13T16:28:57.066422Z"
    },
    "scrolled": true
   },
   "outputs": [
    {
     "data": {
      "text/plain": [
       "array([[0.62536, 0.62564, 0.62567, 0.6205 , 0.6205 , 0.62051],\n",
       "       [0.69959, 0.67836, 0.67987, 0.6562 , 0.65619, 0.65651],\n",
       "       [0.76321, 0.73534, 0.70552, 0.70231, 0.70231, 0.70283],\n",
       "       [0.7902 , 0.76226, 0.72819, 0.72819, 0.72819, 0.72819],\n",
       "       [0.80339, 0.77482, 0.74244, 0.74244, 0.74244, 0.74244],\n",
       "       [0.80875, 0.77869, 0.74677, 0.74677, 0.74677, 0.74677]])"
      ]
     },
     "execution_count": 8,
     "metadata": {},
     "output_type": "execute_result"
    }
   ],
   "source": [
    "np.round(acc1_mean,5)"
   ]
  },
  {
   "cell_type": "markdown",
   "metadata": {},
   "source": [
    "### Historical disadvantage correction (AA)"
   ]
  },
  {
   "cell_type": "code",
   "execution_count": 9,
   "metadata": {
    "ExecuteTime": {
     "end_time": "2020-04-13T16:29:46.283180Z",
     "start_time": "2020-04-13T16:29:04.771201Z"
    }
   },
   "outputs": [],
   "source": [
    "M = 100\n",
    "aa, acc2 = [], []\n",
    "for _ in range(M):\n",
    "    aa_metrics, accuracies = [], []\n",
    "    for lmbd in np.arange(0, 1, 0.2):\n",
    "        s, a, y = dat_gen_admission(6000, lmbd=lmbd, intcp=-1, beta_a=2, beta_s=1)\n",
    "        data = FairData(s[:5000], a[:5000], y[:5000])\n",
    "        aa_metric, accuracy = data.evaluate(s[5000:], a[5000:], y[5000:],\n",
    "                                            adv=1, dis=0, metrics=['aa', 'acc'])\n",
    "        aa_metrics.append(aa_metric)\n",
    "        accuracies.append(accuracy)\n",
    "    aa.append(aa_metrics)\n",
    "    acc2.append(accuracies)\n",
    "aa_mean = np.mean(aa, axis=0)\n",
    "aa_err = np.std(aa, axis=0)\n",
    "acc2_mean = np.mean(acc2, axis=0)\n",
    "acc2_err = np.std(acc2, axis=0)"
   ]
  },
  {
   "cell_type": "code",
   "execution_count": 10,
   "metadata": {
    "ExecuteTime": {
     "end_time": "2020-04-13T16:29:49.884980Z",
     "start_time": "2020-04-13T16:29:48.791045Z"
    }
   },
   "outputs": [
    {
     "data": {
      "image/png": "[encoded data removed]",
      "text/plain": [
       "<Figure size 432x216 with 2 Axes>"
      ]
     },
     "metadata": {
      "needs_background": "light"
     },
     "output_type": "display_data"
    }
   ],
   "source": [
    "prop_cycle = plt.rcParams['axes.prop_cycle']\n",
    "colors = prop_cycle.by_key()['color']    \n",
    "f, (ax1,ax2) = plt.subplots(1, 2, figsize=(6,3), constrained_layout=True)\n",
    "\n",
    "method = ['$f_{ML}$', 'FTU', '$f_{EO}$', '$f_{AA}$', '$f_{1}$', '$f_{2}$']\n",
    "for i in range(6):\n",
    "    ax1.errorbar(np.arange(0, 1, 0.2), aa_mean[:, i], aa_err[:, i], label = method[i])\n",
    "    ax2.errorbar(np.arange(0, 1, 0.2), acc2_mean[:, i], acc2_err[:, i])\n",
    "ax1.set_xlabel(\"Historical disadvantage $\\\\lambda$\")\n",
    "ax1.set_ylabel(\"AA-fairness\")\n",
    "ax2.set_xlabel(\"Historical disadvantage $\\\\lambda$\")\n",
    "ax2.set_ylabel(\"Test acc.\")\n",
    "f.legend(bbox_to_anchor=(0.5,1.02), loc=\"lower center\", borderaxespad=0, ncol=6)\n",
    "plt.show()"
   ]
  },
  {
   "cell_type": "code",
   "execution_count": 11,
   "metadata": {
    "ExecuteTime": {
     "end_time": "2020-04-13T16:29:52.653693Z",
     "start_time": "2020-04-13T16:29:52.629518Z"
    }
   },
   "outputs": [
    {
     "data": {
      "text/plain": [
       "array([[ 2.1721e-01, -4.0000e-04, -4.4000e-04, -2.0000e-05, -2.0000e-05,\n",
       "        -2.0000e-05],\n",
       "       [ 2.7771e-01,  8.8730e-02,  7.1210e-02, -1.1700e-03, -1.4400e-03,\n",
       "        -1.1400e-03],\n",
       "       [ 3.1511e-01,  1.7210e-01,  1.1754e-01, -6.3800e-03, -7.8100e-03,\n",
       "        -6.1400e-03],\n",
       "       [ 3.2124e-01,  2.1455e-01,  1.3721e-01, -1.8600e-02, -2.1510e-02,\n",
       "        -1.8580e-02],\n",
       "       [ 3.0399e-01,  2.0577e-01,  1.3069e-01, -3.9310e-02, -4.2790e-02,\n",
       "        -4.3170e-02]])"
      ]
     },
     "execution_count": 11,
     "metadata": {},
     "output_type": "execute_result"
    }
   ],
   "source": [
    "np.round(aa_mean,5)"
   ]
  },
  {
   "cell_type": "code",
   "execution_count": 12,
   "metadata": {
    "ExecuteTime": {
     "end_time": "2020-04-13T16:29:55.215045Z",
     "start_time": "2020-04-13T16:29:55.204872Z"
    }
   },
   "outputs": [
    {
     "data": {
      "text/plain": [
       "array([[0.66813, 0.63737, 0.6376 , 0.63744, 0.63744, 0.63736],\n",
       "       [0.70141, 0.67805, 0.68116, 0.65639, 0.65627, 0.6558 ],\n",
       "       [0.72567, 0.72265, 0.71073, 0.68044, 0.6805 , 0.6811 ],\n",
       "       [0.73948, 0.73754, 0.72391, 0.69031, 0.6904 , 0.70512],\n",
       "       [0.74607, 0.74576, 0.73075, 0.69324, 0.69324, 0.71435]])"
      ]
     },
     "execution_count": 12,
     "metadata": {},
     "output_type": "execute_result"
    }
   ],
   "source": [
    "np.round(acc2_mean,5)"
   ]
  },
  {
   "cell_type": "code",
   "execution_count": 13,
   "metadata": {
    "ExecuteTime": {
     "end_time": "2020-04-13T16:33:21.738854Z",
     "start_time": "2020-04-13T16:29:57.436964Z"
    }
   },
   "outputs": [],
   "source": [
    "M = 100\n",
    "aa, acc2 = [], []\n",
    "for _ in range(M):\n",
    "    aa_metrics, accuracies = [], []\n",
    "    for lmbd in np.arange(0, 1, 0.2):\n",
    "        s, a, y = dat_gen_admission(12000, lmbd=lmbd, intcp=-1, beta_a=2, beta_s=1)\n",
    "        data = FairData(s[:10000], a[:10000], y[:10000], preprocess_method='m')\n",
    "        aa_metric, accuracy = data.evaluate(s[10000:], a[10000:], y[10000:],\n",
    "                                            adv=1, dis=0, metrics=['aa', 'acc'])\n",
    "        aa_metrics.append(aa_metric)\n",
    "        accuracies.append(accuracy)\n",
    "    aa.append(aa_metrics)\n",
    "    acc2.append(accuracies)\n",
    "aa_mean = np.mean(aa, axis=0)\n",
    "aa_err = np.std(aa, axis=0)\n",
    "acc2_mean = np.mean(acc2, axis=0)\n",
    "acc2_err = np.std(acc2, axis=0)"
   ]
  },
  {
   "cell_type": "code",
   "execution_count": 14,
   "metadata": {
    "ExecuteTime": {
     "end_time": "2020-04-13T16:33:24.583812Z",
     "start_time": "2020-04-13T16:33:23.894120Z"
    }
   },
   "outputs": [
    {
     "data": {
      "image/png": "[encoded data removed]",
      "text/plain": [
       "<Figure size 432x216 with 2 Axes>"
      ]
     },
     "metadata": {
      "needs_background": "light"
     },
     "output_type": "display_data"
    }
   ],
   "source": [
    "prop_cycle = plt.rcParams['axes.prop_cycle']\n",
    "colors = prop_cycle.by_key()['color']    \n",
    "f, (ax1,ax2) = plt.subplots(1, 2, figsize=(6,3), constrained_layout=True)\n",
    "\n",
    "method = ['$f_{ML}$', 'FTU', '$f_{EO}$', '$f_{AA}$', '$f_{1}$', '$f_{2}$']\n",
    "for i in range(6):\n",
    "    ax1.errorbar(np.arange(0, 1, 0.2), aa_mean[:, i], aa_err[:, i], label = method[i])\n",
    "    ax2.errorbar(np.arange(0, 1, 0.2), acc2_mean[:, i], acc2_err[:, i])\n",
    "ax1.set_xlabel(\"Historical disadvantage $\\\\lambda$\")\n",
    "ax1.set_ylabel(\"AA-fairness\")\n",
    "ax2.set_xlabel(\"Historical disadvantage $\\\\lambda$\")\n",
    "ax2.set_ylabel(\"Test acc.\")\n",
    "f.legend(bbox_to_anchor=(0.5,1.02), loc=\"lower center\", borderaxespad=0, ncol=6)\n",
    "plt.show()"
   ]
  },
  {
   "cell_type": "markdown",
   "metadata": {
    "ExecuteTime": {
     "end_time": "2020-04-06T15:23:10.818085Z",
     "start_time": "2020-04-06T15:23:10.502210Z"
    }
   },
   "source": [
    "### Fairness test"
   ]
  },
  {
   "cell_type": "code",
   "execution_count": 3,
   "metadata": {
    "ExecuteTime": {
     "end_time": "2020-04-09T04:41:31.003067Z",
     "start_time": "2020-04-09T01:45:22.422695Z"
    }
   },
   "outputs": [],
   "source": [
    "M = 100\n",
    "n = 500\n",
    "pvals = []\n",
    "for _ in range(M):\n",
    "    pval = []\n",
    "    for lb in np.mgrid[0:0.6:0.2,0:3].reshape(2, -1).transpose():\n",
    "        s, a, y = dat_gen_admission(n, lmbd=lb[0], intcp=-1, beta_a=2, beta_s=lb[1])\n",
    "        data = FairData(s, a, y)\n",
    "        pval.append(data.cit())\n",
    "        gc.collect()\n",
    "    pvals.append(pval)"
   ]
  },
  {
   "cell_type": "code",
   "execution_count": 41,
   "metadata": {
    "ExecuteTime": {
     "end_time": "2020-04-21T15:50:41.482592Z",
     "start_time": "2020-04-21T15:50:41.077861Z"
    }
   },
   "outputs": [
    {
     "data": {
      "image/png": "[encoded data removed]",
      "text/plain": [
       "<Figure size 432x288 with 2 Axes>"
      ]
     },
     "metadata": {
      "needs_background": "light"
     },
     "output_type": "display_data"
    }
   ],
   "source": [
    "lmbds = np.arange(0, .6, .2)\n",
    "betas = np.arange(3)\n",
    "reject = np.array(np.array(pvals) <= 0.05, dtype=np.float)\n",
    "reject[np.isnan(np.array(pvals))] = None\n",
    "power = np.nanmean(reject, axis=0).reshape(3, 3)\n",
    "\n",
    "fig, ax = plt.subplots()\n",
    "im, cbar = heatmap(power, col_labels=lmbds, row_labels=betas, ax=ax,\n",
    "                   cmap=\"YlGn\", cbarlabel=\"P(reject $H_0|\\\\lambda, \\\\beta_{s}$)\",\n",
    "                   col_label=\"Historical disadvantage $\\\\lambda$\",\n",
    "                   row_label=\"Bias due to sex $\\\\beta_{s}$\")\n",
    "texts = annotate_heatmap(im, valfmt=\"{x:.3f}\")\n",
    "\n",
    "fig.tight_layout()\n",
    "plt.show()"
   ]
  },
  {
   "cell_type": "code",
   "execution_count": 139,
   "metadata": {
    "ExecuteTime": {
     "end_time": "2020-04-21T17:45:05.379125Z",
     "start_time": "2020-04-21T17:45:04.486477Z"
    }
   },
   "outputs": [
    {
     "data": {
      "image/png": "[encoded data removed]",
      "text/plain": [
       "<Figure size 864x216 with 6 Axes>"
      ]
     },
     "metadata": {
      "needs_background": "light"
     },
     "output_type": "display_data"
    }
   ],
   "source": [
    "sizes = ['50', '100', '200']\n",
    "lmbds = np.arange(0, .6, .2)\n",
    "betas = np.arange(3)\n",
    "\n",
    "fig, axes = plt.subplots(1, len(sizes), figsize=(4*len(sizes), 3x))\n",
    "for i, size in enumerate(sizes):\n",
    "    # read R output from cdcov.test\n",
    "    result = pyreadr.read_r(\"pvals_setting1_n\"+size+\".rds\")\n",
    "    pvals = result[None].to_numpy().reshape(1000,9)\n",
    "    reject = np.array(pvals <= 0.05, dtype=np.float)\n",
    "    power = reject.mean(axis=0).reshape(3, 3)\n",
    "    # plot heatmap\n",
    "    im, cbar = heatmap(power, col_labels=lmbds, row_labels=betas, ax=axes[i],\n",
    "                       cmap=\"YlGn\", cbarlabel=\"P(reject $H_0|\\\\lambda, \\\\beta_{s}$)\",\n",
    "                       col_label=\"Historical disadvantage $\\\\lambda$\",\n",
    "                       row_label=\"Bias due to sex $\\\\beta_{s}$\")\n",
    "    texts = annotate_heatmap(im, valfmt=\"{x:.3f}\")\n",
    "\n",
    "fig.tight_layout()\n",
    "plt.show()"
   ]
  },
  {
   "cell_type": "code",
   "execution_count": 11,
   "metadata": {
    "ExecuteTime": {
     "end_time": "2020-04-29T19:56:25.560412Z",
     "start_time": "2020-04-29T19:56:23.808521Z"
    }
   },
   "outputs": [
    {
     "data": {
      "image/png": "[encoded data removed]",
      "text/plain": [
       "<Figure size 432x288 with 1 Axes>"
      ]
     },
     "metadata": {
      "needs_background": "light"
     },
     "output_type": "display_data"
    }
   ],
   "source": [
    "sizes = ['50', '100', '200']\n",
    "markers = ['o', 's', 'v']\n",
    "bl = np.mgrid[0:3, 0:0.6:0.2].reshape(2,-1)\n",
    "beta_s, lmbd = list(bl[0]), list(bl[1])\n",
    "xlabel = ['({:.0f}, {:.1f})'.format(*p) for p in zip(beta_s, lmbd)]\n",
    "\n",
    "fig, ax = plt.subplots()\n",
    "for i, size in enumerate(sizes):\n",
    "    # read R output from cdcov.test\n",
    "    result = pyreadr.read_r(\"pvals_setting1_n\"+size+\".rds\")\n",
    "    pvals = result[None].to_numpy().reshape(1000,9)\n",
    "    reject = np.array(pvals <= 0.05, dtype=np.float)\n",
    "    power = reject.mean(axis=0).flatten()\n",
    "    ax.scatter(xlabel, power, marker=markers[i], label=size)\n",
    "ax.axhline(0.05, color='black',linewidth=0.5)\n",
    "plt.yticks(list(plt.yticks()[0][1:-1]) + [0.05])\n",
    "ax.set_xlabel(\"Bias and historical disadvantage $(\\\\beta_{s}, \\\\lambda)$\")\n",
    "plt.setp(ax.get_xticklabels(), rotation=30, ha=\"right\",rotation_mode=\"anchor\")\n",
    "ax.set_ylabel(\"$P(reject H_0|\\\\beta_{s}, \\\\lambda$)\")\n",
    "plt.legend(loc='best', title='sample size')\n",
    "plt.show()"
   ]
  },
  {
   "cell_type": "code",
   "execution_count": null,
   "metadata": {},
   "outputs": [],
   "source": []
  },
  {
   "cell_type": "markdown",
   "metadata": {},
   "source": [
    "## Loan Data (One Non-sensitive Variable)"
   ]
  },
  {
   "cell_type": "markdown",
   "metadata": {},
   "source": [
    "### Data generation"
   ]
  },
  {
   "cell_type": "code",
   "execution_count": 17,
   "metadata": {
    "ExecuteTime": {
     "end_time": "2020-05-04T20:54:46.526040Z",
     "start_time": "2020-05-04T20:54:45.685744Z"
    }
   },
   "outputs": [],
   "source": [
    "def dat_gen_loan1(n, intcp, beta_a, beta_s, lmbd_a, sigma_a=None, \n",
    "                 adv_race_proportion=0.7):\n",
    "    '''Generating loan data.\n",
    "    \n",
    "    The sensitive attribute (S) is race, the non-sensitive attribute is \n",
    "    log personal income (A). \n",
    "    \n",
    "    A depends on race (S) if lmbd_i and/or sigma_i are not zeros, and the \n",
    "    decision (Y) depends on race (S) if beta_s is not zero.\n",
    "    \n",
    "    Args:\n",
    "        n: sample size.\n",
    "        intcp: intercept in the logistic model for Y.\n",
    "        beta_a: coefficient of I in the logistic model for Y.\n",
    "        beta_s: selection biases as an array of numbers, advantageous group \n",
    "            (white) will have a higher probability of getting a loan if its \n",
    "            corresponding element in beta_s (beta_s[0]) is larger than the \n",
    "            elements of the disadvantageous groups (say, beta_s[1] of the \n",
    "            black group).\n",
    "        lmbd_a (float): advantageous group will have higher mean log income if \n",
    "            positive.\n",
    "        sigma_a (float): positive number, the log income of advantageous group \n",
    "            will have larger standard deviation if greater than 1.\n",
    "        adv_race_proportion (float): proportion of the advantageous race group.\n",
    "        \n",
    "    Returns:\n",
    "        A tuple of three numpy.ndarrays (s, a, y).\n",
    "        \n",
    "        s: sensitive attributes, numpy.ndarray of size (n, 1).\n",
    "        a: non-sensitive attributes (E, I), numpy.ndarray of size (n, 2).\n",
    "        y: decisions, numpy.ndarray of size (n, 1).\n",
    "        \n",
    "    '''\n",
    "    if sigma_a is None:\n",
    "        sigma_a = 1 + lmbd_a\n",
    "    # 1: advantageous race, 0: disadvantageous race\n",
    "    s = np.random.binomial(1, p=adv_race_proportion, size=n)\n",
    "    i = 4 + lmbd_a * s + 0.2 * sigma_a**s * np.random.randn(n)\n",
    "    a = np.exp(i)/100\n",
    "    p = expit(intcp + beta_a * a + beta_s * s)\n",
    "    y = np.random.binomial(1, p=p)\n",
    "    \n",
    "    plt.hist(a * 100000, 50)\n",
    "    \n",
    "    return s.reshape(n, 1), a.reshape(n, 1), y.reshape(n, 1)\n"
   ]
  },
  {
   "cell_type": "code",
   "execution_count": 18,
   "metadata": {
    "ExecuteTime": {
     "end_time": "2020-05-04T20:54:48.876374Z",
     "start_time": "2020-05-04T20:54:47.527725Z"
    }
   },
   "outputs": [
    {
     "data": {
      "text/html": [
       "<div>\n",
       "<style scoped>\n",
       "    .dataframe tbody tr th:only-of-type {\n",
       "        vertical-align: middle;\n",
       "    }\n",
       "\n",
       "    .dataframe tbody tr th {\n",
       "        vertical-align: top;\n",
       "    }\n",
       "\n",
       "    .dataframe thead th {\n",
       "        text-align: right;\n",
       "    }\n",
       "</style>\n",
       "<table border=\"1\" class=\"dataframe\">\n",
       "  <thead>\n",
       "    <tr style=\"text-align: right;\">\n",
       "      <th></th>\n",
       "      <th>ID</th>\n",
       "      <th>Race</th>\n",
       "      <th>Income</th>\n",
       "      <th>Loan</th>\n",
       "    </tr>\n",
       "  </thead>\n",
       "  <tbody>\n",
       "    <tr>\n",
       "      <th>0</th>\n",
       "      <td>1</td>\n",
       "      <td>white</td>\n",
       "      <td>476164</td>\n",
       "      <td>yes</td>\n",
       "    </tr>\n",
       "    <tr>\n",
       "      <th>1</th>\n",
       "      <td>2</td>\n",
       "      <td>black</td>\n",
       "      <td>115741</td>\n",
       "      <td>yes</td>\n",
       "    </tr>\n",
       "    <tr>\n",
       "      <th>2</th>\n",
       "      <td>3</td>\n",
       "      <td>white</td>\n",
       "      <td>124811</td>\n",
       "      <td>yes</td>\n",
       "    </tr>\n",
       "    <tr>\n",
       "      <th>3</th>\n",
       "      <td>4</td>\n",
       "      <td>white</td>\n",
       "      <td>27917</td>\n",
       "      <td>yes</td>\n",
       "    </tr>\n",
       "    <tr>\n",
       "      <th>4</th>\n",
       "      <td>5</td>\n",
       "      <td>white</td>\n",
       "      <td>100037</td>\n",
       "      <td>yes</td>\n",
       "    </tr>\n",
       "    <tr>\n",
       "      <th>...</th>\n",
       "      <td>...</td>\n",
       "      <td>...</td>\n",
       "      <td>...</td>\n",
       "      <td>...</td>\n",
       "    </tr>\n",
       "    <tr>\n",
       "      <th>4995</th>\n",
       "      <td>4996</td>\n",
       "      <td>white</td>\n",
       "      <td>129845</td>\n",
       "      <td>yes</td>\n",
       "    </tr>\n",
       "    <tr>\n",
       "      <th>4996</th>\n",
       "      <td>4997</td>\n",
       "      <td>white</td>\n",
       "      <td>758227</td>\n",
       "      <td>yes</td>\n",
       "    </tr>\n",
       "    <tr>\n",
       "      <th>4997</th>\n",
       "      <td>4998</td>\n",
       "      <td>white</td>\n",
       "      <td>665582</td>\n",
       "      <td>yes</td>\n",
       "    </tr>\n",
       "    <tr>\n",
       "      <th>4998</th>\n",
       "      <td>4999</td>\n",
       "      <td>black</td>\n",
       "      <td>11779</td>\n",
       "      <td>no</td>\n",
       "    </tr>\n",
       "    <tr>\n",
       "      <th>4999</th>\n",
       "      <td>5000</td>\n",
       "      <td>white</td>\n",
       "      <td>36406</td>\n",
       "      <td>yes</td>\n",
       "    </tr>\n",
       "  </tbody>\n",
       "</table>\n",
       "<p>5000 rows × 4 columns</p>\n",
       "</div>"
      ],
      "text/plain": [
       "        ID   Race  Income Loan\n",
       "0        1  white  476164  yes\n",
       "1        2  black  115741  yes\n",
       "2        3  white  124811  yes\n",
       "3        4  white   27917  yes\n",
       "4        5  white  100037  yes\n",
       "...    ...    ...     ...  ...\n",
       "4995  4996  white  129845  yes\n",
       "4996  4997  white  758227  yes\n",
       "4997  4998  white  665582  yes\n",
       "4998  4999  black   11779   no\n",
       "4999  5000  white   36406  yes\n",
       "\n",
       "[5000 rows x 4 columns]"
      ]
     },
     "execution_count": 18,
     "metadata": {},
     "output_type": "execute_result"
    },
    {
     "data": {
      "image/png": "[encoded data removed]",
      "text/plain": [
       "<Figure size 432x288 with 1 Axes>"
      ]
     },
     "metadata": {
      "needs_background": "light"
     },
     "output_type": "display_data"
    }
   ],
   "source": [
    "np.random.seed(1)\n",
    "s_train, a_train, y_train = dat_gen_loan1(5000, intcp=-1, beta_a=2, beta_s=1, lmbd_a=0.5)\n",
    "s_test = np.array([[0], [1], [0]])\n",
    "a_test = np.array([[0.85], [0.85], [0.65]])\n",
    "dat = pd.DataFrame({\n",
    "    'ID':np.arange(1, 5001), \n",
    "    'Race':pd.Categorical(map(lambda x: 'white' if x else 'black', s_train)),\n",
    "    'Income':np.round(a_train.squeeze() * 100000).astype(np.int), \n",
    "    'Loan':pd.Categorical(map(lambda x: 'yes' if x else 'no', y_train))\n",
    "    \n",
    "})\n",
    "dat"
   ]
  },
  {
   "cell_type": "markdown",
   "metadata": {},
   "source": [
    "### Decisions on test data"
   ]
  },
  {
   "cell_type": "code",
   "execution_count": 17,
   "metadata": {
    "ExecuteTime": {
     "end_time": "2020-04-13T16:33:31.667379Z",
     "start_time": "2020-04-13T16:33:31.541305Z"
    }
   },
   "outputs": [
    {
     "data": {
      "text/html": [
       "<div>\n",
       "<style scoped>\n",
       "    .dataframe tbody tr th:only-of-type {\n",
       "        vertical-align: middle;\n",
       "    }\n",
       "\n",
       "    .dataframe tbody tr th {\n",
       "        vertical-align: top;\n",
       "    }\n",
       "\n",
       "    .dataframe thead th {\n",
       "        text-align: right;\n",
       "    }\n",
       "</style>\n",
       "<table border=\"1\" class=\"dataframe\">\n",
       "  <thead>\n",
       "    <tr style=\"text-align: right;\">\n",
       "      <th></th>\n",
       "      <th>ID</th>\n",
       "      <th>Race</th>\n",
       "      <th>LogIncome</th>\n",
       "      <th>Income</th>\n",
       "      <th>y_ml</th>\n",
       "      <th>y_eo</th>\n",
       "      <th>y_aa</th>\n",
       "      <th>y_1</th>\n",
       "      <th>y_2</th>\n",
       "    </tr>\n",
       "  </thead>\n",
       "  <tbody>\n",
       "    <tr>\n",
       "      <th>0</th>\n",
       "      <td>A</td>\n",
       "      <td>black</td>\n",
       "      <td>0.85</td>\n",
       "      <td>2340</td>\n",
       "      <td>0.663669</td>\n",
       "      <td>0.788955</td>\n",
       "      <td>0.856518</td>\n",
       "      <td>0.887543</td>\n",
       "      <td>0.885788</td>\n",
       "    </tr>\n",
       "    <tr>\n",
       "      <th>1</th>\n",
       "      <td>B</td>\n",
       "      <td>white</td>\n",
       "      <td>0.85</td>\n",
       "      <td>2340</td>\n",
       "      <td>0.842546</td>\n",
       "      <td>0.788955</td>\n",
       "      <td>0.746178</td>\n",
       "      <td>0.739400</td>\n",
       "      <td>0.739817</td>\n",
       "    </tr>\n",
       "    <tr>\n",
       "      <th>2</th>\n",
       "      <td>C</td>\n",
       "      <td>black</td>\n",
       "      <td>0.65</td>\n",
       "      <td>1916</td>\n",
       "      <td>0.570178</td>\n",
       "      <td>0.718875</td>\n",
       "      <td>0.803825</td>\n",
       "      <td>0.805399</td>\n",
       "      <td>0.805773</td>\n",
       "    </tr>\n",
       "  </tbody>\n",
       "</table>\n",
       "</div>"
      ],
      "text/plain": [
       "  ID   Race  LogIncome  Income      y_ml      y_eo      y_aa       y_1  \\\n",
       "0  A  black       0.85    2340  0.663669  0.788955  0.856518  0.887543   \n",
       "1  B  white       0.85    2340  0.842546  0.788955  0.746178  0.739400   \n",
       "2  C  black       0.65    1916  0.570178  0.718875  0.803825  0.805399   \n",
       "\n",
       "        y_2  \n",
       "0  0.885788  \n",
       "1  0.739817  \n",
       "2  0.805773  "
      ]
     },
     "execution_count": 17,
     "metadata": {},
     "output_type": "execute_result"
    }
   ],
   "source": [
    "loan = FairData(s_train, a_train, y_train, preprocess_method='m')\n",
    "y_ml = loan.f_ml(s_test, a_test)\n",
    "y_eo = loan.f_eo(a_test)\n",
    "y_aa = loan.f_aa(s_test, a_test)\n",
    "y_1 = loan.f_1(s_test, a_test)\n",
    "y_2 = loan.f_2(s_test, a_test)\n",
    "dat = pd.DataFrame({\n",
    "    'ID':['A', 'B', 'C'], \n",
    "    'Race':pd.Categorical(map(lambda x: 'white' if x else 'black', s_test)),\n",
    "    'LogIncome':a_test.squeeze(), \n",
    "    'Income':np.round(np.exp(a_test.squeeze()) * 1000).astype(np.int),\n",
    "    'y_ml':y_ml, 'y_eo':y_eo, 'y_aa':y_aa, \n",
    "    'y_1':y_1, 'y_2':y_2\n",
    "})\n",
    "dat"
   ]
  },
  {
   "cell_type": "markdown",
   "metadata": {},
   "source": [
    "### Historical disadvantage correction (AA)"
   ]
  },
  {
   "cell_type": "code",
   "execution_count": 18,
   "metadata": {
    "ExecuteTime": {
     "end_time": "2020-04-13T16:35:25.450368Z",
     "start_time": "2020-04-13T16:33:33.845496Z"
    }
   },
   "outputs": [
    {
     "data": {
      "image/png": "[encoded data removed]",
      "text/plain": [
       "<Figure size 432x288 with 1 Axes>"
      ]
     },
     "metadata": {
      "needs_background": "light"
     },
     "output_type": "display_data"
    }
   ],
   "source": [
    "M = 100\n",
    "aa, acc2 = [], []\n",
    "for _ in range(M):\n",
    "    aa_metrics, accuracies = [], []\n",
    "    for lmbd in np.arange(0, 0.5, 0.1):\n",
    "        s, a, y = dat_gen_loan1(6000, intcp=-1, beta_a=2, beta_s=1, lmbd_a=lmbd)\n",
    "        data = FairData(s[:5000], a[:5000], y[:5000])\n",
    "        aa_metric, accuracy = data.evaluate(s[5000:], a[5000:], y[5000:],\n",
    "                                            adv=1, dis=0, metrics=['aa', 'acc'])\n",
    "        aa_metrics.append(aa_metric)\n",
    "        accuracies.append(accuracy)\n",
    "    aa.append(aa_metrics)\n",
    "    acc2.append(accuracies)\n",
    "aa_mean = np.mean(aa, axis=0)\n",
    "aa_err = np.std(aa, axis=0)\n",
    "acc2_mean = np.mean(acc2, axis=0)\n",
    "acc2_err = np.std(acc2, axis=0)"
   ]
  },
  {
   "cell_type": "code",
   "execution_count": 19,
   "metadata": {
    "ExecuteTime": {
     "end_time": "2020-04-13T16:35:31.354217Z",
     "start_time": "2020-04-13T16:35:27.570343Z"
    }
   },
   "outputs": [
    {
     "data": {
      "image/png": "[encoded data removed]",
      "text/plain": [
       "<Figure size 432x216 with 2 Axes>"
      ]
     },
     "metadata": {
      "needs_background": "light"
     },
     "output_type": "display_data"
    }
   ],
   "source": [
    "prop_cycle = plt.rcParams['axes.prop_cycle']\n",
    "colors = prop_cycle.by_key()['color']    \n",
    "f, (ax1,ax2) = plt.subplots(1, 2, figsize=(6,3), constrained_layout=True)\n",
    "\n",
    "method = ['$f_{ML}$', 'FTU', '$f_{EO}$', '$f_{AA}$', '$f_{1}$', '$f_{2}$']\n",
    "for i in range(6):\n",
    "    ax1.errorbar(np.arange(0, 1, 0.2), aa_mean[:, i], aa_err[:, i], label = method[i])\n",
    "    ax2.errorbar(np.arange(0, 1, 0.2), acc2_mean[:, i], acc2_err[:, i])\n",
    "ax1.set_xlabel(\"Historical disadvantage $\\\\lambda$\")\n",
    "ax1.set_ylabel(\"AA-fairness\")\n",
    "ax2.set_xlabel(\"Historical disadvantage $\\\\lambda$\")\n",
    "ax2.set_ylabel(\"Test acc.\")\n",
    "f.legend(bbox_to_anchor=(0.5,1.02), loc=\"lower center\", borderaxespad=0, ncol=6)\n",
    "plt.show()"
   ]
  },
  {
   "cell_type": "code",
   "execution_count": 20,
   "metadata": {
    "ExecuteTime": {
     "end_time": "2020-04-13T16:38:23.841948Z",
     "start_time": "2020-04-13T16:35:33.437723Z"
    }
   },
   "outputs": [
    {
     "data": {
      "image/png": "[encoded data removed]",
      "text/plain": [
       "<Figure size 432x288 with 1 Axes>"
      ]
     },
     "metadata": {
      "needs_background": "light"
     },
     "output_type": "display_data"
    }
   ],
   "source": [
    "M = 100\n",
    "aa, acc2 = [], []\n",
    "for _ in range(M):\n",
    "    aa_metrics, accuracies = [], []\n",
    "    for sigma in np.arange(1, 2, 0.2):\n",
    "        s, a, y = dat_gen_loan1(6000, intcp=-1, beta_a=2, beta_s=1, lmbd_a=0.5, sigma_a=sigma)\n",
    "        data = FairData(s[:5000], a[:5000], y[:5000], preprocess_method='m')\n",
    "        aa_metric, accuracy = data.evaluate(s[5000:], a[5000:], y[5000:],\n",
    "                                            adv=1, dis=0, metrics=['aa', 'acc'])\n",
    "        aa_metrics.append(aa_metric)\n",
    "        accuracies.append(accuracy)\n",
    "    aa.append(aa_metrics)\n",
    "    acc2.append(accuracies)\n",
    "aa_mean = np.mean(aa, axis=0)\n",
    "aa_err = np.std(aa, axis=0)\n",
    "acc2_mean = np.mean(acc2, axis=0)\n",
    "acc2_err = np.std(acc2, axis=0)"
   ]
  },
  {
   "cell_type": "code",
   "execution_count": 21,
   "metadata": {
    "ExecuteTime": {
     "end_time": "2020-04-13T16:38:30.605291Z",
     "start_time": "2020-04-13T16:38:25.970812Z"
    }
   },
   "outputs": [
    {
     "data": {
      "image/png": "[encoded data removed]",
      "text/plain": [
       "<Figure size 432x216 with 2 Axes>"
      ]
     },
     "metadata": {
      "needs_background": "light"
     },
     "output_type": "display_data"
    }
   ],
   "source": [
    "prop_cycle = plt.rcParams['axes.prop_cycle']\n",
    "colors = prop_cycle.by_key()['color']    \n",
    "f, (ax1,ax2) = plt.subplots(1, 2, figsize=(6,3), constrained_layout=True)\n",
    "\n",
    "method = ['$f_{ML}$', 'FTU', '$f_{EO}$', '$f_{AA}$', '$f_{1}$', '$f_{2}$']\n",
    "for i in range(6):\n",
    "    ax1.errorbar(np.arange(0, 1, 0.2), aa_mean[:, i], aa_err[:, i], label = method[i])\n",
    "    ax2.errorbar(np.arange(0, 1, 0.2), acc2_mean[:, i], acc2_err[:, i])\n",
    "ax1.set_xlabel(\"Historical disadvantage $\\\\lambda$\")\n",
    "ax1.set_ylabel(\"AA-fairness\")\n",
    "ax2.set_xlabel(\"Historical disadvantage $\\\\lambda$\")\n",
    "ax2.set_ylabel(\"Test acc.\")\n",
    "f.legend(bbox_to_anchor=(0.5,1.02), loc=\"lower center\", borderaxespad=0, ncol=6)\n",
    "plt.show()"
   ]
  },
  {
   "cell_type": "code",
   "execution_count": 22,
   "metadata": {
    "ExecuteTime": {
     "end_time": "2020-04-13T16:38:33.139573Z",
     "start_time": "2020-04-13T16:38:33.129621Z"
    }
   },
   "outputs": [
    {
     "data": {
      "text/plain": [
       "array([[ 3.28857804e-01,  2.41732868e-01,  1.24380839e-01,\n",
       "        -3.51006303e-03, -1.09431465e-04, -1.08794819e-04],\n",
       "       [ 3.28947760e-01,  2.26887965e-01,  1.25032711e-01,\n",
       "        -6.52376546e-03, -1.23797196e-04, -1.23230417e-04],\n",
       "       [ 3.26677569e-01,  2.12467984e-01,  1.26090376e-01,\n",
       "        -9.24858355e-03, -1.43912380e-04, -1.43107111e-04],\n",
       "       [ 3.27637775e-01,  1.98681548e-01,  1.22468162e-01,\n",
       "        -1.25934687e-02, -1.51148615e-04, -1.50549796e-04],\n",
       "       [ 3.24737528e-01,  1.85984392e-01,  1.20574492e-01,\n",
       "        -1.57073645e-02, -1.58300661e-04, -1.57752067e-04]])"
      ]
     },
     "execution_count": 22,
     "metadata": {},
     "output_type": "execute_result"
    }
   ],
   "source": [
    "aa_mean"
   ]
  },
  {
   "cell_type": "markdown",
   "metadata": {},
   "source": [
    "### Fairness test"
   ]
  },
  {
   "cell_type": "code",
   "execution_count": 14,
   "metadata": {
    "ExecuteTime": {
     "end_time": "2020-04-29T20:00:03.962603Z",
     "start_time": "2020-04-29T20:00:03.575645Z"
    }
   },
   "outputs": [
    {
     "data": {
      "image/png": "[encoded data removed]",
      "text/plain": [
       "<Figure size 432x288 with 1 Axes>"
      ]
     },
     "metadata": {
      "needs_background": "light"
     },
     "output_type": "display_data"
    }
   ],
   "source": [
    "sizes = ['50', '100', '200', '500']\n",
    "markers = ['o', 's', 'v', 'p']\n",
    "bsl = np.mgrid[0:2, 1:4:2, 0:1:0.5].reshape(3,-1)\n",
    "beta_s, sigma, lmbd = list(bsl[0]), list(bsl[1]), list(bsl[2])\n",
    "xlabel = ['({:.0f}, {:.1f}, {:.0f})'.format(*p) for p in zip(beta_s, lmbd, sigma)]\n",
    "rearrange = [0,2,1,3,4,6,5,7]\n",
    "\n",
    "fig, ax = plt.subplots()\n",
    "for i, size in enumerate(sizes):\n",
    "    # read R output from cdcov.test\n",
    "    result = pyreadr.read_r(\"pvals_setting2_n\"+size+\".rds\")\n",
    "    pvals = result[None].to_numpy().reshape(1000,8)\n",
    "    reject = np.array(pvals <= 0.05, dtype=np.float)\n",
    "    power = reject.mean(axis=0).flatten()\n",
    "    ax.scatter([xlabel[idx] for idx in rearrange], power[rearrange], marker=markers[i], label=size)\n",
    "ax.axhline(0.05, color='black',linewidth=0.5)\n",
    "plt.yticks(list(plt.yticks()[0][1:-1]) + [0.05])\n",
    "ax.set_xlabel(\"Bias and historical disadvantage $(\\\\beta_{s}, \\\\lambda_{a}, \\\\sigma_{a})$\")\n",
    "plt.setp(ax.get_xticklabels(), rotation=30, ha=\"right\",rotation_mode=\"anchor\")\n",
    "ax.set_ylabel(\"$P(reject H_0|\\\\beta_{s}, \\\\lambda_{a}, \\\\sigma_{a}$)\")\n",
    "plt.legend(loc='best', title='sample size')\n",
    "plt.show()"
   ]
  },
  {
   "cell_type": "code",
   "execution_count": 15,
   "metadata": {
    "ExecuteTime": {
     "end_time": "2020-04-29T20:00:18.724771Z",
     "start_time": "2020-04-29T20:00:18.365208Z"
    }
   },
   "outputs": [
    {
     "data": {
      "image/png": "[encoded data removed]",
      "text/plain": [
       "<Figure size 432x288 with 1 Axes>"
      ]
     },
     "metadata": {
      "needs_background": "light"
     },
     "output_type": "display_data"
    }
   ],
   "source": [
    "sizes = ['50', '100', '200']\n",
    "markers = ['o', 's', 'v', 'p']\n",
    "bsl = np.mgrid[0:2, 1:4:2, 0:1:0.5].reshape(3,-1)\n",
    "beta_s, sigma, lmbd = list(bsl[0]), list(bsl[1]), list(bsl[2])\n",
    "xlabel = ['({:.0f}, {:.1f}, {:.0f})'.format(*p) for p in zip(beta_s, lmbd, sigma)]\n",
    "rearrange = [0,2,1,3,4,6,5,7]\n",
    "\n",
    "fig, ax = plt.subplots()\n",
    "for i, size in enumerate(sizes):\n",
    "    # read R output from cdcov.test\n",
    "    result = pyreadr.read_r(\"pvals_setting2_n\"+size+\"_true.rds\")\n",
    "    pvals = result[None].to_numpy().reshape(1000,8)\n",
    "    reject = np.array(pvals <= 0.05, dtype=np.float)\n",
    "    power = reject.mean(axis=0).flatten()\n",
    "    ax.scatter([xlabel[idx] for idx in rearrange], power[rearrange], marker=markers[i], label=size)\n",
    "ax.axhline(0.05, color='black',linewidth=0.5)\n",
    "plt.yticks(list(plt.yticks()[0][1:-1]) + [0.05])\n",
    "ax.set_xlabel(\"Bias and historical disadvantage $(\\\\beta_{s}, \\\\lambda_{a}, \\\\sigma_{a})$\")\n",
    "plt.setp(ax.get_xticklabels(), rotation=30, ha=\"right\",rotation_mode=\"anchor\")\n",
    "ax.set_ylabel(\"$P(reject H_0|\\\\beta_{s}, \\\\lambda_{a}, \\\\sigma_{a}$)\")\n",
    "plt.legend(loc='best', title='sample size')\n",
    "plt.show()"
   ]
  },
  {
   "cell_type": "code",
   "execution_count": 16,
   "metadata": {
    "ExecuteTime": {
     "end_time": "2020-04-29T20:01:13.246821Z",
     "start_time": "2020-04-29T20:01:12.859242Z"
    }
   },
   "outputs": [
    {
     "data": {
      "image/png": "[encoded data removed]",
      "text/plain": [
       "<Figure size 432x288 with 1 Axes>"
      ]
     },
     "metadata": {
      "needs_background": "light"
     },
     "output_type": "display_data"
    }
   ],
   "source": [
    "sizes = ['50', '100', '200']\n",
    "markers = ['o', 's', 'v', 'p']\n",
    "bsl = np.mgrid[0:2, 1:4:2, 0:1:0.5].reshape(3,-1)\n",
    "beta_s, sigma, lmbd = list(bsl[0]), list(bsl[1]), list(bsl[2])\n",
    "xlabel = ['({:.0f}, {:.1f}, {:.0f})'.format(*p) for p in zip(beta_s, lmbd, sigma)]\n",
    "rearrange = [0,2,1,3,4,6,5,7]\n",
    "\n",
    "fig, ax = plt.subplots()\n",
    "for i, size in enumerate(sizes):\n",
    "    # read R output from cdcov.test\n",
    "    result = pyreadr.read_r(\"pvals_setting3_n\"+size+\".rds\")\n",
    "    pvals = result[None].to_numpy().reshape(1000,8)\n",
    "    reject = np.array(pvals <= 0.05, dtype=np.float)\n",
    "    power = reject.mean(axis=0).flatten()\n",
    "    ax.scatter([xlabel[idx] for idx in rearrange], power[rearrange], marker=markers[i], label=size)\n",
    "ax.axhline(0.05, color='black',linewidth=0.5)\n",
    "plt.yticks(list(plt.yticks()[0][1:-1]) + [0.05])\n",
    "ax.set_xlabel(\"Bias and historical disadvantage $(\\\\beta_{s}, \\\\lambda_{a}, \\\\sigma_{a})$\")\n",
    "plt.setp(ax.get_xticklabels(), rotation=30, ha=\"right\",rotation_mode=\"anchor\")\n",
    "ax.set_ylabel(\"$P(reject H_0|\\\\beta_{s}, \\\\lambda_{a}, \\\\sigma_{a}$)\")\n",
    "plt.legend(loc='best', title='sample size')\n",
    "plt.show()"
   ]
  },
  {
   "cell_type": "code",
   "execution_count": 6,
   "metadata": {
    "ExecuteTime": {
     "end_time": "2020-04-23T18:20:52.689023Z",
     "start_time": "2020-04-23T18:20:52.680591Z"
    }
   },
   "outputs": [
    {
     "data": {
      "text/plain": [
       "array([0.063, 0.904, 0.054, 0.78 , 0.997, 1.   , 0.988, 1.   ])"
      ]
     },
     "execution_count": 6,
     "metadata": {},
     "output_type": "execute_result"
    }
   ],
   "source": [
    "power"
   ]
  },
  {
   "cell_type": "markdown",
   "metadata": {},
   "source": [
    "## Loan Data (Two Non-sensitive Variables)"
   ]
  },
  {
   "cell_type": "markdown",
   "metadata": {},
   "source": [
    "### Data generation"
   ]
  },
  {
   "cell_type": "code",
   "execution_count": 13,
   "metadata": {
    "ExecuteTime": {
     "end_time": "2020-03-31T23:02:24.850965Z",
     "start_time": "2020-03-31T23:02:24.834571Z"
    }
   },
   "outputs": [],
   "source": [
    "def dat_gen_loan(n, beta_e, beta_i, beta_s, race_proportion=None,\n",
    "                 race_mean_edu=None, race_med_income=None):\n",
    "    '''Generating loan data.\n",
    "    \n",
    "    The sensitive attribute (S) is race, the non-sensitive attributes are \n",
    "    education years (E) and personal income (I), thus the dimension of a is 2. \n",
    "    \n",
    "    E and I depend on race (S) if lmbd_e and lmbd_i are not zeros, and the \n",
    "    decision (Y) depends on sex (S) if beta_s is not zero.\n",
    "    \n",
    "    Args:\n",
    "        n: sample size.\n",
    "        beta_e: coefficient of E in the logistic model for Y.\n",
    "        beta_i: coefficient of I in the logistic model for Y.\n",
    "        beta_s: selection biases as an array of numbers, advantage group \n",
    "            (white) will have a higher probability of getting a loan if its \n",
    "            corresponding element in beta_s (beta_s[0]) is larger than the \n",
    "            elements of the disadvantage groups (say, beta_s[1] of the black\n",
    "            group).\n",
    "        race_proportion: proportion of white, black, asian people as an array \n",
    "            of float numbers.\n",
    "        race_mean_edu: mean education time (10 year) by race.\n",
    "        race_med_income: median annual income (100,000 dollars) by race.\n",
    "        \n",
    "    Returns:\n",
    "        A tuple of three numpy.ndarrays (s, a, y).\n",
    "        \n",
    "        s: sensitive attributes, numpy.ndarray of size (n, 1).\n",
    "        a: non-sensitive attributes (E, I), numpy.ndarray of size (n, 2).\n",
    "        y: decisions, numpy.ndarray of size (n, 1).\n",
    "        \n",
    "    '''\n",
    "    if race_proportion is None:\n",
    "        race_proportion = np.array([0.76, 0.16, 0.08])\n",
    "    else:\n",
    "        race_proportion = np.array(race_proportion)\n",
    "    if race_mean_edu is None:\n",
    "        race_mean_edu = np.array([1.07, 0.99, 1.26])\n",
    "    else:\n",
    "        race_mean_edu = np.array(race_mean_edu)\n",
    "    if race_med_income is None:\n",
    "        race_med_income = np.array([0.58, 0.40, 0.81])\n",
    "    else:\n",
    "        race_med_income = np.array(race_med_income)\n",
    "    assert race_proportion.ndim == 1 and \\\n",
    "        race_proportion.shape == race_mean_edu.shape == race_med_income.shape\n",
    "    \n",
    "    beta_s = np.array(beta_s)\n",
    "    assert beta_s.ndim == 1 and beta_s.shape == race_proportion.shape\n",
    "    \n",
    "    # onehot encoded s\n",
    "    s_onehot = np.random.multinomial(1, pvals=race_proportion, size=n)\n",
    "    # s as labels\n",
    "    s = np.argmax(s_onehot, axis=1)\n",
    "    # education years e = e_mean + e_eps\n",
    "    e_mean = race_mean_edu.take(s)\n",
    "    e_sd = np.min(race_mean_edu) / 2.5\n",
    "    e_eps = np.random.normal(0, e_sd, size=n)\n",
    "    e = np.clip(e_mean + e_eps, 0, None)\n",
    "    # income log(i) = log(i_med) + e_eps + i_eps\n",
    "    i_med = race_med_income.take(s)\n",
    "    i_mu = np.log(i_med) + e_eps\n",
    "    i = np.random.lognormal(i_mu, 0.1)\n",
    "    # conditional expectation of y\n",
    "    p = expit(beta_e * e + beta_i * i + beta_s.take(s))\n",
    "    y = np.random.binomial(1, p=p)\n",
    "    # non-sensitive attributes\n",
    "    a = np.column_stack((e, i))\n",
    "    return s.reshape(n, 1), a, y.reshape(n, 1)\n"
   ]
  },
  {
   "cell_type": "code",
   "execution_count": 14,
   "metadata": {
    "ExecuteTime": {
     "end_time": "2020-03-31T23:02:36.146241Z",
     "start_time": "2020-03-31T23:02:36.101700Z"
    }
   },
   "outputs": [
    {
     "data": {
      "text/html": [
       "<div>\n",
       "<style scoped>\n",
       "    .dataframe tbody tr th:only-of-type {\n",
       "        vertical-align: middle;\n",
       "    }\n",
       "\n",
       "    .dataframe tbody tr th {\n",
       "        vertical-align: top;\n",
       "    }\n",
       "\n",
       "    .dataframe thead th {\n",
       "        text-align: right;\n",
       "    }\n",
       "</style>\n",
       "<table border=\"1\" class=\"dataframe\">\n",
       "  <thead>\n",
       "    <tr style=\"text-align: right;\">\n",
       "      <th></th>\n",
       "      <th>ID</th>\n",
       "      <th>Race</th>\n",
       "      <th>EduYear</th>\n",
       "      <th>Income</th>\n",
       "      <th>Loan</th>\n",
       "    </tr>\n",
       "  </thead>\n",
       "  <tbody>\n",
       "    <tr>\n",
       "      <th>0</th>\n",
       "      <td>1</td>\n",
       "      <td>white</td>\n",
       "      <td>9</td>\n",
       "      <td>44297</td>\n",
       "      <td>no</td>\n",
       "    </tr>\n",
       "    <tr>\n",
       "      <th>1</th>\n",
       "      <td>2</td>\n",
       "      <td>white</td>\n",
       "      <td>5</td>\n",
       "      <td>35670</td>\n",
       "      <td>yes</td>\n",
       "    </tr>\n",
       "    <tr>\n",
       "      <th>2</th>\n",
       "      <td>3</td>\n",
       "      <td>white</td>\n",
       "      <td>13</td>\n",
       "      <td>78278</td>\n",
       "      <td>yes</td>\n",
       "    </tr>\n",
       "    <tr>\n",
       "      <th>3</th>\n",
       "      <td>4</td>\n",
       "      <td>white</td>\n",
       "      <td>17</td>\n",
       "      <td>125337</td>\n",
       "      <td>yes</td>\n",
       "    </tr>\n",
       "    <tr>\n",
       "      <th>4</th>\n",
       "      <td>5</td>\n",
       "      <td>white</td>\n",
       "      <td>10</td>\n",
       "      <td>55259</td>\n",
       "      <td>no</td>\n",
       "    </tr>\n",
       "    <tr>\n",
       "      <th>...</th>\n",
       "      <td>...</td>\n",
       "      <td>...</td>\n",
       "      <td>...</td>\n",
       "      <td>...</td>\n",
       "      <td>...</td>\n",
       "    </tr>\n",
       "    <tr>\n",
       "      <th>4995</th>\n",
       "      <td>4996</td>\n",
       "      <td>black</td>\n",
       "      <td>15</td>\n",
       "      <td>66499</td>\n",
       "      <td>yes</td>\n",
       "    </tr>\n",
       "    <tr>\n",
       "      <th>4996</th>\n",
       "      <td>4997</td>\n",
       "      <td>asian</td>\n",
       "      <td>17</td>\n",
       "      <td>120744</td>\n",
       "      <td>yes</td>\n",
       "    </tr>\n",
       "    <tr>\n",
       "      <th>4997</th>\n",
       "      <td>4998</td>\n",
       "      <td>white</td>\n",
       "      <td>7</td>\n",
       "      <td>41786</td>\n",
       "      <td>no</td>\n",
       "    </tr>\n",
       "    <tr>\n",
       "      <th>4998</th>\n",
       "      <td>4999</td>\n",
       "      <td>black</td>\n",
       "      <td>10</td>\n",
       "      <td>43273</td>\n",
       "      <td>no</td>\n",
       "    </tr>\n",
       "    <tr>\n",
       "      <th>4999</th>\n",
       "      <td>5000</td>\n",
       "      <td>asian</td>\n",
       "      <td>13</td>\n",
       "      <td>101044</td>\n",
       "      <td>yes</td>\n",
       "    </tr>\n",
       "  </tbody>\n",
       "</table>\n",
       "<p>5000 rows × 5 columns</p>\n",
       "</div>"
      ],
      "text/plain": [
       "        ID   Race  EduYear  Income Loan\n",
       "0        1  white        9   44297   no\n",
       "1        2  white        5   35670  yes\n",
       "2        3  white       13   78278  yes\n",
       "3        4  white       17  125337  yes\n",
       "4        5  white       10   55259   no\n",
       "...    ...    ...      ...     ...  ...\n",
       "4995  4996  black       15   66499  yes\n",
       "4996  4997  asian       17  120744  yes\n",
       "4997  4998  white        7   41786   no\n",
       "4998  4999  black       10   43273   no\n",
       "4999  5000  asian       13  101044  yes\n",
       "\n",
       "[5000 rows x 5 columns]"
      ]
     },
     "execution_count": 14,
     "metadata": {},
     "output_type": "execute_result"
    }
   ],
   "source": [
    "np.random.seed(1)\n",
    "race_label = {0:'white', 1:'black', 2:'asian'}\n",
    "s_train, a_train, y_train = dat_gen_loan(5000, beta_e=1, beta_i=2, beta_s=[-1.5,-2.5,-1.5])\n",
    "s_test = np.array([[0], [1], [1]])\n",
    "a_test = np.array([[1.6, 0.8], [1.2, 0.8], [1.6, 0.8]])\n",
    "dat = pd.DataFrame({\n",
    "    'ID':np.arange(1, 5001), \n",
    "    'Race':pd.Categorical(map(lambda x: race_label[x.item()], s_train)), \n",
    "    'EduYear':np.round(a_train[:, 0] * 10).astype(np.int),\n",
    "    'Income':np.round(a_train[:, 1] * 100000).astype(np.int), \n",
    "    'Loan':pd.Categorical(map(lambda x: 'yes' if x else 'no', y_train))\n",
    "})\n",
    "dat"
   ]
  },
  {
   "cell_type": "markdown",
   "metadata": {},
   "source": [
    "### Decisions on test data"
   ]
  },
  {
   "cell_type": "code",
   "execution_count": 15,
   "metadata": {
    "ExecuteTime": {
     "end_time": "2020-03-31T23:02:50.843885Z",
     "start_time": "2020-03-31T23:02:50.626125Z"
    }
   },
   "outputs": [
    {
     "data": {
      "text/html": [
       "<div>\n",
       "<style scoped>\n",
       "    .dataframe tbody tr th:only-of-type {\n",
       "        vertical-align: middle;\n",
       "    }\n",
       "\n",
       "    .dataframe tbody tr th {\n",
       "        vertical-align: top;\n",
       "    }\n",
       "\n",
       "    .dataframe thead th {\n",
       "        text-align: right;\n",
       "    }\n",
       "</style>\n",
       "<table border=\"1\" class=\"dataframe\">\n",
       "  <thead>\n",
       "    <tr style=\"text-align: right;\">\n",
       "      <th></th>\n",
       "      <th>ID</th>\n",
       "      <th>Race</th>\n",
       "      <th>EduYear</th>\n",
       "      <th>Income</th>\n",
       "      <th>y_ml</th>\n",
       "      <th>y_eo</th>\n",
       "      <th>y_aa</th>\n",
       "      <th>y_1</th>\n",
       "      <th>y_2</th>\n",
       "    </tr>\n",
       "  </thead>\n",
       "  <tbody>\n",
       "    <tr>\n",
       "      <th>0</th>\n",
       "      <td>A</td>\n",
       "      <td>white</td>\n",
       "      <td>16</td>\n",
       "      <td>80000</td>\n",
       "      <td>0.845031</td>\n",
       "      <td>0.814943</td>\n",
       "      <td>0.808708</td>\n",
       "      <td>0.800011</td>\n",
       "      <td>0.801035</td>\n",
       "    </tr>\n",
       "    <tr>\n",
       "      <th>1</th>\n",
       "      <td>B</td>\n",
       "      <td>black</td>\n",
       "      <td>12</td>\n",
       "      <td>80000</td>\n",
       "      <td>0.576800</td>\n",
       "      <td>0.753346</td>\n",
       "      <td>0.818643</td>\n",
       "      <td>0.856596</td>\n",
       "      <td>0.856429</td>\n",
       "    </tr>\n",
       "    <tr>\n",
       "      <th>2</th>\n",
       "      <td>C</td>\n",
       "      <td>black</td>\n",
       "      <td>16</td>\n",
       "      <td>80000</td>\n",
       "      <td>0.665384</td>\n",
       "      <td>0.814943</td>\n",
       "      <td>0.866707</td>\n",
       "      <td>0.901809</td>\n",
       "      <td>0.901357</td>\n",
       "    </tr>\n",
       "  </tbody>\n",
       "</table>\n",
       "</div>"
      ],
      "text/plain": [
       "  ID   Race  EduYear  Income      y_ml      y_eo      y_aa       y_1       y_2\n",
       "0  A  white       16   80000  0.845031  0.814943  0.808708  0.800011  0.801035\n",
       "1  B  black       12   80000  0.576800  0.753346  0.818643  0.856596  0.856429\n",
       "2  C  black       16   80000  0.665384  0.814943  0.866707  0.901809  0.901357"
      ]
     },
     "execution_count": 15,
     "metadata": {},
     "output_type": "execute_result"
    }
   ],
   "source": [
    "loan = FairData(s_train, a_train, y_train, preprocess_method='m')\n",
    "y_ml = loan.f_ml(s_test, a_test)\n",
    "y_eo = loan.f_eo(a_test)\n",
    "y_aa = loan.f_aa(s_test, a_test)\n",
    "y_1 = loan.f_1(s_test, a_test)\n",
    "y_2 = loan.f_2(s_test, a_test)\n",
    "dat = pd.DataFrame({\n",
    "    'ID':['A', 'B', 'C'], \n",
    "    'Race':pd.Categorical(map(lambda x: race_label[x.item()], s_test)), \n",
    "    'EduYear':np.round(a_test[:, 0] * 10).astype(np.int),\n",
    "    'Income':np.round(a_test[:, 1] * 100000).astype(np.int), \n",
    "    'y_ml':y_ml, 'y_eo':y_eo, 'y_aa':y_aa, \n",
    "    'y_1':y_1, 'y_2':y_2\n",
    "})\n",
    "dat"
   ]
  },
  {
   "cell_type": "markdown",
   "metadata": {},
   "source": [
    "### Selection bias correction (EO)"
   ]
  },
  {
   "cell_type": "code",
   "execution_count": 16,
   "metadata": {
    "ExecuteTime": {
     "end_time": "2020-03-31T23:04:06.936483Z",
     "start_time": "2020-03-31T23:03:03.884083Z"
    }
   },
   "outputs": [],
   "source": [
    "M = 100\n",
    "eo, acc1 = [], []\n",
    "for _ in range(M):\n",
    "    eo_metrics, accuracies = [], []\n",
    "    for beta_s_diff in range(6):\n",
    "        beta_s = [-2.5 + beta_s_diff, -2.5]\n",
    "        s, a, y = dat_gen_loan(6000, beta_e=1, beta_i=2, beta_s=beta_s,\n",
    "                               race_proportion = np.array([0.76, 0.24]),\n",
    "                               race_mean_edu = np.array([1.07, 0.99]),\n",
    "                               race_med_income = np.array([0.58, 0.40]))\n",
    "        data = FairData(s[:5000], a[:5000], y[:5000])\n",
    "        eo_metric, accuracy = data.evaluate(s[5000:], a[5000:], y[5000:],\n",
    "                                            adv=0, dis=1, metrics=['eo', 'acc'])\n",
    "        eo_metrics.append(eo_metric)\n",
    "        accuracies.append(accuracy)\n",
    "    eo.append(eo_metrics)\n",
    "    acc1.append(accuracies)\n",
    "eo_mean = np.mean(eo, axis=0)\n",
    "eo_err = np.std(eo, axis=0)\n",
    "acc1_mean = np.mean(acc1, axis=0)\n",
    "acc1_err = np.std(acc1, axis=0)"
   ]
  },
  {
   "cell_type": "code",
   "execution_count": 17,
   "metadata": {
    "ExecuteTime": {
     "end_time": "2020-03-31T23:04:18.798872Z",
     "start_time": "2020-03-31T23:04:17.850779Z"
    }
   },
   "outputs": [
    {
     "data": {
      "image/png": "[encoded data removed]",
      "text/plain": [
       "<Figure size 432x216 with 2 Axes>"
      ]
     },
     "metadata": {
      "needs_background": "light"
     },
     "output_type": "display_data"
    }
   ],
   "source": [
    "prop_cycle = plt.rcParams['axes.prop_cycle']\n",
    "colors = prop_cycle.by_key()['color']    \n",
    "f, (ax1,ax2) = plt.subplots(1, 2, figsize=(6,3), constrained_layout=True)\n",
    "\n",
    "method = ['$f_{ML}$', 'FTU', '$f_{EO}$', '$f_{AA}$', '$f_{1}$', '$f_{2}$']\n",
    "for i in range(6):\n",
    "    ax1.errorbar(range(6), eo_mean[:, i], eo_err[:, i], label = method[i])\n",
    "    ax2.errorbar(range(6), acc1_mean[:, i], acc1_err[:, i])\n",
    "ax1.set_xlabel(\"Bias due to sex $\\\\beta_{s}$\")\n",
    "ax1.set_ylabel(\"EO-fairness\")\n",
    "ax2.set_xlabel(\"Bias due to sex $\\\\beta_{s}$\")\n",
    "ax2.set_ylabel(\"Test acc.\")\n",
    "f.legend(bbox_to_anchor=(0.5,1.02), loc=\"lower center\", borderaxespad=0, ncol=6)\n",
    "plt.show()"
   ]
  },
  {
   "cell_type": "markdown",
   "metadata": {},
   "source": [
    "### Historical disadvantage correction (AA)"
   ]
  },
  {
   "cell_type": "code",
   "execution_count": 18,
   "metadata": {
    "ExecuteTime": {
     "end_time": "2020-03-31T23:06:07.142477Z",
     "start_time": "2020-03-31T23:04:31.393394Z"
    }
   },
   "outputs": [],
   "source": [
    "M = 100\n",
    "aa, cf, acc2 = [], [], []\n",
    "for _ in range(M):\n",
    "    aa_metrics, cf_metrics, accuracies = [], [], []\n",
    "    for edu_diff in np.arange(0, 0.5, 0.1):\n",
    "        race_mean_edu = [0.99 + edu_diff, 0.99]\n",
    "        s, a, y = dat_gen_loan(6000, beta_e=1, beta_i=2, beta_s=[-1.5, -2.5],\n",
    "                               race_proportion = np.array([0.76, 0.24]),\n",
    "                               race_mean_edu = race_mean_edu,\n",
    "                               race_med_income = np.array([0.58, 0.40]))\n",
    "        data = FairData(s[:5000], a[:5000], y[:5000])\n",
    "        aa_met, cf_met, accuracy = data.evaluate(s[5000:], a[5000:], y[5000:], \n",
    "                                                 adv=0, dis=1, metrics=['aa', 'cf', 'acc'])\n",
    "        aa_metrics.append(aa_met)\n",
    "        cf_metrics.append(cf_met)\n",
    "        accuracies.append(accuracy)\n",
    "    aa.append(aa_metrics)\n",
    "    cf.append(cf_metrics)\n",
    "    acc2.append(accuracies)\n",
    "aa_mean = np.mean(aa, axis=0)\n",
    "aa_err = np.std(aa, axis=0)\n",
    "cf_mean = np.mean(cf, axis=0)\n",
    "cf_err = np.std(cf, axis=0)\n",
    "acc2_mean = np.mean(acc2, axis=0)\n",
    "acc2_err = np.std(acc2, axis=0)"
   ]
  },
  {
   "cell_type": "code",
   "execution_count": 19,
   "metadata": {
    "ExecuteTime": {
     "end_time": "2020-03-31T23:06:22.760333Z",
     "start_time": "2020-03-31T23:06:21.660911Z"
    }
   },
   "outputs": [
    {
     "data": {
      "image/png": "[encoded data removed]",
      "text/plain": [
       "<Figure size 648x216 with 3 Axes>"
      ]
     },
     "metadata": {
      "needs_background": "light"
     },
     "output_type": "display_data"
    }
   ],
   "source": [
    "prop_cycle = plt.rcParams['axes.prop_cycle']\n",
    "colors = prop_cycle.by_key()['color']    \n",
    "f, (ax1, ax2, ax3) = plt.subplots(1, 3, figsize=(9, 3), constrained_layout=True)\n",
    "\n",
    "method = ['$f_{ML}$', 'FTU', '$f_{EO}$', '$f_{AA}$', '$f_{1}$', '$f_{2}$']\n",
    "for i in range(6):\n",
    "    ax1.errorbar(np.arange(0, 1, 0.2), aa_mean[:, i], aa_err[:, i], label = method[i])\n",
    "    ax2.errorbar(np.arange(0, 1, 0.2), cf_mean[:, i], cf_err[:, i])\n",
    "    ax3.errorbar(np.arange(0, 1, 0.2), acc2_mean[:, i], acc2_err[:, i])\n",
    "ax1.set_xlabel(\"Historical disadvantage $\\\\lambda$\")\n",
    "ax1.set_ylabel(\"AA-fairness\")\n",
    "ax2.set_xlabel(\"Historical disadvantage $\\\\lambda$\")\n",
    "ax2.set_ylabel(\"CF-metric\")\n",
    "ax3.set_xlabel(\"Historical disadvantage $\\\\lambda$\")\n",
    "ax3.set_ylabel(\"Test acc.\")\n",
    "f.legend(bbox_to_anchor=(0.5,1.02), loc=\"lower center\", borderaxespad=0, ncol=6)\n",
    "plt.show()"
   ]
  },
  {
   "cell_type": "code",
   "execution_count": 20,
   "metadata": {
    "ExecuteTime": {
     "end_time": "2020-03-31T23:06:36.390928Z",
     "start_time": "2020-03-31T23:06:36.379892Z"
    }
   },
   "outputs": [
    {
     "data": {
      "text/plain": [
       "array([[ 0.29135113,  0.20059898,  0.07976765, -0.00601407, -0.00580023,\n",
       "        -0.004158  ],\n",
       "       [ 0.31120761,  0.18548009,  0.09723546, -0.00615797, -0.00587696,\n",
       "        -0.00394229],\n",
       "       [ 0.33288373,  0.16605404,  0.11739259, -0.00646886, -0.0060892 ,\n",
       "        -0.00375193],\n",
       "       [ 0.35360066,  0.15980648,  0.13676221, -0.0073668 , -0.00681387,\n",
       "        -0.00392384],\n",
       "       [ 0.37053656,  0.18722746,  0.1541533 , -0.0072205 , -0.00658067,\n",
       "        -0.00348722]])"
      ]
     },
     "execution_count": 20,
     "metadata": {},
     "output_type": "execute_result"
    }
   ],
   "source": [
    "aa_mean"
   ]
  },
  {
   "cell_type": "code",
   "execution_count": 21,
   "metadata": {
    "ExecuteTime": {
     "end_time": "2020-03-31T23:11:19.960389Z",
     "start_time": "2020-03-31T23:06:50.070618Z"
    }
   },
   "outputs": [],
   "source": [
    "M = 100\n",
    "aa, cf, acc2 = [], [], []\n",
    "for _ in range(M):\n",
    "    aa_metrics, cf_metrics, accuracies = [], [], []\n",
    "    for edu_diff in np.arange(0, 0.5, 0.1):\n",
    "        race_mean_edu = [0.99 + edu_diff, 0.99]\n",
    "        s, a, y = dat_gen_loan(6000, beta_e=1, beta_i=2, beta_s=[-1.5, -2.5],\n",
    "                               race_proportion = np.array([0.76, 0.24]),\n",
    "                               race_mean_edu = race_mean_edu,\n",
    "                               race_med_income = np.array([0.58, 0.40]))\n",
    "        data = FairData(s[:5000], a[:5000], y[:5000], preprocess_method='m')\n",
    "        aa_met, cf_met, accuracy = data.evaluate(s[5000:], a[5000:], y[5000:], \n",
    "                                                 adv=0, dis=1, metrics=['aa', 'cf', 'acc'])\n",
    "        aa_metrics.append(aa_met)\n",
    "        cf_metrics.append(cf_met)\n",
    "        accuracies.append(accuracy)\n",
    "    aa.append(aa_metrics)\n",
    "    cf.append(cf_metrics)\n",
    "    acc2.append(accuracies)\n",
    "aa_mean = np.mean(aa, axis=0)\n",
    "aa_err = np.std(aa, axis=0)\n",
    "cf_mean = np.mean(cf, axis=0)\n",
    "cf_err = np.std(cf, axis=0)\n",
    "acc2_mean = np.mean(acc2, axis=0)\n",
    "acc2_err = np.std(acc2, axis=0)"
   ]
  },
  {
   "cell_type": "code",
   "execution_count": 22,
   "metadata": {
    "ExecuteTime": {
     "end_time": "2020-03-31T23:11:34.837388Z",
     "start_time": "2020-03-31T23:11:33.869583Z"
    }
   },
   "outputs": [
    {
     "data": {
      "image/png": "[encoded data removed]",
      "text/plain": [
       "<Figure size 648x216 with 3 Axes>"
      ]
     },
     "metadata": {
      "needs_background": "light"
     },
     "output_type": "display_data"
    }
   ],
   "source": [
    "prop_cycle = plt.rcParams['axes.prop_cycle']\n",
    "colors = prop_cycle.by_key()['color']    \n",
    "f, (ax1, ax2, ax3) = plt.subplots(1, 3, figsize=(9, 3), constrained_layout=True)\n",
    "\n",
    "method = ['$f_{ML}$', 'FTU', '$f_{EO}$', '$f_{AA}$', '$f_{1}$', '$f_{2}$']\n",
    "for i in range(6):\n",
    "    ax1.errorbar(np.arange(0, 1, 0.2), aa_mean[:, i], aa_err[:, i], label = method[i])\n",
    "    ax2.errorbar(np.arange(0, 1, 0.2), cf_mean[:, i], cf_err[:, i])\n",
    "    ax3.errorbar(np.arange(0, 1, 0.2), acc2_mean[:, i], acc2_err[:, i])\n",
    "ax1.set_xlabel(\"Historical disadvantage $\\\\lambda$\")\n",
    "ax1.set_ylabel(\"AA-fairness\")\n",
    "ax2.set_xlabel(\"Historical disadvantage $\\\\lambda$\")\n",
    "ax2.set_ylabel(\"CF-metric\")\n",
    "ax3.set_xlabel(\"Historical disadvantage $\\\\lambda$\")\n",
    "ax3.set_ylabel(\"Test acc.\")\n",
    "f.legend(bbox_to_anchor=(0.5,1.02), loc=\"lower center\", borderaxespad=0, ncol=6)\n",
    "plt.show()"
   ]
  },
  {
   "cell_type": "code",
   "execution_count": 23,
   "metadata": {
    "ExecuteTime": {
     "end_time": "2020-03-31T23:11:47.737014Z",
     "start_time": "2020-03-31T23:11:47.727475Z"
    }
   },
   "outputs": [
    {
     "data": {
      "text/plain": [
       "array([[ 2.93816646e-01,  2.00301205e-01,  7.57521432e-02,\n",
       "        -5.90621725e-03, -3.44537536e-04, -3.41439912e-04],\n",
       "       [ 3.14601002e-01,  1.86259739e-01,  9.64448023e-02,\n",
       "        -6.16483020e-03, -3.75050476e-04, -3.70413344e-04],\n",
       "       [ 3.33022397e-01,  1.64212379e-01,  1.15039189e-01,\n",
       "        -6.62534889e-03, -3.82289866e-04, -3.76505272e-04],\n",
       "       [ 3.50423027e-01,  1.58331792e-01,  1.35537206e-01,\n",
       "        -7.03998225e-03, -3.95273175e-04, -3.87829294e-04],\n",
       "       [ 3.65697566e-01,  1.86331914e-01,  1.53626276e-01,\n",
       "        -7.38091897e-03, -3.97887040e-04, -3.89024393e-04]])"
      ]
     },
     "execution_count": 23,
     "metadata": {},
     "output_type": "execute_result"
    }
   ],
   "source": [
    "aa_mean"
   ]
  },
  {
   "cell_type": "markdown",
   "metadata": {},
   "source": [
    "## Utility"
   ]
  },
  {
   "cell_type": "code",
   "execution_count": 38,
   "metadata": {
    "ExecuteTime": {
     "end_time": "2020-04-21T15:43:43.039619Z",
     "start_time": "2020-04-21T15:43:40.598576Z"
    }
   },
   "outputs": [],
   "source": [
    "def heatmap(data, row_labels, col_labels, ax=None,\n",
    "            cbar_kw={}, cbarlabel=\"\", row_label=\"\", col_label=\"\", **kwargs):\n",
    "    \"\"\"\n",
    "    Create a heatmap from a numpy array and two lists of labels.\n",
    "\n",
    "    Parameters\n",
    "    ----------\n",
    "    data\n",
    "        A 2D numpy array of shape (N, M).\n",
    "    row_labels\n",
    "        A list or array of length N with the labels for the rows.\n",
    "    col_labels\n",
    "        A list or array of length M with the labels for the columns.\n",
    "    ax\n",
    "        A `matplotlib.axes.Axes` instance to which the heatmap is plotted.  If\n",
    "        not provided, use current axes or create a new one.  Optional.\n",
    "    cbar_kw\n",
    "        A dictionary with arguments to `matplotlib.Figure.colorbar`.  Optional.\n",
    "    cbarlabel\n",
    "        The label for the colorbar.  Optional.\n",
    "    **kwargs\n",
    "        All other arguments are forwarded to `imshow`.\n",
    "    \"\"\"\n",
    "\n",
    "    if not ax:\n",
    "        ax = plt.gca()\n",
    "\n",
    "    # Plot the heatmap\n",
    "    im = ax.imshow(data, **kwargs)\n",
    "\n",
    "    # Create colorbar\n",
    "    cbar = ax.figure.colorbar(im, ax=ax, **cbar_kw)\n",
    "    cbar.ax.set_ylabel(cbarlabel, rotation=-90, va=\"bottom\")\n",
    "\n",
    "    # We want to show all ticks...\n",
    "    ax.set_xticks(np.arange(data.shape[1]))\n",
    "    ax.set_yticks(np.arange(data.shape[0]))\n",
    "    # ... and label them with the respective list entries.\n",
    "    ax.set_xticklabels(col_labels)\n",
    "    ax.set_yticklabels(row_labels)\n",
    "    ax.set_xlabel(col_label)\n",
    "    ax.set_ylabel(row_label)\n",
    "\n",
    "    # Turn spines off and create white grid.\n",
    "    for edge, spine in ax.spines.items():\n",
    "        spine.set_visible(False)\n",
    "\n",
    "    ax.set_xticks(np.arange(data.shape[1]+1)-.5, minor=True)\n",
    "    ax.set_yticks(np.arange(data.shape[0]+1)-.5, minor=True)\n",
    "    ax.grid(which=\"minor\", color=\"w\", linestyle='-', linewidth=3)\n",
    "    ax.tick_params(which=\"minor\", bottom=False, left=False)\n",
    "\n",
    "    return im, cbar\n",
    "\n",
    "\n",
    "def annotate_heatmap(im, data=None, valfmt=\"{x:.2f}\",\n",
    "                     textcolors=(\"black\", \"white\"),\n",
    "                     threshold=None, **textkw):\n",
    "    \"\"\"\n",
    "    A function to annotate a heatmap.\n",
    "\n",
    "    Parameters\n",
    "    ----------\n",
    "    im\n",
    "        The AxesImage to be labeled.\n",
    "    data\n",
    "        Data used to annotate.  If None, the image's data is used.  Optional.\n",
    "    valfmt\n",
    "        The format of the annotations inside the heatmap.  This should either\n",
    "        use the string format method, e.g. \"$ {x:.2f}\", or be a\n",
    "        `matplotlib.ticker.Formatter`.  Optional.\n",
    "    textcolors\n",
    "        A pair of colors.  The first is used for values below a threshold,\n",
    "        the second for those above.  Optional.\n",
    "    threshold\n",
    "        Value in data units according to which the colors from textcolors are\n",
    "        applied.  If None (the default) uses the middle of the colormap as\n",
    "        separation.  Optional.\n",
    "    **kwargs\n",
    "        All other arguments are forwarded to each call to `text` used to create\n",
    "        the text labels.\n",
    "    \"\"\"\n",
    "\n",
    "    if not isinstance(data, (list, np.ndarray)):\n",
    "        data = im.get_array()\n",
    "\n",
    "    # Normalize the threshold to the images color range.\n",
    "    if threshold is not None:\n",
    "        threshold = im.norm(threshold)\n",
    "    else:\n",
    "        threshold = im.norm(np.nanmax(data))/2.\n",
    "\n",
    "    # Set default alignment to center, but allow it to be\n",
    "    # overwritten by textkw.\n",
    "    kw = dict(horizontalalignment=\"center\",\n",
    "              verticalalignment=\"center\")\n",
    "    kw.update(textkw)\n",
    "\n",
    "    # Get the formatter in case a string is supplied\n",
    "    if isinstance(valfmt, str):\n",
    "        valfmt = matplotlib.ticker.StrMethodFormatter(valfmt)\n",
    "\n",
    "    # Loop over the data and create a `Text` for each \"pixel\".\n",
    "    # Change the text's color depending on the data.\n",
    "    texts = []\n",
    "    for i in range(data.shape[0]):\n",
    "        for j in range(data.shape[1]):\n",
    "            if data[i, j] is np.ma.masked:\n",
    "                text = im.axes.text(j, i, 'None', **kw)\n",
    "            else:\n",
    "                kw.update(color=textcolors[int(im.norm(data[i, j]) > threshold)])\n",
    "                text = im.axes.text(j, i, valfmt(data[i, j], None), **kw)\n",
    "            texts.append(text)\n",
    "\n",
    "    return texts"
   ]
  },
  {
   "cell_type": "code",
   "execution_count": null,
   "metadata": {},
   "outputs": [],
   "source": []
  }
 ],
 "metadata": {
  "kernelspec": {
   "display_name": "py38",
   "language": "python",
   "name": "py38"
  },
  "language_info": {
   "codemirror_mode": {
    "name": "ipython",
    "version": 3
   },
   "file_extension": ".py",
   "mimetype": "text/x-python",
   "name": "python",
   "nbconvert_exporter": "python",
   "pygments_lexer": "ipython3",
   "version": "3.8.2"
  },
  "toc": {
   "base_numbering": 1,
   "nav_menu": {
    "height": "12px",
    "width": "160px"
   },
   "number_sections": true,
   "sideBar": true,
   "skip_h1_title": false,
   "title_cell": "Table of Contents",
   "title_sidebar": "Contents",
   "toc_cell": false,
   "toc_position": {
    "height": "calc(100% - 180px)",
    "left": "10px",
    "top": "150px",
    "width": "256px"
   },
   "toc_section_display": true,
   "toc_window_display": true
  },
  "varInspector": {
   "cols": {
    "lenName": 16,
    "lenType": 16,
    "lenVar": 40
   },
   "kernels_config": {
    "python": {
     "delete_cmd_postfix": "",
     "delete_cmd_prefix": "del ",
     "library": "var_list.py",
     "varRefreshCmd": "print(var_dic_list())"
    },
    "r": {
     "delete_cmd_postfix": ") ",
     "delete_cmd_prefix": "rm(",
     "library": "var_list.r",
     "varRefreshCmd": "cat(var_dic_list()) "
    }
   },
   "types_to_exclude": [
    "module",
    "function",
    "builtin_function_or_method",
    "instance",
    "_Feature"
   ],
   "window_display": false
  }
 },
 "nbformat": 4,
 "nbformat_minor": 2
}
