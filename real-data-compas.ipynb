{
 "cells": [
  {
   "cell_type": "code",
   "execution_count": 1,
   "metadata": {},
   "outputs": [],
   "source": [
    "import pandas as pd\n",
    "import numpy as np\n",
    "import statsmodels.api as sm\n",
    "import matplotlib.pyplot as plt\n",
    "import seaborn as sns\n",
    "from sklearn.preprocessing import LabelEncoder, StandardScaler\n",
    "from sklearn.decomposition import PCA\n",
    "from sklearn.model_selection import train_test_split\n",
    "from fairdata import FairData"
   ]
  },
  {
   "cell_type": "code",
   "execution_count": 2,
   "metadata": {},
   "outputs": [],
   "source": [
    "df_raw = pd.read_csv('data/COMPAS/compas-scores-two-years.csv')\n",
    "df_raw = df_raw.loc[:,[\n",
    "    'sex', 'race', 'age', 'juv_fel_count','juv_misd_count',\n",
    "    'juv_other_count', 'priors_count', 'two_year_recid'\n",
    "]]\n",
    "df_raw = df_raw.loc[df_raw['race'].isin(['African-American', 'Caucasian', 'Hispanic']), :]"
   ]
  },
  {
   "cell_type": "code",
   "execution_count": 3,
   "metadata": {},
   "outputs": [
    {
     "data": {
      "text/html": [
       "<div>\n",
       "<style scoped>\n",
       "    .dataframe tbody tr th:only-of-type {\n",
       "        vertical-align: middle;\n",
       "    }\n",
       "\n",
       "    .dataframe tbody tr th {\n",
       "        vertical-align: top;\n",
       "    }\n",
       "\n",
       "    .dataframe thead th {\n",
       "        text-align: right;\n",
       "    }\n",
       "</style>\n",
       "<table border=\"1\" class=\"dataframe\">\n",
       "  <thead>\n",
       "    <tr style=\"text-align: right;\">\n",
       "      <th></th>\n",
       "      <th>sex</th>\n",
       "      <th>race</th>\n",
       "      <th>age</th>\n",
       "      <th>juv_fel_count</th>\n",
       "      <th>juv_misd_count</th>\n",
       "      <th>juv_other_count</th>\n",
       "      <th>priors_count</th>\n",
       "      <th>two_year_recid</th>\n",
       "    </tr>\n",
       "  </thead>\n",
       "  <tbody>\n",
       "    <tr>\n",
       "      <th>1</th>\n",
       "      <td>Male</td>\n",
       "      <td>African-American</td>\n",
       "      <td>34</td>\n",
       "      <td>0</td>\n",
       "      <td>0</td>\n",
       "      <td>0</td>\n",
       "      <td>0</td>\n",
       "      <td>1</td>\n",
       "    </tr>\n",
       "    <tr>\n",
       "      <th>2</th>\n",
       "      <td>Male</td>\n",
       "      <td>African-American</td>\n",
       "      <td>24</td>\n",
       "      <td>0</td>\n",
       "      <td>0</td>\n",
       "      <td>1</td>\n",
       "      <td>4</td>\n",
       "      <td>1</td>\n",
       "    </tr>\n",
       "    <tr>\n",
       "      <th>3</th>\n",
       "      <td>Male</td>\n",
       "      <td>African-American</td>\n",
       "      <td>23</td>\n",
       "      <td>0</td>\n",
       "      <td>1</td>\n",
       "      <td>0</td>\n",
       "      <td>1</td>\n",
       "      <td>0</td>\n",
       "    </tr>\n",
       "    <tr>\n",
       "      <th>6</th>\n",
       "      <td>Male</td>\n",
       "      <td>Caucasian</td>\n",
       "      <td>41</td>\n",
       "      <td>0</td>\n",
       "      <td>0</td>\n",
       "      <td>0</td>\n",
       "      <td>14</td>\n",
       "      <td>1</td>\n",
       "    </tr>\n",
       "    <tr>\n",
       "      <th>8</th>\n",
       "      <td>Female</td>\n",
       "      <td>Caucasian</td>\n",
       "      <td>39</td>\n",
       "      <td>0</td>\n",
       "      <td>0</td>\n",
       "      <td>0</td>\n",
       "      <td>0</td>\n",
       "      <td>0</td>\n",
       "    </tr>\n",
       "    <tr>\n",
       "      <th>...</th>\n",
       "      <td>...</td>\n",
       "      <td>...</td>\n",
       "      <td>...</td>\n",
       "      <td>...</td>\n",
       "      <td>...</td>\n",
       "      <td>...</td>\n",
       "      <td>...</td>\n",
       "      <td>...</td>\n",
       "    </tr>\n",
       "    <tr>\n",
       "      <th>7208</th>\n",
       "      <td>Male</td>\n",
       "      <td>African-American</td>\n",
       "      <td>20</td>\n",
       "      <td>0</td>\n",
       "      <td>0</td>\n",
       "      <td>0</td>\n",
       "      <td>0</td>\n",
       "      <td>0</td>\n",
       "    </tr>\n",
       "    <tr>\n",
       "      <th>7209</th>\n",
       "      <td>Male</td>\n",
       "      <td>African-American</td>\n",
       "      <td>23</td>\n",
       "      <td>0</td>\n",
       "      <td>0</td>\n",
       "      <td>0</td>\n",
       "      <td>0</td>\n",
       "      <td>0</td>\n",
       "    </tr>\n",
       "    <tr>\n",
       "      <th>7210</th>\n",
       "      <td>Male</td>\n",
       "      <td>African-American</td>\n",
       "      <td>23</td>\n",
       "      <td>0</td>\n",
       "      <td>0</td>\n",
       "      <td>0</td>\n",
       "      <td>0</td>\n",
       "      <td>0</td>\n",
       "    </tr>\n",
       "    <tr>\n",
       "      <th>7212</th>\n",
       "      <td>Female</td>\n",
       "      <td>African-American</td>\n",
       "      <td>33</td>\n",
       "      <td>0</td>\n",
       "      <td>0</td>\n",
       "      <td>0</td>\n",
       "      <td>3</td>\n",
       "      <td>0</td>\n",
       "    </tr>\n",
       "    <tr>\n",
       "      <th>7213</th>\n",
       "      <td>Female</td>\n",
       "      <td>Hispanic</td>\n",
       "      <td>23</td>\n",
       "      <td>0</td>\n",
       "      <td>0</td>\n",
       "      <td>0</td>\n",
       "      <td>2</td>\n",
       "      <td>1</td>\n",
       "    </tr>\n",
       "  </tbody>\n",
       "</table>\n",
       "<p>6787 rows × 8 columns</p>\n",
       "</div>"
      ],
      "text/plain": [
       "         sex              race  age  juv_fel_count  juv_misd_count  \\\n",
       "1       Male  African-American   34              0               0   \n",
       "2       Male  African-American   24              0               0   \n",
       "3       Male  African-American   23              0               1   \n",
       "6       Male         Caucasian   41              0               0   \n",
       "8     Female         Caucasian   39              0               0   \n",
       "...      ...               ...  ...            ...             ...   \n",
       "7208    Male  African-American   20              0               0   \n",
       "7209    Male  African-American   23              0               0   \n",
       "7210    Male  African-American   23              0               0   \n",
       "7212  Female  African-American   33              0               0   \n",
       "7213  Female          Hispanic   23              0               0   \n",
       "\n",
       "      juv_other_count  priors_count  two_year_recid  \n",
       "1                   0             0               1  \n",
       "2                   1             4               1  \n",
       "3                   0             1               0  \n",
       "6                   0            14               1  \n",
       "8                   0             0               0  \n",
       "...               ...           ...             ...  \n",
       "7208                0             0               0  \n",
       "7209                0             0               0  \n",
       "7210                0             0               0  \n",
       "7212                0             3               0  \n",
       "7213                0             2               1  \n",
       "\n",
       "[6787 rows x 8 columns]"
      ]
     },
     "execution_count": 3,
     "metadata": {},
     "output_type": "execute_result"
    }
   ],
   "source": [
    "df_raw"
   ]
  },
  {
   "cell_type": "code",
   "execution_count": 3,
   "metadata": {},
   "outputs": [],
   "source": [
    "# Encode categorical variables\n",
    "categorical = ['sex', 'race']\n",
    "for feature in categorical:\n",
    "    le = LabelEncoder()\n",
    "    df_raw[feature] = le.fit_transform(df_raw[feature])\n",
    "a = df_raw.drop(['sex', 'race', 'two_year_recid'], axis=1)\n",
    "s = pd.DataFrame({'race-sex': df_raw.race * 2 + df_raw.sex})\n",
    "y = pd.DataFrame({'two_year_recid': df_raw['two_year_recid']})"
   ]
  },
  {
   "cell_type": "code",
   "execution_count": 4,
   "metadata": {},
   "outputs": [
    {
     "data": {
      "text/html": [
       "<div>\n",
       "<style scoped>\n",
       "    .dataframe tbody tr th:only-of-type {\n",
       "        vertical-align: middle;\n",
       "    }\n",
       "\n",
       "    .dataframe tbody tr th {\n",
       "        vertical-align: top;\n",
       "    }\n",
       "\n",
       "    .dataframe thead th {\n",
       "        text-align: right;\n",
       "    }\n",
       "</style>\n",
       "<table border=\"1\" class=\"dataframe\">\n",
       "  <thead>\n",
       "    <tr style=\"text-align: right;\">\n",
       "      <th></th>\n",
       "      <th>age</th>\n",
       "      <th>juv_fel_count</th>\n",
       "      <th>juv_misd_count</th>\n",
       "      <th>juv_other_count</th>\n",
       "      <th>priors_count</th>\n",
       "    </tr>\n",
       "  </thead>\n",
       "  <tbody>\n",
       "    <tr>\n",
       "      <th>0</th>\n",
       "      <td>-0.596519</td>\n",
       "      <td>0.429056</td>\n",
       "      <td>0.061913</td>\n",
       "      <td>0.000674</td>\n",
       "      <td>0.308648</td>\n",
       "    </tr>\n",
       "    <tr>\n",
       "      <th>1</th>\n",
       "      <td>0.962933</td>\n",
       "      <td>1.163002</td>\n",
       "      <td>-0.443991</td>\n",
       "      <td>0.970232</td>\n",
       "      <td>-0.761187</td>\n",
       "    </tr>\n",
       "    <tr>\n",
       "      <th>2</th>\n",
       "      <td>0.929383</td>\n",
       "      <td>1.031140</td>\n",
       "      <td>-0.217031</td>\n",
       "      <td>-1.391831</td>\n",
       "      <td>0.936699</td>\n",
       "    </tr>\n",
       "    <tr>\n",
       "      <th>3</th>\n",
       "      <td>0.548070</td>\n",
       "      <td>-1.669156</td>\n",
       "      <td>-0.304386</td>\n",
       "      <td>-0.308827</td>\n",
       "      <td>-1.258837</td>\n",
       "    </tr>\n",
       "    <tr>\n",
       "      <th>4</th>\n",
       "      <td>-0.686701</td>\n",
       "      <td>0.121587</td>\n",
       "      <td>-0.060447</td>\n",
       "      <td>0.156054</td>\n",
       "      <td>0.494724</td>\n",
       "    </tr>\n",
       "  </tbody>\n",
       "</table>\n",
       "</div>"
      ],
      "text/plain": [
       "        age  juv_fel_count  juv_misd_count  juv_other_count  priors_count\n",
       "0 -0.596519       0.429056        0.061913         0.000674      0.308648\n",
       "1  0.962933       1.163002       -0.443991         0.970232     -0.761187\n",
       "2  0.929383       1.031140       -0.217031        -1.391831      0.936699\n",
       "3  0.548070      -1.669156       -0.304386        -0.308827     -1.258837\n",
       "4 -0.686701       0.121587       -0.060447         0.156054      0.494724"
      ]
     },
     "execution_count": 4,
     "metadata": {},
     "output_type": "execute_result"
    }
   ],
   "source": [
    "# Feature scaling\n",
    "scaler = StandardScaler()\n",
    "a = pd.DataFrame(scaler.fit_transform(a), columns=a.columns)\n",
    "pca = PCA()\n",
    "a = pd.DataFrame(pca.fit_transform(a), columns=a.columns)\n",
    "a.head()"
   ]
  },
  {
   "cell_type": "code",
   "execution_count": 5,
   "metadata": {},
   "outputs": [],
   "source": [
    "# Split data into separate training and test set\n",
    "a_train, a_test, s_train, s_test, y_train, y_test = \\\n",
    "    train_test_split(a, s, y, test_size = 0.25, random_state = 0)"
   ]
  },
  {
   "cell_type": "code",
   "execution_count": 6,
   "metadata": {},
   "outputs": [],
   "source": [
    "fairdata_ortho = FairData(s_train, a_train, y_train, preprocess_method='o')\n",
    "fairdata_mdm = FairData(s_train, a_train, y_train, preprocess_method='m')"
   ]
  },
  {
   "cell_type": "code",
   "execution_count": 7,
   "metadata": {},
   "outputs": [
    {
     "data": {
      "text/html": [
       "<div>\n",
       "<style scoped>\n",
       "    .dataframe tbody tr th:only-of-type {\n",
       "        vertical-align: middle;\n",
       "    }\n",
       "\n",
       "    .dataframe tbody tr th {\n",
       "        vertical-align: top;\n",
       "    }\n",
       "\n",
       "    .dataframe thead th {\n",
       "        text-align: right;\n",
       "    }\n",
       "</style>\n",
       "<table border=\"1\" class=\"dataframe\">\n",
       "  <thead>\n",
       "    <tr style=\"text-align: right;\">\n",
       "      <th></th>\n",
       "      <th>ML</th>\n",
       "      <th>FTU</th>\n",
       "      <th>FL</th>\n",
       "      <th>AA</th>\n",
       "      <th>FLAP-1</th>\n",
       "      <th>FLAP-2</th>\n",
       "    </tr>\n",
       "  </thead>\n",
       "  <tbody>\n",
       "    <tr>\n",
       "      <th>CF</th>\n",
       "      <td>0.227366</td>\n",
       "      <td>0.140649</td>\n",
       "      <td>0.005434</td>\n",
       "      <td>0.005982</td>\n",
       "      <td>0.002579</td>\n",
       "      <td>0.002674</td>\n",
       "    </tr>\n",
       "    <tr>\n",
       "      <th>CFBM</th>\n",
       "      <td>0.601561</td>\n",
       "      <td>0.581854</td>\n",
       "      <td>0.497138</td>\n",
       "      <td>0.497669</td>\n",
       "      <td>0.407372</td>\n",
       "      <td>0.403314</td>\n",
       "    </tr>\n",
       "    <tr>\n",
       "      <th>ACC</th>\n",
       "      <td>0.574430</td>\n",
       "      <td>0.572642</td>\n",
       "      <td>0.559839</td>\n",
       "      <td>0.560940</td>\n",
       "      <td>0.560712</td>\n",
       "      <td>0.560662</td>\n",
       "    </tr>\n",
       "  </tbody>\n",
       "</table>\n",
       "</div>"
      ],
      "text/plain": [
       "            ML       FTU        FL        AA    FLAP-1    FLAP-2\n",
       "CF    0.227366  0.140649  0.005434  0.005982  0.002579  0.002674\n",
       "CFBM  0.601561  0.581854  0.497138  0.497669  0.407372  0.403314\n",
       "ACC   0.574430  0.572642  0.559839  0.560940  0.560712  0.560662"
      ]
     },
     "execution_count": 7,
     "metadata": {},
     "output_type": "execute_result"
    }
   ],
   "source": [
    "fairdata_mdm_eval = fairdata_mdm.evaluate(\n",
    "    a_test, s_test, y_test, metrics=['cf', 'cfbm', 'acc'], p_range=0.05, b=50\n",
    ")\n",
    "pd.DataFrame(fairdata_mdm_eval, index=['CF', 'CFBM', 'ACC'], columns=['ML', 'FTU', 'FL', 'AA', 'FLAP-1', 'FLAP-2'])"
   ]
  },
  {
   "cell_type": "code",
   "execution_count": 8,
   "metadata": {},
   "outputs": [
    {
     "data": {
      "text/html": [
       "<div>\n",
       "<style scoped>\n",
       "    .dataframe tbody tr th:only-of-type {\n",
       "        vertical-align: middle;\n",
       "    }\n",
       "\n",
       "    .dataframe tbody tr th {\n",
       "        vertical-align: top;\n",
       "    }\n",
       "\n",
       "    .dataframe thead th {\n",
       "        text-align: right;\n",
       "    }\n",
       "</style>\n",
       "<table border=\"1\" class=\"dataframe\">\n",
       "  <thead>\n",
       "    <tr style=\"text-align: right;\">\n",
       "      <th></th>\n",
       "      <th>FLAP-1</th>\n",
       "      <th>FLAP-2</th>\n",
       "    </tr>\n",
       "  </thead>\n",
       "  <tbody>\n",
       "    <tr>\n",
       "      <th>CF</th>\n",
       "      <td>0.005846</td>\n",
       "      <td>0.005434</td>\n",
       "    </tr>\n",
       "    <tr>\n",
       "      <th>CFBM</th>\n",
       "      <td>0.483640</td>\n",
       "      <td>0.483532</td>\n",
       "    </tr>\n",
       "    <tr>\n",
       "      <th>ACC</th>\n",
       "      <td>0.560502</td>\n",
       "      <td>0.559839</td>\n",
       "    </tr>\n",
       "  </tbody>\n",
       "</table>\n",
       "</div>"
      ],
      "text/plain": [
       "        FLAP-1    FLAP-2\n",
       "CF    0.005846  0.005434\n",
       "CFBM  0.483640  0.483532\n",
       "ACC   0.560502  0.559839"
      ]
     },
     "execution_count": 8,
     "metadata": {},
     "output_type": "execute_result"
    }
   ],
   "source": [
    "fairdata_ortho_eval = fairdata_ortho.evaluate(\n",
    "    a_test, s_test, y_test, metrics=['cf', 'cfbm', 'acc'], methods=['FLAP-1', 'FLAP-2'], p_range=0.05, b=50\n",
    ")\n",
    "pd.DataFrame(fairdata_ortho_eval, index=['CF', 'CFBM', 'ACC'], columns=['FLAP-1', 'FLAP-2'])"
   ]
  },
  {
   "cell_type": "code",
   "execution_count": 16,
   "metadata": {},
   "outputs": [],
   "source": [
    "M = 50\n",
    "res = np.empty((M, 3, 8))\n",
    "for i in range(M):\n",
    "    a_train, a_test, s_train, s_test, y_train, y_test = train_test_split(a, s, y, test_size = 0.25, random_state = i)\n",
    "    fairdata_ortho = FairData(s_train, a_train, y_train, preprocess_method='o')\n",
    "    fairdata_mdm = FairData(s_train, a_train, y_train, preprocess_method='m')\n",
    "    fairdata_mdm_eval = fairdata_mdm.evaluate(\n",
    "        a_test, s_test, y_test, metrics=['cf', 'cfbm', 'acc'], p_range=0.05, b=50\n",
    "    )\n",
    "    fairdata_ortho_eval = fairdata_ortho.evaluate(\n",
    "        a_test, s_test, y_test, metrics=['cf', 'cfbm', 'acc'], methods=['FLAP-1', 'FLAP-2'], p_range=0.05, b=50\n",
    "    )\n",
    "    res[i] = np.concatenate([np.array(fairdata_mdm_eval), np.array(fairdata_ortho_eval)], axis=1)"
   ]
  },
  {
   "cell_type": "code",
   "execution_count": 20,
   "metadata": {},
   "outputs": [
    {
     "data": {
      "text/plain": [
       "array([[0.232 , 0.1422, 0.005 , 0.0054, 0.0032, 0.0032, 0.0053, 0.005 ],\n",
       "       [0.6284, 0.5845, 0.483 , 0.4868, 0.4712, 0.469 , 0.4863, 0.4836],\n",
       "       [0.5726, 0.5708, 0.559 , 0.5602, 0.5602, 0.5602, 0.5596, 0.559 ]])"
      ]
     },
     "execution_count": 20,
     "metadata": {},
     "output_type": "execute_result"
    }
   ],
   "source": [
    "res.mean(0).round(4)"
   ]
  },
  {
   "cell_type": "code",
   "execution_count": 22,
   "metadata": {},
   "outputs": [
    {
     "data": {
      "text/plain": [
       "array([[0.0233, 0.006 , 0.0014, 0.0016, 0.0011, 0.0011, 0.0015, 0.0014],\n",
       "       [0.0329, 0.0261, 0.0291, 0.0274, 0.0989, 0.0971, 0.0306, 0.0313],\n",
       "       [0.0025, 0.0025, 0.0026, 0.0027, 0.0026, 0.0025, 0.0026, 0.0026]])"
      ]
     },
     "execution_count": 22,
     "metadata": {},
     "output_type": "execute_result"
    }
   ],
   "source": [
    "res.std(0).round(4)"
   ]
  },
  {
   "cell_type": "code",
   "execution_count": 23,
   "metadata": {},
   "outputs": [],
   "source": [
    "M = 100\n",
    "res = np.empty((M, 3, 8))\n",
    "for i in range(M):\n",
    "    a_train, a_test, s_train, s_test, y_train, y_test = train_test_split(a, s, y, test_size = 0.25, random_state = i)\n",
    "    fairdata_ortho = FairData(s_train, a_train, y_train, preprocess_method='o')\n",
    "    fairdata_mdm = FairData(s_train, a_train, y_train, preprocess_method='m')\n",
    "    fairdata_mdm_eval = fairdata_mdm.evaluate(\n",
    "        a_test, s_test, y_test, metrics=['cf', 'cfbm', 'acc'], p_range=0.05, b=50\n",
    "    )\n",
    "    fairdata_ortho_eval = fairdata_ortho.evaluate(\n",
    "        a_test, s_test, y_test, metrics=['cf', 'cfbm', 'acc'], methods=['FLAP-1', 'FLAP-2'], p_range=0.05, b=50\n",
    "    )\n",
    "    res[i] = np.concatenate([np.array(fairdata_mdm_eval), np.array(fairdata_ortho_eval)], axis=1)"
   ]
  },
  {
   "cell_type": "code",
   "execution_count": 24,
   "metadata": {},
   "outputs": [
    {
     "data": {
      "text/plain": [
       "array([[0.22655057, 0.14256565, 0.00509212, 0.00556072, 0.00317185,\n",
       "        0.0031482 , 0.00544859, 0.00509212],\n",
       "       [0.6229532 , 0.58129694, 0.48352854, 0.48691282, 0.4697829 ,\n",
       "        0.4668709 , 0.48773714, 0.4857512 ],\n",
       "       [0.57270307, 0.5709573 , 0.55904449, 0.56019371, 0.5603844 ,\n",
       "        0.56036345, 0.55968109, 0.55904449]])"
      ]
     },
     "execution_count": 24,
     "metadata": {},
     "output_type": "execute_result"
    }
   ],
   "source": [
    "res.mean(0)"
   ]
  },
  {
   "cell_type": "code",
   "execution_count": 25,
   "metadata": {},
   "outputs": [
    {
     "data": {
      "text/plain": [
       "array([[0.02179771, 0.00612776, 0.0013446 , 0.00149793, 0.00111465,\n",
       "        0.00107077, 0.00147696, 0.0013446 ],\n",
       "       [0.03366477, 0.02786099, 0.02951618, 0.02904584, 0.09277728,\n",
       "        0.09199843, 0.03050259, 0.03094969],\n",
       "       [0.00237429, 0.00239737, 0.00242831, 0.00251793, 0.00248421,\n",
       "        0.00247472, 0.00246172, 0.00242831]])"
      ]
     },
     "execution_count": 25,
     "metadata": {},
     "output_type": "execute_result"
    }
   ],
   "source": [
    "res.std(0)"
   ]
  }
 ],
 "metadata": {
  "kernelspec": {
   "display_name": "Python 3.8.5 ('stats')",
   "language": "python",
   "name": "python3"
  },
  "language_info": {
   "codemirror_mode": {
    "name": "ipython",
    "version": 3
   },
   "file_extension": ".py",
   "mimetype": "text/x-python",
   "name": "python",
   "nbconvert_exporter": "python",
   "pygments_lexer": "ipython3",
   "version": "3.8.5"
  },
  "orig_nbformat": 2,
  "vscode": {
   "interpreter": {
    "hash": "fa28af487948e81be38bd9c8b1a00fdc1d0bcbc43031ec7f44fdac6e1f398433"
   }
  }
 },
 "nbformat": 4,
 "nbformat_minor": 2
}
