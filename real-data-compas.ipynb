{
 "metadata": {
  "language_info": {
   "codemirror_mode": {
    "name": "ipython",
    "version": 3
   },
   "file_extension": ".py",
   "mimetype": "text/x-python",
   "name": "python",
   "nbconvert_exporter": "python",
   "pygments_lexer": "ipython3",
   "version": "3.8.5-final"
  },
  "orig_nbformat": 2,
  "kernelspec": {
   "name": "python3",
   "display_name": "Python 3",
   "language": "python"
  }
 },
 "nbformat": 4,
 "nbformat_minor": 2,
 "cells": [
  {
   "cell_type": "code",
   "execution_count": 1,
   "metadata": {},
   "outputs": [],
   "source": [
    "import pandas as pd\n",
    "import numpy as np\n",
    "import statsmodels.api as sm\n",
    "import matplotlib.pyplot as plt\n",
    "import seaborn as sns\n",
    "from sklearn.preprocessing import LabelEncoder, StandardScaler\n",
    "from sklearn.decomposition import PCA\n",
    "from sklearn.model_selection import train_test_split\n",
    "from fairdata import FairData"
   ]
  },
  {
   "cell_type": "code",
   "execution_count": 2,
   "metadata": {},
   "outputs": [],
   "source": [
    "df_raw = pd.read_csv('data/COMPAS/compas-scores-two-years.csv')\n",
    "df_raw = df_raw.loc[:,[\n",
    "    'sex', 'race', 'age', 'juv_fel_count','juv_misd_count',\n",
    "    'juv_other_count', 'priors_count', 'two_year_recid'\n",
    "]]\n",
    "df_raw = df_raw.loc[df_raw['race'].isin(['African-American', 'Caucasian', 'Hispanic']), :]"
   ]
  },
  {
   "cell_type": "code",
   "execution_count": 3,
   "metadata": {},
   "outputs": [],
   "source": [
    "# Encode categorical variables\n",
    "categorical = ['sex', 'race']\n",
    "for feature in categorical:\n",
    "    le = LabelEncoder()\n",
    "    df_raw[feature] = le.fit_transform(df_raw[feature])\n",
    "a = df_raw.drop(['sex', 'race', 'two_year_recid'], axis=1)\n",
    "s = pd.DataFrame({'race-sex': df_raw.race * 2 + df_raw.sex})\n",
    "y = pd.DataFrame({'two_year_recid': df_raw['two_year_recid']})"
   ]
  },
  {
   "cell_type": "code",
   "execution_count": 4,
   "metadata": {},
   "outputs": [
    {
     "output_type": "execute_result",
     "data": {
      "text/plain": [
       "        age  juv_fel_count  juv_misd_count  juv_other_count  priors_count\n",
       "0 -0.596519       0.429056        0.061913         0.000674      0.308648\n",
       "1  0.962933       1.163002       -0.443991         0.970232     -0.761187\n",
       "2  0.929383       1.031140       -0.217031        -1.391831      0.936699\n",
       "3  0.548070      -1.669156       -0.304386        -0.308827     -1.258837\n",
       "4 -0.686701       0.121587       -0.060447         0.156054      0.494724"
      ],
      "text/html": "<div>\n<style scoped>\n    .dataframe tbody tr th:only-of-type {\n        vertical-align: middle;\n    }\n\n    .dataframe tbody tr th {\n        vertical-align: top;\n    }\n\n    .dataframe thead th {\n        text-align: right;\n    }\n</style>\n<table border=\"1\" class=\"dataframe\">\n  <thead>\n    <tr style=\"text-align: right;\">\n      <th></th>\n      <th>age</th>\n      <th>juv_fel_count</th>\n      <th>juv_misd_count</th>\n      <th>juv_other_count</th>\n      <th>priors_count</th>\n    </tr>\n  </thead>\n  <tbody>\n    <tr>\n      <th>0</th>\n      <td>-0.596519</td>\n      <td>0.429056</td>\n      <td>0.061913</td>\n      <td>0.000674</td>\n      <td>0.308648</td>\n    </tr>\n    <tr>\n      <th>1</th>\n      <td>0.962933</td>\n      <td>1.163002</td>\n      <td>-0.443991</td>\n      <td>0.970232</td>\n      <td>-0.761187</td>\n    </tr>\n    <tr>\n      <th>2</th>\n      <td>0.929383</td>\n      <td>1.031140</td>\n      <td>-0.217031</td>\n      <td>-1.391831</td>\n      <td>0.936699</td>\n    </tr>\n    <tr>\n      <th>3</th>\n      <td>0.548070</td>\n      <td>-1.669156</td>\n      <td>-0.304386</td>\n      <td>-0.308827</td>\n      <td>-1.258837</td>\n    </tr>\n    <tr>\n      <th>4</th>\n      <td>-0.686701</td>\n      <td>0.121587</td>\n      <td>-0.060447</td>\n      <td>0.156054</td>\n      <td>0.494724</td>\n    </tr>\n  </tbody>\n</table>\n</div>"
     },
     "metadata": {},
     "execution_count": 4
    }
   ],
   "source": [
    "# Feature scaling\n",
    "scaler = StandardScaler()\n",
    "a = pd.DataFrame(scaler.fit_transform(a), columns=a.columns)\n",
    "pca = PCA()\n",
    "a = pd.DataFrame(pca.fit_transform(a), columns=a.columns)\n",
    "a.head()"
   ]
  },
  {
   "cell_type": "code",
   "execution_count": 5,
   "metadata": {},
   "outputs": [],
   "source": [
    "# Split data into separate training and test set\n",
    "a_train, a_test, s_train, s_test, y_train, y_test = \\\n",
    "    train_test_split(a, s, y, test_size = 0.25, random_state = 0)"
   ]
  },
  {
   "cell_type": "code",
   "execution_count": 6,
   "metadata": {},
   "outputs": [],
   "source": [
    "fairdata_ortho = FairData(s_train, a_train, y_train, preprocess_method='o')\n",
    "fairdata_mdm = FairData(s_train, a_train, y_train, preprocess_method='m')"
   ]
  },
  {
   "cell_type": "code",
   "execution_count": 7,
   "metadata": {},
   "outputs": [
    {
     "output_type": "execute_result",
     "data": {
      "text/plain": [
       "            ML       FTU        FL        AA    FLAP-1    FLAP-2\n",
       "CFB   0.576973  0.504339  0.458728  0.462043  0.770888  0.776318\n",
       "CFBM  0.576973  0.504339  0.458728  0.462043  0.770888  0.776318\n",
       "MAE   0.425570  0.427358  0.440161  0.439060  0.439288  0.439338"
      ],
      "text/html": "<div>\n<style scoped>\n    .dataframe tbody tr th:only-of-type {\n        vertical-align: middle;\n    }\n\n    .dataframe tbody tr th {\n        vertical-align: top;\n    }\n\n    .dataframe thead th {\n        text-align: right;\n    }\n</style>\n<table border=\"1\" class=\"dataframe\">\n  <thead>\n    <tr style=\"text-align: right;\">\n      <th></th>\n      <th>ML</th>\n      <th>FTU</th>\n      <th>FL</th>\n      <th>AA</th>\n      <th>FLAP-1</th>\n      <th>FLAP-2</th>\n    </tr>\n  </thead>\n  <tbody>\n    <tr>\n      <th>CFB</th>\n      <td>0.576973</td>\n      <td>0.504339</td>\n      <td>0.458728</td>\n      <td>0.462043</td>\n      <td>0.770888</td>\n      <td>0.776318</td>\n    </tr>\n    <tr>\n      <th>CFBM</th>\n      <td>0.576973</td>\n      <td>0.504339</td>\n      <td>0.458728</td>\n      <td>0.462043</td>\n      <td>0.770888</td>\n      <td>0.776318</td>\n    </tr>\n    <tr>\n      <th>MAE</th>\n      <td>0.425570</td>\n      <td>0.427358</td>\n      <td>0.440161</td>\n      <td>0.439060</td>\n      <td>0.439288</td>\n      <td>0.439338</td>\n    </tr>\n  </tbody>\n</table>\n</div>"
     },
     "metadata": {},
     "execution_count": 7
    }
   ],
   "source": [
    "fairdata_mdm_eval = fairdata_mdm.evaluate(\n",
    "    a_test, s_test, y_test, metrics=['cfb', 'cfbm', 'mae'], p_range=0, b=1\n",
    ")\n",
    "pd.DataFrame(fairdata_mdm_eval, index=['CFB', 'CFBM', 'MAE'], columns=['ML', 'FTU', 'FL', 'AA', 'FLAP-1', 'FLAP-2'])"
   ]
  },
  {
   "cell_type": "code",
   "execution_count": 8,
   "metadata": {},
   "outputs": [
    {
     "output_type": "execute_result",
     "data": {
      "text/plain": [
       "            ML       FTU        FL        AA    FLAP-1    FLAP-2\n",
       "CFB   0.911392  0.915102  0.860088  0.871446  0.905296  0.903086\n",
       "CFBM  0.621006  0.552642  0.451626  0.457825  0.373454  0.383937\n",
       "MAE   0.425570  0.427358  0.440161  0.439060  0.439288  0.439338"
      ],
      "text/html": "<div>\n<style scoped>\n    .dataframe tbody tr th:only-of-type {\n        vertical-align: middle;\n    }\n\n    .dataframe tbody tr th {\n        vertical-align: top;\n    }\n\n    .dataframe thead th {\n        text-align: right;\n    }\n</style>\n<table border=\"1\" class=\"dataframe\">\n  <thead>\n    <tr style=\"text-align: right;\">\n      <th></th>\n      <th>ML</th>\n      <th>FTU</th>\n      <th>FL</th>\n      <th>AA</th>\n      <th>FLAP-1</th>\n      <th>FLAP-2</th>\n    </tr>\n  </thead>\n  <tbody>\n    <tr>\n      <th>CFB</th>\n      <td>0.911392</td>\n      <td>0.915102</td>\n      <td>0.860088</td>\n      <td>0.871446</td>\n      <td>0.905296</td>\n      <td>0.903086</td>\n    </tr>\n    <tr>\n      <th>CFBM</th>\n      <td>0.621006</td>\n      <td>0.552642</td>\n      <td>0.451626</td>\n      <td>0.457825</td>\n      <td>0.373454</td>\n      <td>0.383937</td>\n    </tr>\n    <tr>\n      <th>MAE</th>\n      <td>0.425570</td>\n      <td>0.427358</td>\n      <td>0.440161</td>\n      <td>0.439060</td>\n      <td>0.439288</td>\n      <td>0.439338</td>\n    </tr>\n  </tbody>\n</table>\n</div>"
     },
     "metadata": {},
     "execution_count": 8
    }
   ],
   "source": [
    "fairdata_mdm_eval = fairdata_mdm.evaluate(\n",
    "    a_test, s_test, y_test, metrics=['cfb', 'cfbm', 'mae'], p_range=0.025, b=25\n",
    ")\n",
    "pd.DataFrame(fairdata_mdm_eval, index=['CFB', 'CFBM', 'MAE'], columns=['ML', 'FTU', 'FL', 'AA', 'FLAP-1', 'FLAP-2'])"
   ]
  },
  {
   "cell_type": "code",
   "execution_count": 9,
   "metadata": {},
   "outputs": [
    {
     "output_type": "execute_result",
     "data": {
      "text/plain": [
       "            ML       FTU        FL        AA    FLAP-1    FLAP-2\n",
       "CFB   0.946242  0.947885  0.916195  0.926402  0.970183  0.969174\n",
       "CFBM  0.608744  0.589239  0.495641  0.496085  0.401167  0.400746\n",
       "MAE   0.425570  0.427358  0.440161  0.439060  0.439288  0.439338"
      ],
      "text/html": "<div>\n<style scoped>\n    .dataframe tbody tr th:only-of-type {\n        vertical-align: middle;\n    }\n\n    .dataframe tbody tr th {\n        vertical-align: top;\n    }\n\n    .dataframe thead th {\n        text-align: right;\n    }\n</style>\n<table border=\"1\" class=\"dataframe\">\n  <thead>\n    <tr style=\"text-align: right;\">\n      <th></th>\n      <th>ML</th>\n      <th>FTU</th>\n      <th>FL</th>\n      <th>AA</th>\n      <th>FLAP-1</th>\n      <th>FLAP-2</th>\n    </tr>\n  </thead>\n  <tbody>\n    <tr>\n      <th>CFB</th>\n      <td>0.946242</td>\n      <td>0.947885</td>\n      <td>0.916195</td>\n      <td>0.926402</td>\n      <td>0.970183</td>\n      <td>0.969174</td>\n    </tr>\n    <tr>\n      <th>CFBM</th>\n      <td>0.608744</td>\n      <td>0.589239</td>\n      <td>0.495641</td>\n      <td>0.496085</td>\n      <td>0.401167</td>\n      <td>0.400746</td>\n    </tr>\n    <tr>\n      <th>MAE</th>\n      <td>0.425570</td>\n      <td>0.427358</td>\n      <td>0.440161</td>\n      <td>0.439060</td>\n      <td>0.439288</td>\n      <td>0.439338</td>\n    </tr>\n  </tbody>\n</table>\n</div>"
     },
     "metadata": {},
     "execution_count": 9
    }
   ],
   "source": [
    "fairdata_mdm_eval = fairdata_mdm.evaluate(\n",
    "    a_test, s_test, y_test, metrics=['cfb', 'cfbm', 'mae'], p_range=0.05, b=50\n",
    ")\n",
    "pd.DataFrame(fairdata_mdm_eval, index=['CFB', 'CFBM', 'MAE'], columns=['ML', 'FTU', 'FL', 'AA', 'FLAP-1', 'FLAP-2'])"
   ]
  },
  {
   "cell_type": "code",
   "execution_count": 10,
   "metadata": {},
   "outputs": [
    {
     "output_type": "execute_result",
     "data": {
      "text/plain": [
       "            ML       FTU        FL        AA    FLAP-1    FLAP-2\n",
       "CFB   0.962516  0.963420  0.937074  0.945559  0.977540  0.976625\n",
       "CFBM  0.691826  0.633226  0.524853  0.534814  0.448400  0.447273\n",
       "MAE   0.425570  0.427358  0.440161  0.439060  0.439288  0.439338"
      ],
      "text/html": "<div>\n<style scoped>\n    .dataframe tbody tr th:only-of-type {\n        vertical-align: middle;\n    }\n\n    .dataframe tbody tr th {\n        vertical-align: top;\n    }\n\n    .dataframe thead th {\n        text-align: right;\n    }\n</style>\n<table border=\"1\" class=\"dataframe\">\n  <thead>\n    <tr style=\"text-align: right;\">\n      <th></th>\n      <th>ML</th>\n      <th>FTU</th>\n      <th>FL</th>\n      <th>AA</th>\n      <th>FLAP-1</th>\n      <th>FLAP-2</th>\n    </tr>\n  </thead>\n  <tbody>\n    <tr>\n      <th>CFB</th>\n      <td>0.962516</td>\n      <td>0.963420</td>\n      <td>0.937074</td>\n      <td>0.945559</td>\n      <td>0.977540</td>\n      <td>0.976625</td>\n    </tr>\n    <tr>\n      <th>CFBM</th>\n      <td>0.691826</td>\n      <td>0.633226</td>\n      <td>0.524853</td>\n      <td>0.534814</td>\n      <td>0.448400</td>\n      <td>0.447273</td>\n    </tr>\n    <tr>\n      <th>MAE</th>\n      <td>0.425570</td>\n      <td>0.427358</td>\n      <td>0.440161</td>\n      <td>0.439060</td>\n      <td>0.439288</td>\n      <td>0.439338</td>\n    </tr>\n  </tbody>\n</table>\n</div>"
     },
     "metadata": {},
     "execution_count": 10
    }
   ],
   "source": [
    "fairdata_mdm_eval = fairdata_mdm.evaluate(\n",
    "    a_test, s_test, y_test, metrics=['cfb', 'cfbm', 'mae'], p_range=0.1, b=100\n",
    ")\n",
    "pd.DataFrame(fairdata_mdm_eval, index=['CFB', 'CFBM', 'MAE'], columns=['ML', 'FTU', 'FL', 'AA', 'FLAP-1', 'FLAP-2'])"
   ]
  },
  {
   "cell_type": "code",
   "execution_count": 7,
   "metadata": {},
   "outputs": [
    {
     "output_type": "execute_result",
     "data": {
      "text/plain": [
       "            ML       FTU        FL        AA    FLAP-1    FLAP-2\n",
       "CFB   0.942896  0.947516  0.907288  0.917727  0.916436  0.907288\n",
       "CFBM  0.686360  0.627237  0.539475  0.540210  0.539615  0.539475\n",
       "MAE   0.425570  0.427358  0.440161  0.439060  0.439498  0.440161"
      ],
      "text/html": "<div>\n<style scoped>\n    .dataframe tbody tr th:only-of-type {\n        vertical-align: middle;\n    }\n\n    .dataframe tbody tr th {\n        vertical-align: top;\n    }\n\n    .dataframe thead th {\n        text-align: right;\n    }\n</style>\n<table border=\"1\" class=\"dataframe\">\n  <thead>\n    <tr style=\"text-align: right;\">\n      <th></th>\n      <th>ML</th>\n      <th>FTU</th>\n      <th>FL</th>\n      <th>AA</th>\n      <th>FLAP-1</th>\n      <th>FLAP-2</th>\n    </tr>\n  </thead>\n  <tbody>\n    <tr>\n      <th>CFB</th>\n      <td>0.942896</td>\n      <td>0.947516</td>\n      <td>0.907288</td>\n      <td>0.917727</td>\n      <td>0.916436</td>\n      <td>0.907288</td>\n    </tr>\n    <tr>\n      <th>CFBM</th>\n      <td>0.686360</td>\n      <td>0.627237</td>\n      <td>0.539475</td>\n      <td>0.540210</td>\n      <td>0.539615</td>\n      <td>0.539475</td>\n    </tr>\n    <tr>\n      <th>MAE</th>\n      <td>0.425570</td>\n      <td>0.427358</td>\n      <td>0.440161</td>\n      <td>0.439060</td>\n      <td>0.439498</td>\n      <td>0.440161</td>\n    </tr>\n  </tbody>\n</table>\n</div>"
     },
     "metadata": {},
     "execution_count": 7
    }
   ],
   "source": [
    "fairdata_ortho_eval = fairdata_ortho.evaluate(\n",
    "    a_test, s_test, y_test, metrics=['cfb', 'cfbm', 'mae'], p_range=0.05, b=50\n",
    ")\n",
    "pd.DataFrame(fairdata_ortho_eval, index=['CFB', 'CFBM', 'MAE'], columns=['ML', 'FTU', 'FL', 'AA', 'FLAP-1', 'FLAP-2'])"
   ]
  },
  {
   "cell_type": "code",
   "execution_count": null,
   "metadata": {},
   "outputs": [],
   "source": []
  }
 ]
}