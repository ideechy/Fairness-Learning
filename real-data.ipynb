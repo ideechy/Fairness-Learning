{
 "metadata": {
  "language_info": {
   "codemirror_mode": {
    "name": "ipython",
    "version": 3
   },
   "file_extension": ".py",
   "mimetype": "text/x-python",
   "name": "python",
   "nbconvert_exporter": "python",
   "pygments_lexer": "ipython3",
   "version": "3.7.4-final"
  },
  "orig_nbformat": 2,
  "kernelspec": {
   "name": "Python 3.7.4 64-bit ('base': conda)",
   "display_name": "Python 3.7.4 64-bit ('base': conda)",
   "metadata": {
    "interpreter": {
     "hash": "784ef9b1842d2565b61c088f999ee10e64fb0530c7377ff12c83ef1229ebbf95"
    }
   }
  }
 },
 "nbformat": 4,
 "nbformat_minor": 2,
 "cells": [
  {
   "cell_type": "code",
   "execution_count": 1,
   "metadata": {},
   "outputs": [],
   "source": [
    "import pandas as pd\n",
    "import numpy as np\n",
    "import statsmodels.api as sm\n",
    "import matplotlib.pyplot as plt\n",
    "import seaborn as sns\n",
    "from sklearn.preprocessing import StandardScaler\n",
    "from fairdata import FairData\n",
    "from fairopt import FairOptimization"
   ]
  },
  {
   "cell_type": "code",
   "execution_count": 2,
   "metadata": {},
   "outputs": [
    {
     "output_type": "execute_result",
     "data": {
      "text/plain": [
       "        customer_id  loan_request_id loan_transferred_date  def_flag      age  \\\n",
       "0               144            199.0   2016-04-18 10:34:00       0.0  29.9315   \n",
       "1               144           1658.0   2016-06-30 10:04:00       1.0  29.9315   \n",
       "2               144           1039.0   2016-06-03 02:18:00       0.0  29.9315   \n",
       "3               144            417.0   2016-05-04 10:18:00       0.0  29.9315   \n",
       "4               150            218.0   2016-04-19 14:34:00       0.0  32.0740   \n",
       "...             ...              ...                   ...       ...      ...   \n",
       "383756      3200000              NaN                   NaT       NaN      NaN   \n",
       "383757      3200000              NaN                   NaT       NaN      NaN   \n",
       "383758      3200000              NaN                   NaT       NaN      NaN   \n",
       "383759      3200000              NaN                   NaT       NaN      NaN   \n",
       "383760      3200000              NaN                   NaT       NaN      NaN   \n",
       "\n",
       "        noofconnections  noofapps  noofsms  noofcontacts gender  \n",
       "0                 401.0      19.0    472.0         358.0    NaN  \n",
       "1                 401.0      19.0    472.0         358.0    NaN  \n",
       "2                 401.0      19.0    472.0         358.0    NaN  \n",
       "3                 401.0      19.0    472.0         358.0    NaN  \n",
       "4                 811.0      10.0    584.0        1820.0      m  \n",
       "...                 ...       ...      ...           ...    ...  \n",
       "383756              NaN       NaN      NaN           NaN      m  \n",
       "383757              NaN       NaN      NaN           NaN      m  \n",
       "383758              NaN       NaN      NaN           NaN      m  \n",
       "383759              NaN       NaN      NaN           NaN      m  \n",
       "383760              NaN       NaN      NaN           NaN      m  \n",
       "\n",
       "[383761 rows x 10 columns]"
      ],
      "text/html": "<div>\n<style scoped>\n    .dataframe tbody tr th:only-of-type {\n        vertical-align: middle;\n    }\n\n    .dataframe tbody tr th {\n        vertical-align: top;\n    }\n\n    .dataframe thead th {\n        text-align: right;\n    }\n</style>\n<table border=\"1\" class=\"dataframe\">\n  <thead>\n    <tr style=\"text-align: right;\">\n      <th></th>\n      <th>customer_id</th>\n      <th>loan_request_id</th>\n      <th>loan_transferred_date</th>\n      <th>def_flag</th>\n      <th>age</th>\n      <th>noofconnections</th>\n      <th>noofapps</th>\n      <th>noofsms</th>\n      <th>noofcontacts</th>\n      <th>gender</th>\n    </tr>\n  </thead>\n  <tbody>\n    <tr>\n      <td>0</td>\n      <td>144</td>\n      <td>199.0</td>\n      <td>2016-04-18 10:34:00</td>\n      <td>0.0</td>\n      <td>29.9315</td>\n      <td>401.0</td>\n      <td>19.0</td>\n      <td>472.0</td>\n      <td>358.0</td>\n      <td>NaN</td>\n    </tr>\n    <tr>\n      <td>1</td>\n      <td>144</td>\n      <td>1658.0</td>\n      <td>2016-06-30 10:04:00</td>\n      <td>1.0</td>\n      <td>29.9315</td>\n      <td>401.0</td>\n      <td>19.0</td>\n      <td>472.0</td>\n      <td>358.0</td>\n      <td>NaN</td>\n    </tr>\n    <tr>\n      <td>2</td>\n      <td>144</td>\n      <td>1039.0</td>\n      <td>2016-06-03 02:18:00</td>\n      <td>0.0</td>\n      <td>29.9315</td>\n      <td>401.0</td>\n      <td>19.0</td>\n      <td>472.0</td>\n      <td>358.0</td>\n      <td>NaN</td>\n    </tr>\n    <tr>\n      <td>3</td>\n      <td>144</td>\n      <td>417.0</td>\n      <td>2016-05-04 10:18:00</td>\n      <td>0.0</td>\n      <td>29.9315</td>\n      <td>401.0</td>\n      <td>19.0</td>\n      <td>472.0</td>\n      <td>358.0</td>\n      <td>NaN</td>\n    </tr>\n    <tr>\n      <td>4</td>\n      <td>150</td>\n      <td>218.0</td>\n      <td>2016-04-19 14:34:00</td>\n      <td>0.0</td>\n      <td>32.0740</td>\n      <td>811.0</td>\n      <td>10.0</td>\n      <td>584.0</td>\n      <td>1820.0</td>\n      <td>m</td>\n    </tr>\n    <tr>\n      <td>...</td>\n      <td>...</td>\n      <td>...</td>\n      <td>...</td>\n      <td>...</td>\n      <td>...</td>\n      <td>...</td>\n      <td>...</td>\n      <td>...</td>\n      <td>...</td>\n      <td>...</td>\n    </tr>\n    <tr>\n      <td>383756</td>\n      <td>3200000</td>\n      <td>NaN</td>\n      <td>NaT</td>\n      <td>NaN</td>\n      <td>NaN</td>\n      <td>NaN</td>\n      <td>NaN</td>\n      <td>NaN</td>\n      <td>NaN</td>\n      <td>m</td>\n    </tr>\n    <tr>\n      <td>383757</td>\n      <td>3200000</td>\n      <td>NaN</td>\n      <td>NaT</td>\n      <td>NaN</td>\n      <td>NaN</td>\n      <td>NaN</td>\n      <td>NaN</td>\n      <td>NaN</td>\n      <td>NaN</td>\n      <td>m</td>\n    </tr>\n    <tr>\n      <td>383758</td>\n      <td>3200000</td>\n      <td>NaN</td>\n      <td>NaT</td>\n      <td>NaN</td>\n      <td>NaN</td>\n      <td>NaN</td>\n      <td>NaN</td>\n      <td>NaN</td>\n      <td>NaN</td>\n      <td>m</td>\n    </tr>\n    <tr>\n      <td>383759</td>\n      <td>3200000</td>\n      <td>NaN</td>\n      <td>NaT</td>\n      <td>NaN</td>\n      <td>NaN</td>\n      <td>NaN</td>\n      <td>NaN</td>\n      <td>NaN</td>\n      <td>NaN</td>\n      <td>m</td>\n    </tr>\n    <tr>\n      <td>383760</td>\n      <td>3200000</td>\n      <td>NaN</td>\n      <td>NaT</td>\n      <td>NaN</td>\n      <td>NaN</td>\n      <td>NaN</td>\n      <td>NaN</td>\n      <td>NaN</td>\n      <td>NaN</td>\n      <td>m</td>\n    </tr>\n  </tbody>\n</table>\n<p>383761 rows × 10 columns</p>\n</div>"
     },
     "metadata": {},
     "execution_count": 2
    }
   ],
   "source": [
    "df_raw_1 = pd.read_excel('data/Fintech-fairnessJun2020.xlsx', sheet_name='Approved&Default')\n",
    "df_raw_1"
   ]
  },
  {
   "cell_type": "code",
   "execution_count": 3,
   "metadata": {},
   "outputs": [
    {
     "output_type": "execute_result",
     "data": {
      "text/plain": [
       "       customer_id      age  noofconnections  noofapps  noofsms  noofcontacts  \\\n",
       "0              185  30.6932              0.0      54.0   3646.0         217.0   \n",
       "1              237  30.1973           1556.0      97.0    302.0         589.0   \n",
       "2              290  47.6575            511.0       4.0      7.0       25996.0   \n",
       "3              769  47.4247            249.0      18.0    366.0         565.0   \n",
       "4              803  31.3452            109.0      39.0    719.0         226.0   \n",
       "...            ...      ...              ...       ...      ...           ...   \n",
       "49979      3200000  26.3123              0.0      21.0      NaN         209.0   \n",
       "49980      3200000  25.5945            384.0      30.0      NaN         663.0   \n",
       "49981      3200000  24.1973            938.0       NaN      NaN           0.0   \n",
       "49982      3200000  20.1370              0.0      98.0      NaN         409.0   \n",
       "49983      3200000  26.8192              0.0      72.0      NaN         844.0   \n",
       "\n",
       "       loan_request_initial_id gender  \n",
       "0                        12116      m  \n",
       "1                       145910      m  \n",
       "2                          135      m  \n",
       "3                       193588      m  \n",
       "4                         1808      m  \n",
       "...                        ...    ...  \n",
       "49979                   711504      m  \n",
       "49980                   711581      m  \n",
       "49981                   711596      m  \n",
       "49982                   711610      m  \n",
       "49983                   711665      m  \n",
       "\n",
       "[49984 rows x 8 columns]"
      ],
      "text/html": "<div>\n<style scoped>\n    .dataframe tbody tr th:only-of-type {\n        vertical-align: middle;\n    }\n\n    .dataframe tbody tr th {\n        vertical-align: top;\n    }\n\n    .dataframe thead th {\n        text-align: right;\n    }\n</style>\n<table border=\"1\" class=\"dataframe\">\n  <thead>\n    <tr style=\"text-align: right;\">\n      <th></th>\n      <th>customer_id</th>\n      <th>age</th>\n      <th>noofconnections</th>\n      <th>noofapps</th>\n      <th>noofsms</th>\n      <th>noofcontacts</th>\n      <th>loan_request_initial_id</th>\n      <th>gender</th>\n    </tr>\n  </thead>\n  <tbody>\n    <tr>\n      <td>0</td>\n      <td>185</td>\n      <td>30.6932</td>\n      <td>0.0</td>\n      <td>54.0</td>\n      <td>3646.0</td>\n      <td>217.0</td>\n      <td>12116</td>\n      <td>m</td>\n    </tr>\n    <tr>\n      <td>1</td>\n      <td>237</td>\n      <td>30.1973</td>\n      <td>1556.0</td>\n      <td>97.0</td>\n      <td>302.0</td>\n      <td>589.0</td>\n      <td>145910</td>\n      <td>m</td>\n    </tr>\n    <tr>\n      <td>2</td>\n      <td>290</td>\n      <td>47.6575</td>\n      <td>511.0</td>\n      <td>4.0</td>\n      <td>7.0</td>\n      <td>25996.0</td>\n      <td>135</td>\n      <td>m</td>\n    </tr>\n    <tr>\n      <td>3</td>\n      <td>769</td>\n      <td>47.4247</td>\n      <td>249.0</td>\n      <td>18.0</td>\n      <td>366.0</td>\n      <td>565.0</td>\n      <td>193588</td>\n      <td>m</td>\n    </tr>\n    <tr>\n      <td>4</td>\n      <td>803</td>\n      <td>31.3452</td>\n      <td>109.0</td>\n      <td>39.0</td>\n      <td>719.0</td>\n      <td>226.0</td>\n      <td>1808</td>\n      <td>m</td>\n    </tr>\n    <tr>\n      <td>...</td>\n      <td>...</td>\n      <td>...</td>\n      <td>...</td>\n      <td>...</td>\n      <td>...</td>\n      <td>...</td>\n      <td>...</td>\n      <td>...</td>\n    </tr>\n    <tr>\n      <td>49979</td>\n      <td>3200000</td>\n      <td>26.3123</td>\n      <td>0.0</td>\n      <td>21.0</td>\n      <td>NaN</td>\n      <td>209.0</td>\n      <td>711504</td>\n      <td>m</td>\n    </tr>\n    <tr>\n      <td>49980</td>\n      <td>3200000</td>\n      <td>25.5945</td>\n      <td>384.0</td>\n      <td>30.0</td>\n      <td>NaN</td>\n      <td>663.0</td>\n      <td>711581</td>\n      <td>m</td>\n    </tr>\n    <tr>\n      <td>49981</td>\n      <td>3200000</td>\n      <td>24.1973</td>\n      <td>938.0</td>\n      <td>NaN</td>\n      <td>NaN</td>\n      <td>0.0</td>\n      <td>711596</td>\n      <td>m</td>\n    </tr>\n    <tr>\n      <td>49982</td>\n      <td>3200000</td>\n      <td>20.1370</td>\n      <td>0.0</td>\n      <td>98.0</td>\n      <td>NaN</td>\n      <td>409.0</td>\n      <td>711610</td>\n      <td>m</td>\n    </tr>\n    <tr>\n      <td>49983</td>\n      <td>3200000</td>\n      <td>26.8192</td>\n      <td>0.0</td>\n      <td>72.0</td>\n      <td>NaN</td>\n      <td>844.0</td>\n      <td>711665</td>\n      <td>m</td>\n    </tr>\n  </tbody>\n</table>\n<p>49984 rows × 8 columns</p>\n</div>"
     },
     "metadata": {},
     "execution_count": 3
    }
   ],
   "source": [
    "df_raw_2 = pd.read_excel('data/Fintech-fairnessJun2020.xlsx', sheet_name='Rejected')\n",
    "df_raw_2"
   ]
  },
  {
   "cell_type": "code",
   "execution_count": 6,
   "metadata": {},
   "outputs": [
    {
     "output_type": "execute_result",
     "data": {
      "text/plain": [
       "           age  approved_dum  customer_id gender  loan_request_id  apps  \\\n",
       "0      29.9315             1          144    NaN              199  19.0   \n",
       "1      29.9315             1          144    NaN             1658  19.0   \n",
       "2      29.9315             1          144    NaN             1039  19.0   \n",
       "3      29.9315             1          144    NaN              417  19.0   \n",
       "4      32.0740             1          150      m              218  10.0   \n",
       "...        ...           ...          ...    ...              ...   ...   \n",
       "49979  26.3123             0      3200000      m           711504  21.0   \n",
       "49980  25.5945             0      3200000      m           711581  30.0   \n",
       "49981  24.1973             0      3200000      m           711596   NaN   \n",
       "49982  20.1370             0      3200000      m           711610  98.0   \n",
       "49983  26.8192             0      3200000      m           711665  72.0   \n",
       "\n",
       "       connections  contacts    sms  reward  \n",
       "0            401.0     358.0  472.0       1  \n",
       "1            401.0     358.0  472.0      -1  \n",
       "2            401.0     358.0  472.0       1  \n",
       "3            401.0     358.0  472.0       1  \n",
       "4            811.0    1820.0  584.0       1  \n",
       "...            ...       ...    ...     ...  \n",
       "49979          0.0     209.0    NaN       0  \n",
       "49980        384.0     663.0    NaN       0  \n",
       "49981        938.0       0.0    NaN       0  \n",
       "49982          0.0     409.0    NaN       0  \n",
       "49983          0.0     844.0    NaN       0  \n",
       "\n",
       "[433745 rows x 10 columns]"
      ],
      "text/html": "<div>\n<style scoped>\n    .dataframe tbody tr th:only-of-type {\n        vertical-align: middle;\n    }\n\n    .dataframe tbody tr th {\n        vertical-align: top;\n    }\n\n    .dataframe thead th {\n        text-align: right;\n    }\n</style>\n<table border=\"1\" class=\"dataframe\">\n  <thead>\n    <tr style=\"text-align: right;\">\n      <th></th>\n      <th>age</th>\n      <th>approved_dum</th>\n      <th>customer_id</th>\n      <th>gender</th>\n      <th>loan_request_id</th>\n      <th>apps</th>\n      <th>connections</th>\n      <th>contacts</th>\n      <th>sms</th>\n      <th>reward</th>\n    </tr>\n  </thead>\n  <tbody>\n    <tr>\n      <td>0</td>\n      <td>29.9315</td>\n      <td>1</td>\n      <td>144</td>\n      <td>NaN</td>\n      <td>199</td>\n      <td>19.0</td>\n      <td>401.0</td>\n      <td>358.0</td>\n      <td>472.0</td>\n      <td>1</td>\n    </tr>\n    <tr>\n      <td>1</td>\n      <td>29.9315</td>\n      <td>1</td>\n      <td>144</td>\n      <td>NaN</td>\n      <td>1658</td>\n      <td>19.0</td>\n      <td>401.0</td>\n      <td>358.0</td>\n      <td>472.0</td>\n      <td>-1</td>\n    </tr>\n    <tr>\n      <td>2</td>\n      <td>29.9315</td>\n      <td>1</td>\n      <td>144</td>\n      <td>NaN</td>\n      <td>1039</td>\n      <td>19.0</td>\n      <td>401.0</td>\n      <td>358.0</td>\n      <td>472.0</td>\n      <td>1</td>\n    </tr>\n    <tr>\n      <td>3</td>\n      <td>29.9315</td>\n      <td>1</td>\n      <td>144</td>\n      <td>NaN</td>\n      <td>417</td>\n      <td>19.0</td>\n      <td>401.0</td>\n      <td>358.0</td>\n      <td>472.0</td>\n      <td>1</td>\n    </tr>\n    <tr>\n      <td>4</td>\n      <td>32.0740</td>\n      <td>1</td>\n      <td>150</td>\n      <td>m</td>\n      <td>218</td>\n      <td>10.0</td>\n      <td>811.0</td>\n      <td>1820.0</td>\n      <td>584.0</td>\n      <td>1</td>\n    </tr>\n    <tr>\n      <td>...</td>\n      <td>...</td>\n      <td>...</td>\n      <td>...</td>\n      <td>...</td>\n      <td>...</td>\n      <td>...</td>\n      <td>...</td>\n      <td>...</td>\n      <td>...</td>\n      <td>...</td>\n    </tr>\n    <tr>\n      <td>49979</td>\n      <td>26.3123</td>\n      <td>0</td>\n      <td>3200000</td>\n      <td>m</td>\n      <td>711504</td>\n      <td>21.0</td>\n      <td>0.0</td>\n      <td>209.0</td>\n      <td>NaN</td>\n      <td>0</td>\n    </tr>\n    <tr>\n      <td>49980</td>\n      <td>25.5945</td>\n      <td>0</td>\n      <td>3200000</td>\n      <td>m</td>\n      <td>711581</td>\n      <td>30.0</td>\n      <td>384.0</td>\n      <td>663.0</td>\n      <td>NaN</td>\n      <td>0</td>\n    </tr>\n    <tr>\n      <td>49981</td>\n      <td>24.1973</td>\n      <td>0</td>\n      <td>3200000</td>\n      <td>m</td>\n      <td>711596</td>\n      <td>NaN</td>\n      <td>938.0</td>\n      <td>0.0</td>\n      <td>NaN</td>\n      <td>0</td>\n    </tr>\n    <tr>\n      <td>49982</td>\n      <td>20.1370</td>\n      <td>0</td>\n      <td>3200000</td>\n      <td>m</td>\n      <td>711610</td>\n      <td>98.0</td>\n      <td>0.0</td>\n      <td>409.0</td>\n      <td>NaN</td>\n      <td>0</td>\n    </tr>\n    <tr>\n      <td>49983</td>\n      <td>26.8192</td>\n      <td>0</td>\n      <td>3200000</td>\n      <td>m</td>\n      <td>711665</td>\n      <td>72.0</td>\n      <td>0.0</td>\n      <td>844.0</td>\n      <td>NaN</td>\n      <td>0</td>\n    </tr>\n  </tbody>\n</table>\n<p>433745 rows × 10 columns</p>\n</div>"
     },
     "metadata": {},
     "execution_count": 6
    }
   ],
   "source": [
    "df_raw_1['reward'] = 2 * (0.5 - df_raw_1['def_flag'])\n",
    "df_raw_2['reward'] = 0\n",
    "df_raw_1['approved_dum'] = 1\n",
    "df_raw_2['approved_dum'] = 0\n",
    "df_raw = pd.concat([\n",
    "    df_raw_1.drop(['loan_transferred_date', 'def_flag'], axis=1),\n",
    "    df_raw_2.rename(columns={'loan_request_initial_id': 'loan_request_id'}),\n",
    "]).rename(columns={\n",
    "    'noofconnections': 'connections',\n",
    "    'noofapps': 'apps',\n",
    "    'noofsms': 'sms',\n",
    "    'noofcontacts': 'contacts',\n",
    "}).astype({\n",
    "    'customer_id': 'Int64',\n",
    "    'loan_request_id': 'Int64',\n",
    "    'age': 'float',\n",
    "    'connections': 'float',\n",
    "    'apps': 'float',\n",
    "    'sms': 'float',\n",
    "    'contacts': 'float',\n",
    "    'approved_dum': 'Int64',\n",
    "    'reward': 'Int64',\n",
    "})\n",
    "df_raw\n"
   ]
  },
  {
   "cell_type": "code",
   "execution_count": 7,
   "metadata": {},
   "outputs": [
    {
     "output_type": "execute_result",
     "data": {
      "text/plain": [
       "        customer_id  loan_request_id  loan_amount  def_flag      age   salary  \\\n",
       "0               320               16      30000.0       0.0  34.0466  85449.0   \n",
       "1               301               18      10000.0       0.0  45.2301  42603.0   \n",
       "2               302               20      20000.0       0.0  53.7123  44783.0   \n",
       "3               286               21       5000.0       0.0  43.3644  38500.0   \n",
       "4               302               19      20000.0       0.0  53.7123  44783.0   \n",
       "...             ...              ...          ...       ...      ...      ...   \n",
       "417670       549179              NaN      25000.0       NaN  47.5616  25000.0   \n",
       "417671      1984639              NaN      11000.0       NaN  40.5452  27000.0   \n",
       "417672       776459              NaN       5000.0       NaN  22.5205  15000.0   \n",
       "417673      1865368              NaN       5000.0       NaN  26.4164  25000.0   \n",
       "417674       706448              NaN      45000.0       NaN  28.7178  42500.0   \n",
       "\n",
       "        referal  referer  connections  apps  ...  highschool  college  \\\n",
       "0           0.0      0.0         25.0   NaN  ...         1.0      0.0   \n",
       "1           0.0      1.0       1050.0  56.0  ...         1.0      0.0   \n",
       "2           0.0      0.0          NaN  35.0  ...         1.0      0.0   \n",
       "3           0.0      0.0        186.0  22.0  ...         0.0      0.0   \n",
       "4           0.0      0.0          NaN  35.0  ...         1.0      0.0   \n",
       "...         ...      ...          ...   ...  ...         ...      ...   \n",
       "417670      NaN      NaN       4290.0  49.0  ...         0.0      0.0   \n",
       "417671      0.0      0.0          NaN  62.0  ...         1.0      0.0   \n",
       "417672      NaN      NaN         36.0   NaN  ...         0.0      0.0   \n",
       "417673      0.0      0.0       4976.0  48.0  ...         1.0      0.0   \n",
       "417674      0.0      0.0          3.0  40.0  ...         1.0      0.0   \n",
       "\n",
       "        googleplus_status  sales  dating  ios  travel_app  finsavy_app  \\\n",
       "0                     0.0    0.0     0.0    1           1            0   \n",
       "1                     0.0    0.0     0.0    0           1            1   \n",
       "2                     0.0    0.0     0.0    0           1            0   \n",
       "3                     0.0    0.0     0.0    0           0            0   \n",
       "4                     0.0    0.0     0.0    0           1            0   \n",
       "...                   ...    ...     ...  ...         ...          ...   \n",
       "417670                NaN    NaN     NaN    0           0            0   \n",
       "417671                1.0    NaN     NaN    0           0            0   \n",
       "417672                NaN    NaN     NaN    1           0            0   \n",
       "417673                0.0    NaN     NaN    0           0            0   \n",
       "417674                0.0    NaN     NaN    1           0            0   \n",
       "\n",
       "        socialconnect_app  mloan_app  \n",
       "0                       0          0  \n",
       "1                       1          0  \n",
       "2                       1          0  \n",
       "3                       1          0  \n",
       "4                       1          0  \n",
       "...                   ...        ...  \n",
       "417670                  0          0  \n",
       "417671                  0          0  \n",
       "417672                  0          0  \n",
       "417673                  0          0  \n",
       "417674                  0          0  \n",
       "\n",
       "[417675 rows x 39 columns]"
      ],
      "text/html": "<div>\n<style scoped>\n    .dataframe tbody tr th:only-of-type {\n        vertical-align: middle;\n    }\n\n    .dataframe tbody tr th {\n        vertical-align: top;\n    }\n\n    .dataframe thead th {\n        text-align: right;\n    }\n</style>\n<table border=\"1\" class=\"dataframe\">\n  <thead>\n    <tr style=\"text-align: right;\">\n      <th></th>\n      <th>customer_id</th>\n      <th>loan_request_id</th>\n      <th>loan_amount</th>\n      <th>def_flag</th>\n      <th>age</th>\n      <th>salary</th>\n      <th>referal</th>\n      <th>referer</th>\n      <th>connections</th>\n      <th>apps</th>\n      <th>...</th>\n      <th>highschool</th>\n      <th>college</th>\n      <th>googleplus_status</th>\n      <th>sales</th>\n      <th>dating</th>\n      <th>ios</th>\n      <th>travel_app</th>\n      <th>finsavy_app</th>\n      <th>socialconnect_app</th>\n      <th>mloan_app</th>\n    </tr>\n  </thead>\n  <tbody>\n    <tr>\n      <td>0</td>\n      <td>320</td>\n      <td>16</td>\n      <td>30000.0</td>\n      <td>0.0</td>\n      <td>34.0466</td>\n      <td>85449.0</td>\n      <td>0.0</td>\n      <td>0.0</td>\n      <td>25.0</td>\n      <td>NaN</td>\n      <td>...</td>\n      <td>1.0</td>\n      <td>0.0</td>\n      <td>0.0</td>\n      <td>0.0</td>\n      <td>0.0</td>\n      <td>1</td>\n      <td>1</td>\n      <td>0</td>\n      <td>0</td>\n      <td>0</td>\n    </tr>\n    <tr>\n      <td>1</td>\n      <td>301</td>\n      <td>18</td>\n      <td>10000.0</td>\n      <td>0.0</td>\n      <td>45.2301</td>\n      <td>42603.0</td>\n      <td>0.0</td>\n      <td>1.0</td>\n      <td>1050.0</td>\n      <td>56.0</td>\n      <td>...</td>\n      <td>1.0</td>\n      <td>0.0</td>\n      <td>0.0</td>\n      <td>0.0</td>\n      <td>0.0</td>\n      <td>0</td>\n      <td>1</td>\n      <td>1</td>\n      <td>1</td>\n      <td>0</td>\n    </tr>\n    <tr>\n      <td>2</td>\n      <td>302</td>\n      <td>20</td>\n      <td>20000.0</td>\n      <td>0.0</td>\n      <td>53.7123</td>\n      <td>44783.0</td>\n      <td>0.0</td>\n      <td>0.0</td>\n      <td>NaN</td>\n      <td>35.0</td>\n      <td>...</td>\n      <td>1.0</td>\n      <td>0.0</td>\n      <td>0.0</td>\n      <td>0.0</td>\n      <td>0.0</td>\n      <td>0</td>\n      <td>1</td>\n      <td>0</td>\n      <td>1</td>\n      <td>0</td>\n    </tr>\n    <tr>\n      <td>3</td>\n      <td>286</td>\n      <td>21</td>\n      <td>5000.0</td>\n      <td>0.0</td>\n      <td>43.3644</td>\n      <td>38500.0</td>\n      <td>0.0</td>\n      <td>0.0</td>\n      <td>186.0</td>\n      <td>22.0</td>\n      <td>...</td>\n      <td>0.0</td>\n      <td>0.0</td>\n      <td>0.0</td>\n      <td>0.0</td>\n      <td>0.0</td>\n      <td>0</td>\n      <td>0</td>\n      <td>0</td>\n      <td>1</td>\n      <td>0</td>\n    </tr>\n    <tr>\n      <td>4</td>\n      <td>302</td>\n      <td>19</td>\n      <td>20000.0</td>\n      <td>0.0</td>\n      <td>53.7123</td>\n      <td>44783.0</td>\n      <td>0.0</td>\n      <td>0.0</td>\n      <td>NaN</td>\n      <td>35.0</td>\n      <td>...</td>\n      <td>1.0</td>\n      <td>0.0</td>\n      <td>0.0</td>\n      <td>0.0</td>\n      <td>0.0</td>\n      <td>0</td>\n      <td>1</td>\n      <td>0</td>\n      <td>1</td>\n      <td>0</td>\n    </tr>\n    <tr>\n      <td>...</td>\n      <td>...</td>\n      <td>...</td>\n      <td>...</td>\n      <td>...</td>\n      <td>...</td>\n      <td>...</td>\n      <td>...</td>\n      <td>...</td>\n      <td>...</td>\n      <td>...</td>\n      <td>...</td>\n      <td>...</td>\n      <td>...</td>\n      <td>...</td>\n      <td>...</td>\n      <td>...</td>\n      <td>...</td>\n      <td>...</td>\n      <td>...</td>\n      <td>...</td>\n      <td>...</td>\n    </tr>\n    <tr>\n      <td>417670</td>\n      <td>549179</td>\n      <td>NaN</td>\n      <td>25000.0</td>\n      <td>NaN</td>\n      <td>47.5616</td>\n      <td>25000.0</td>\n      <td>NaN</td>\n      <td>NaN</td>\n      <td>4290.0</td>\n      <td>49.0</td>\n      <td>...</td>\n      <td>0.0</td>\n      <td>0.0</td>\n      <td>NaN</td>\n      <td>NaN</td>\n      <td>NaN</td>\n      <td>0</td>\n      <td>0</td>\n      <td>0</td>\n      <td>0</td>\n      <td>0</td>\n    </tr>\n    <tr>\n      <td>417671</td>\n      <td>1984639</td>\n      <td>NaN</td>\n      <td>11000.0</td>\n      <td>NaN</td>\n      <td>40.5452</td>\n      <td>27000.0</td>\n      <td>0.0</td>\n      <td>0.0</td>\n      <td>NaN</td>\n      <td>62.0</td>\n      <td>...</td>\n      <td>1.0</td>\n      <td>0.0</td>\n      <td>1.0</td>\n      <td>NaN</td>\n      <td>NaN</td>\n      <td>0</td>\n      <td>0</td>\n      <td>0</td>\n      <td>0</td>\n      <td>0</td>\n    </tr>\n    <tr>\n      <td>417672</td>\n      <td>776459</td>\n      <td>NaN</td>\n      <td>5000.0</td>\n      <td>NaN</td>\n      <td>22.5205</td>\n      <td>15000.0</td>\n      <td>NaN</td>\n      <td>NaN</td>\n      <td>36.0</td>\n      <td>NaN</td>\n      <td>...</td>\n      <td>0.0</td>\n      <td>0.0</td>\n      <td>NaN</td>\n      <td>NaN</td>\n      <td>NaN</td>\n      <td>1</td>\n      <td>0</td>\n      <td>0</td>\n      <td>0</td>\n      <td>0</td>\n    </tr>\n    <tr>\n      <td>417673</td>\n      <td>1865368</td>\n      <td>NaN</td>\n      <td>5000.0</td>\n      <td>NaN</td>\n      <td>26.4164</td>\n      <td>25000.0</td>\n      <td>0.0</td>\n      <td>0.0</td>\n      <td>4976.0</td>\n      <td>48.0</td>\n      <td>...</td>\n      <td>1.0</td>\n      <td>0.0</td>\n      <td>0.0</td>\n      <td>NaN</td>\n      <td>NaN</td>\n      <td>0</td>\n      <td>0</td>\n      <td>0</td>\n      <td>0</td>\n      <td>0</td>\n    </tr>\n    <tr>\n      <td>417674</td>\n      <td>706448</td>\n      <td>NaN</td>\n      <td>45000.0</td>\n      <td>NaN</td>\n      <td>28.7178</td>\n      <td>42500.0</td>\n      <td>0.0</td>\n      <td>0.0</td>\n      <td>3.0</td>\n      <td>40.0</td>\n      <td>...</td>\n      <td>1.0</td>\n      <td>0.0</td>\n      <td>0.0</td>\n      <td>NaN</td>\n      <td>NaN</td>\n      <td>1</td>\n      <td>0</td>\n      <td>0</td>\n      <td>0</td>\n      <td>0</td>\n    </tr>\n  </tbody>\n</table>\n<p>417675 rows × 39 columns</p>\n</div>"
     },
     "metadata": {},
     "execution_count": 7
    }
   ],
   "source": [
    "df_csv = pd.read_csv('data/Cashe_information.csv').rename(columns={\n",
    "    'AGE': 'age',\n",
    "}).astype({\n",
    "    'customer_id': 'Int64',\n",
    "    'loan_request_id': 'Int64',\n",
    "    'age': 'float',\n",
    "    'connections': 'float',\n",
    "    'apps': 'float',\n",
    "    'sms': 'float',\n",
    "    'contacts': 'float',\n",
    "    'approved_dum': 'Int64',\n",
    "})\n",
    "df_csv"
   ]
  },
  {
   "cell_type": "code",
   "execution_count": 8,
   "metadata": {},
   "outputs": [
    {
     "output_type": "execute_result",
     "data": {
      "text/plain": [
       "            age  approved_dum  customer_id gender  loan_request_id  apps  \\\n",
       "0       32.0740             1          150      m              218  10.0   \n",
       "1       32.0740             1          150      m            97964  10.0   \n",
       "2       32.0740             1          150      m               66  10.0   \n",
       "3       32.0740             1          150      m             2312  10.0   \n",
       "4       32.0740             1          150      m             3754  10.0   \n",
       "...         ...           ...          ...    ...              ...   ...   \n",
       "261924  18.3178             0      1600000      m           282451  24.0   \n",
       "261958  30.0904             0      1600000      m           283249  57.0   \n",
       "261970  18.6904             0      1600000      m           283473  37.0   \n",
       "261987  27.9096             0      1600000      m           283850  48.0   \n",
       "261997  37.0877             0      1600000      m           284022  44.0   \n",
       "\n",
       "        connections  contacts     sms  reward    salary  loan_amount  CIBIL  \n",
       "0             811.0    1820.0   584.0       1   40000.0       5000.0  707.0  \n",
       "1             811.0    1820.0   584.0      -1   40000.0      40000.0  707.0  \n",
       "2             811.0    1820.0   584.0       1   40000.0       5000.0  707.0  \n",
       "3             811.0    1820.0   584.0       1   40000.0       5000.0  707.0  \n",
       "4             811.0    1820.0   584.0       1   40000.0       5000.0  707.0  \n",
       "...             ...       ...     ...     ...       ...          ...    ...  \n",
       "261924          1.0     171.0   121.0       0  115000.0     200000.0  747.0  \n",
       "261958        736.0     862.0  1638.0       0   50251.0     101000.0  663.0  \n",
       "261970        196.0     203.0  1328.0       0   68328.0     137000.0  745.0  \n",
       "261987          9.0     878.0   237.0       0   32012.0      64000.0  716.0  \n",
       "261997        622.0     946.0    97.0       0   30977.0      62000.0  735.0  \n",
       "\n",
       "[203656 rows x 13 columns]"
      ],
      "text/html": "<div>\n<style scoped>\n    .dataframe tbody tr th:only-of-type {\n        vertical-align: middle;\n    }\n\n    .dataframe tbody tr th {\n        vertical-align: top;\n    }\n\n    .dataframe thead th {\n        text-align: right;\n    }\n</style>\n<table border=\"1\" class=\"dataframe\">\n  <thead>\n    <tr style=\"text-align: right;\">\n      <th></th>\n      <th>age</th>\n      <th>approved_dum</th>\n      <th>customer_id</th>\n      <th>gender</th>\n      <th>loan_request_id</th>\n      <th>apps</th>\n      <th>connections</th>\n      <th>contacts</th>\n      <th>sms</th>\n      <th>reward</th>\n      <th>salary</th>\n      <th>loan_amount</th>\n      <th>CIBIL</th>\n    </tr>\n  </thead>\n  <tbody>\n    <tr>\n      <td>0</td>\n      <td>32.0740</td>\n      <td>1</td>\n      <td>150</td>\n      <td>m</td>\n      <td>218</td>\n      <td>10.0</td>\n      <td>811.0</td>\n      <td>1820.0</td>\n      <td>584.0</td>\n      <td>1</td>\n      <td>40000.0</td>\n      <td>5000.0</td>\n      <td>707.0</td>\n    </tr>\n    <tr>\n      <td>1</td>\n      <td>32.0740</td>\n      <td>1</td>\n      <td>150</td>\n      <td>m</td>\n      <td>97964</td>\n      <td>10.0</td>\n      <td>811.0</td>\n      <td>1820.0</td>\n      <td>584.0</td>\n      <td>-1</td>\n      <td>40000.0</td>\n      <td>40000.0</td>\n      <td>707.0</td>\n    </tr>\n    <tr>\n      <td>2</td>\n      <td>32.0740</td>\n      <td>1</td>\n      <td>150</td>\n      <td>m</td>\n      <td>66</td>\n      <td>10.0</td>\n      <td>811.0</td>\n      <td>1820.0</td>\n      <td>584.0</td>\n      <td>1</td>\n      <td>40000.0</td>\n      <td>5000.0</td>\n      <td>707.0</td>\n    </tr>\n    <tr>\n      <td>3</td>\n      <td>32.0740</td>\n      <td>1</td>\n      <td>150</td>\n      <td>m</td>\n      <td>2312</td>\n      <td>10.0</td>\n      <td>811.0</td>\n      <td>1820.0</td>\n      <td>584.0</td>\n      <td>1</td>\n      <td>40000.0</td>\n      <td>5000.0</td>\n      <td>707.0</td>\n    </tr>\n    <tr>\n      <td>4</td>\n      <td>32.0740</td>\n      <td>1</td>\n      <td>150</td>\n      <td>m</td>\n      <td>3754</td>\n      <td>10.0</td>\n      <td>811.0</td>\n      <td>1820.0</td>\n      <td>584.0</td>\n      <td>1</td>\n      <td>40000.0</td>\n      <td>5000.0</td>\n      <td>707.0</td>\n    </tr>\n    <tr>\n      <td>...</td>\n      <td>...</td>\n      <td>...</td>\n      <td>...</td>\n      <td>...</td>\n      <td>...</td>\n      <td>...</td>\n      <td>...</td>\n      <td>...</td>\n      <td>...</td>\n      <td>...</td>\n      <td>...</td>\n      <td>...</td>\n      <td>...</td>\n    </tr>\n    <tr>\n      <td>261924</td>\n      <td>18.3178</td>\n      <td>0</td>\n      <td>1600000</td>\n      <td>m</td>\n      <td>282451</td>\n      <td>24.0</td>\n      <td>1.0</td>\n      <td>171.0</td>\n      <td>121.0</td>\n      <td>0</td>\n      <td>115000.0</td>\n      <td>200000.0</td>\n      <td>747.0</td>\n    </tr>\n    <tr>\n      <td>261958</td>\n      <td>30.0904</td>\n      <td>0</td>\n      <td>1600000</td>\n      <td>m</td>\n      <td>283249</td>\n      <td>57.0</td>\n      <td>736.0</td>\n      <td>862.0</td>\n      <td>1638.0</td>\n      <td>0</td>\n      <td>50251.0</td>\n      <td>101000.0</td>\n      <td>663.0</td>\n    </tr>\n    <tr>\n      <td>261970</td>\n      <td>18.6904</td>\n      <td>0</td>\n      <td>1600000</td>\n      <td>m</td>\n      <td>283473</td>\n      <td>37.0</td>\n      <td>196.0</td>\n      <td>203.0</td>\n      <td>1328.0</td>\n      <td>0</td>\n      <td>68328.0</td>\n      <td>137000.0</td>\n      <td>745.0</td>\n    </tr>\n    <tr>\n      <td>261987</td>\n      <td>27.9096</td>\n      <td>0</td>\n      <td>1600000</td>\n      <td>m</td>\n      <td>283850</td>\n      <td>48.0</td>\n      <td>9.0</td>\n      <td>878.0</td>\n      <td>237.0</td>\n      <td>0</td>\n      <td>32012.0</td>\n      <td>64000.0</td>\n      <td>716.0</td>\n    </tr>\n    <tr>\n      <td>261997</td>\n      <td>37.0877</td>\n      <td>0</td>\n      <td>1600000</td>\n      <td>m</td>\n      <td>284022</td>\n      <td>44.0</td>\n      <td>622.0</td>\n      <td>946.0</td>\n      <td>97.0</td>\n      <td>0</td>\n      <td>30977.0</td>\n      <td>62000.0</td>\n      <td>735.0</td>\n    </tr>\n  </tbody>\n</table>\n<p>203656 rows × 13 columns</p>\n</div>"
     },
     "metadata": {},
     "execution_count": 8
    }
   ],
   "source": [
    "df_all = pd.merge(\n",
    "    df_raw.dropna(),\n",
    "    df_csv.loc[:, ['loan_request_id', 'salary', 'loan_amount', 'CIBIL']].dropna(), \n",
    "    how='left', on='loan_request_id').dropna()\n",
    "df_all"
   ]
  },
  {
   "cell_type": "code",
   "execution_count": 9,
   "metadata": {},
   "outputs": [],
   "source": [
    "del df_raw_1, df_raw_2, df_raw, df_csv"
   ]
  },
  {
   "cell_type": "code",
   "execution_count": 9,
   "metadata": {},
   "outputs": [
    {
     "output_type": "execute_result",
     "data": {
      "text/plain": "        customer_id  loan_request_id      age  connections  apps     sms  \\\n0               150              218  32.0740        811.0  10.0   584.0   \n1               150            97964  32.0740        811.0  10.0   584.0   \n2               150               66  32.0740        811.0  10.0   584.0   \n3               150             2312  32.0740        811.0  10.0   584.0   \n4               150             3754  32.0740        811.0  10.0   584.0   \n...             ...              ...      ...          ...   ...     ...   \n261924      1600000           282451  18.3178          1.0  24.0   121.0   \n261958      1600000           283249  30.0904        736.0  57.0  1638.0   \n261970      1600000           283473  18.6904        196.0  37.0  1328.0   \n261987      1600000           283850  27.9096          9.0  48.0   237.0   \n261997      1600000           284022  37.0877        622.0  44.0    97.0   \n\n        contacts  approved_dum    salary  loan_amount  CIBIL  gender_dum  \n0         1820.0             1   40000.0       5000.0  707.0           1  \n1         1820.0             1   40000.0      40000.0  707.0           1  \n2         1820.0             1   40000.0       5000.0  707.0           1  \n3         1820.0             1   40000.0       5000.0  707.0           1  \n4         1820.0             1   40000.0       5000.0  707.0           1  \n...          ...           ...       ...          ...    ...         ...  \n261924     171.0             0  115000.0     200000.0  747.0           1  \n261958     862.0             0   50251.0     101000.0  663.0           1  \n261970     203.0             0   68328.0     137000.0  745.0           1  \n261987     878.0             0   32012.0      64000.0  716.0           1  \n261997     946.0             0   30977.0      62000.0  735.0           1  \n\n[203656 rows x 12 columns]",
      "text/html": "<div>\n<style scoped>\n    .dataframe tbody tr th:only-of-type {\n        vertical-align: middle;\n    }\n\n    .dataframe tbody tr th {\n        vertical-align: top;\n    }\n\n    .dataframe thead th {\n        text-align: right;\n    }\n</style>\n<table border=\"1\" class=\"dataframe\">\n  <thead>\n    <tr style=\"text-align: right;\">\n      <th></th>\n      <th>customer_id</th>\n      <th>loan_request_id</th>\n      <th>age</th>\n      <th>connections</th>\n      <th>apps</th>\n      <th>sms</th>\n      <th>contacts</th>\n      <th>approved_dum</th>\n      <th>salary</th>\n      <th>loan_amount</th>\n      <th>CIBIL</th>\n      <th>gender_dum</th>\n    </tr>\n  </thead>\n  <tbody>\n    <tr>\n      <th>0</th>\n      <td>150</td>\n      <td>218</td>\n      <td>32.0740</td>\n      <td>811.0</td>\n      <td>10.0</td>\n      <td>584.0</td>\n      <td>1820.0</td>\n      <td>1</td>\n      <td>40000.0</td>\n      <td>5000.0</td>\n      <td>707.0</td>\n      <td>1</td>\n    </tr>\n    <tr>\n      <th>1</th>\n      <td>150</td>\n      <td>97964</td>\n      <td>32.0740</td>\n      <td>811.0</td>\n      <td>10.0</td>\n      <td>584.0</td>\n      <td>1820.0</td>\n      <td>1</td>\n      <td>40000.0</td>\n      <td>40000.0</td>\n      <td>707.0</td>\n      <td>1</td>\n    </tr>\n    <tr>\n      <th>2</th>\n      <td>150</td>\n      <td>66</td>\n      <td>32.0740</td>\n      <td>811.0</td>\n      <td>10.0</td>\n      <td>584.0</td>\n      <td>1820.0</td>\n      <td>1</td>\n      <td>40000.0</td>\n      <td>5000.0</td>\n      <td>707.0</td>\n      <td>1</td>\n    </tr>\n    <tr>\n      <th>3</th>\n      <td>150</td>\n      <td>2312</td>\n      <td>32.0740</td>\n      <td>811.0</td>\n      <td>10.0</td>\n      <td>584.0</td>\n      <td>1820.0</td>\n      <td>1</td>\n      <td>40000.0</td>\n      <td>5000.0</td>\n      <td>707.0</td>\n      <td>1</td>\n    </tr>\n    <tr>\n      <th>4</th>\n      <td>150</td>\n      <td>3754</td>\n      <td>32.0740</td>\n      <td>811.0</td>\n      <td>10.0</td>\n      <td>584.0</td>\n      <td>1820.0</td>\n      <td>1</td>\n      <td>40000.0</td>\n      <td>5000.0</td>\n      <td>707.0</td>\n      <td>1</td>\n    </tr>\n    <tr>\n      <th>...</th>\n      <td>...</td>\n      <td>...</td>\n      <td>...</td>\n      <td>...</td>\n      <td>...</td>\n      <td>...</td>\n      <td>...</td>\n      <td>...</td>\n      <td>...</td>\n      <td>...</td>\n      <td>...</td>\n      <td>...</td>\n    </tr>\n    <tr>\n      <th>261924</th>\n      <td>1600000</td>\n      <td>282451</td>\n      <td>18.3178</td>\n      <td>1.0</td>\n      <td>24.0</td>\n      <td>121.0</td>\n      <td>171.0</td>\n      <td>0</td>\n      <td>115000.0</td>\n      <td>200000.0</td>\n      <td>747.0</td>\n      <td>1</td>\n    </tr>\n    <tr>\n      <th>261958</th>\n      <td>1600000</td>\n      <td>283249</td>\n      <td>30.0904</td>\n      <td>736.0</td>\n      <td>57.0</td>\n      <td>1638.0</td>\n      <td>862.0</td>\n      <td>0</td>\n      <td>50251.0</td>\n      <td>101000.0</td>\n      <td>663.0</td>\n      <td>1</td>\n    </tr>\n    <tr>\n      <th>261970</th>\n      <td>1600000</td>\n      <td>283473</td>\n      <td>18.6904</td>\n      <td>196.0</td>\n      <td>37.0</td>\n      <td>1328.0</td>\n      <td>203.0</td>\n      <td>0</td>\n      <td>68328.0</td>\n      <td>137000.0</td>\n      <td>745.0</td>\n      <td>1</td>\n    </tr>\n    <tr>\n      <th>261987</th>\n      <td>1600000</td>\n      <td>283850</td>\n      <td>27.9096</td>\n      <td>9.0</td>\n      <td>48.0</td>\n      <td>237.0</td>\n      <td>878.0</td>\n      <td>0</td>\n      <td>32012.0</td>\n      <td>64000.0</td>\n      <td>716.0</td>\n      <td>1</td>\n    </tr>\n    <tr>\n      <th>261997</th>\n      <td>1600000</td>\n      <td>284022</td>\n      <td>37.0877</td>\n      <td>622.0</td>\n      <td>44.0</td>\n      <td>97.0</td>\n      <td>946.0</td>\n      <td>0</td>\n      <td>30977.0</td>\n      <td>62000.0</td>\n      <td>735.0</td>\n      <td>1</td>\n    </tr>\n  </tbody>\n</table>\n<p>203656 rows × 12 columns</p>\n</div>"
     },
     "metadata": {},
     "execution_count": 9
    }
   ],
   "source": [
    "df_gender = df_all[~df_all.gender.isna()]\n",
    "df_gender['gender_dum'] = 1\n",
    "df_gender.loc[df_gender.gender == 'f', 'gender_dum'] = 0\n",
    "df_gender = df_gender.drop('gender', axis=1).astype({'approved_dum': 'int64'})\n",
    "df_gender"
   ]
  },
  {
   "cell_type": "code",
   "execution_count": 10,
   "metadata": {},
   "outputs": [
    {
     "output_type": "execute_result",
     "data": {
      "text/plain": "             age  connections      apps       sms  contacts  approved_dum  \\\n0       0.022181     0.742061 -2.373794 -0.045504  0.890059             1   \n1       0.022181     0.742061 -2.373794 -0.045504  0.890059             1   \n2       0.022181     0.742061 -2.373794 -0.045504  0.890059             1   \n3       0.022181     0.742061 -2.373794 -0.045504  0.890059             1   \n4       0.022181     0.742061 -2.373794 -0.045504  0.890059             1   \n...          ...          ...       ...       ...       ...           ...   \n261924 -2.445320    -2.702040 -1.024403 -0.808190 -0.729581             0   \n261958 -0.333625     0.686491  0.358826  0.455738  0.377513             0   \n261970 -2.378486    -0.070057 -0.336196  0.353732 -0.612465             0   \n261987 -0.724803    -1.779172  0.081672 -0.483064  0.390122             0   \n261997  0.921507     0.590134 -0.058297 -0.914767  0.441268             0   \n\n          salary  loan_amount     CIBIL  gender_dum  \n0       0.432050    -1.302074  0.469424           1  \n1       0.432050     1.156955  0.469424           1  \n2       0.432050    -1.302074  0.469424           1  \n3       0.432050    -1.302074  0.469424           1  \n4       0.432050    -1.302074  0.469424           1  \n...          ...          ...       ...         ...  \n261924  2.584841     3.060321  0.726930           1  \n261958  0.897138     2.252349  0.186168           1  \n261970  1.523554     2.612887  0.714055           1  \n261987 -0.022064     1.712790  0.527363           1  \n261997 -0.089061     1.675243  0.649678           1  \n\n[203656 rows x 10 columns]",
      "text/html": "<div>\n<style scoped>\n    .dataframe tbody tr th:only-of-type {\n        vertical-align: middle;\n    }\n\n    .dataframe tbody tr th {\n        vertical-align: top;\n    }\n\n    .dataframe thead th {\n        text-align: right;\n    }\n</style>\n<table border=\"1\" class=\"dataframe\">\n  <thead>\n    <tr style=\"text-align: right;\">\n      <th></th>\n      <th>age</th>\n      <th>connections</th>\n      <th>apps</th>\n      <th>sms</th>\n      <th>contacts</th>\n      <th>approved_dum</th>\n      <th>salary</th>\n      <th>loan_amount</th>\n      <th>CIBIL</th>\n      <th>gender_dum</th>\n    </tr>\n  </thead>\n  <tbody>\n    <tr>\n      <th>0</th>\n      <td>0.022181</td>\n      <td>0.742061</td>\n      <td>-2.373794</td>\n      <td>-0.045504</td>\n      <td>0.890059</td>\n      <td>1</td>\n      <td>0.432050</td>\n      <td>-1.302074</td>\n      <td>0.469424</td>\n      <td>1</td>\n    </tr>\n    <tr>\n      <th>1</th>\n      <td>0.022181</td>\n      <td>0.742061</td>\n      <td>-2.373794</td>\n      <td>-0.045504</td>\n      <td>0.890059</td>\n      <td>1</td>\n      <td>0.432050</td>\n      <td>1.156955</td>\n      <td>0.469424</td>\n      <td>1</td>\n    </tr>\n    <tr>\n      <th>2</th>\n      <td>0.022181</td>\n      <td>0.742061</td>\n      <td>-2.373794</td>\n      <td>-0.045504</td>\n      <td>0.890059</td>\n      <td>1</td>\n      <td>0.432050</td>\n      <td>-1.302074</td>\n      <td>0.469424</td>\n      <td>1</td>\n    </tr>\n    <tr>\n      <th>3</th>\n      <td>0.022181</td>\n      <td>0.742061</td>\n      <td>-2.373794</td>\n      <td>-0.045504</td>\n      <td>0.890059</td>\n      <td>1</td>\n      <td>0.432050</td>\n      <td>-1.302074</td>\n      <td>0.469424</td>\n      <td>1</td>\n    </tr>\n    <tr>\n      <th>4</th>\n      <td>0.022181</td>\n      <td>0.742061</td>\n      <td>-2.373794</td>\n      <td>-0.045504</td>\n      <td>0.890059</td>\n      <td>1</td>\n      <td>0.432050</td>\n      <td>-1.302074</td>\n      <td>0.469424</td>\n      <td>1</td>\n    </tr>\n    <tr>\n      <th>...</th>\n      <td>...</td>\n      <td>...</td>\n      <td>...</td>\n      <td>...</td>\n      <td>...</td>\n      <td>...</td>\n      <td>...</td>\n      <td>...</td>\n      <td>...</td>\n      <td>...</td>\n    </tr>\n    <tr>\n      <th>261924</th>\n      <td>-2.445320</td>\n      <td>-2.702040</td>\n      <td>-1.024403</td>\n      <td>-0.808190</td>\n      <td>-0.729581</td>\n      <td>0</td>\n      <td>2.584841</td>\n      <td>3.060321</td>\n      <td>0.726930</td>\n      <td>1</td>\n    </tr>\n    <tr>\n      <th>261958</th>\n      <td>-0.333625</td>\n      <td>0.686491</td>\n      <td>0.358826</td>\n      <td>0.455738</td>\n      <td>0.377513</td>\n      <td>0</td>\n      <td>0.897138</td>\n      <td>2.252349</td>\n      <td>0.186168</td>\n      <td>1</td>\n    </tr>\n    <tr>\n      <th>261970</th>\n      <td>-2.378486</td>\n      <td>-0.070057</td>\n      <td>-0.336196</td>\n      <td>0.353732</td>\n      <td>-0.612465</td>\n      <td>0</td>\n      <td>1.523554</td>\n      <td>2.612887</td>\n      <td>0.714055</td>\n      <td>1</td>\n    </tr>\n    <tr>\n      <th>261987</th>\n      <td>-0.724803</td>\n      <td>-1.779172</td>\n      <td>0.081672</td>\n      <td>-0.483064</td>\n      <td>0.390122</td>\n      <td>0</td>\n      <td>-0.022064</td>\n      <td>1.712790</td>\n      <td>0.527363</td>\n      <td>1</td>\n    </tr>\n    <tr>\n      <th>261997</th>\n      <td>0.921507</td>\n      <td>0.590134</td>\n      <td>-0.058297</td>\n      <td>-0.914767</td>\n      <td>0.441268</td>\n      <td>0</td>\n      <td>-0.089061</td>\n      <td>1.675243</td>\n      <td>0.649678</td>\n      <td>1</td>\n    </tr>\n  </tbody>\n</table>\n<p>203656 rows × 10 columns</p>\n</div>"
     },
     "metadata": {},
     "execution_count": 10
    }
   ],
   "source": [
    "df_g = df_gender.drop(['customer_id', 'loan_request_id'], axis=1)\n",
    "log_vars = ['loan_amount', 'salary', 'connections',  'apps', 'sms', 'contacts']\n",
    "for c in log_vars:\n",
    "    df_g[c] = np.log(df_g[c] + 1)\n",
    "norm_vars = log_vars + ['age', 'CIBIL']\n",
    "scaler = StandardScaler().fit(df_g[norm_vars])\n",
    "df_g[norm_vars] = scaler.transform(df_g[norm_vars])\n",
    "df_g"
   ]
  },
  {
   "cell_type": "code",
   "execution_count": 11,
   "metadata": {},
   "outputs": [],
   "source": [
    "# y = df_g.approved_dum.values.reshape(-1, 1)\n",
    "# s = df_g.gender_dum.values.reshape(-1, 1)\n",
    "# a = df_g.drop(['approved_dum', 'gender_dum'], axis=1).values\n",
    "\n",
    "# n_test = 10000\n",
    "\n",
    "# shuffle_idx = np.arange(y.shape[0])\n",
    "# np.random.shuffle(shuffle_idx)\n",
    "# y_train, y_test = y[shuffle_idx[n_test:]], y[shuffle_idx[:n_test]]\n",
    "# s_train, s_test, s_eval = s[shuffle_idx[n_test:]], s[shuffle_idx[:n_test]], np.array([0, 1] * n_test).reshape(-1, 1)\n",
    "# a_train, a_test, a_eval = a[shuffle_idx[n_test:]], a[shuffle_idx[:n_test]], np.repeat(a[shuffle_idx[:n_test]], 2, axis=0)"
   ]
  },
  {
   "cell_type": "code",
   "execution_count": 12,
   "metadata": {},
   "outputs": [],
   "source": [
    "# df_g_fair_o = FairData(s_train, a_train, y_train, preprocess_method='o')\n",
    "# decision = df_g.iloc[np.repeat(shuffle_idx[:n_test], 2)].copy()\n",
    "# decision.gender = s_eval\n",
    "# decision['y_ml'] = df_g_fair_o.f_ml(s_eval, a_eval)\n",
    "# decision['y_eo'] = df_g_fair_o.f_eo(a_eval)\n",
    "# decision['y_aa'] = df_g_fair_o.f_aa(s_eval, a_eval)\n",
    "# decision['y_1'] = df_g_fair_o.f_1(s_eval, a_eval)\n",
    "# decision['y_2'] = df_g_fair_o.f_2(s_eval, a_eval)\n",
    "# decision"
   ]
  },
  {
   "cell_type": "code",
   "execution_count": 13,
   "metadata": {},
   "outputs": [],
   "source": [
    "# eval_o = df_g_fair_o.evaluate(s_test, a_test, y_test, ['eo', 'cf', 'mae'])\n",
    "# pd.DataFrame(eval_o, index=['eo', 'cf', 'mae'], columns=['y_ml', 'y_ftu', 'y_eo', 'y_aa', 'y_1', 'y_2'])"
   ]
  },
  {
   "cell_type": "code",
   "execution_count": 14,
   "metadata": {
    "tags": []
   },
   "outputs": [],
   "source": [
    "# df_g_fair_o.cit_parametric(summary=True)"
   ]
  },
  {
   "cell_type": "code",
   "execution_count": 15,
   "metadata": {},
   "outputs": [
    {
     "output_type": "execute_result",
     "data": {
      "text/plain": "        customer_id  loan_request_id      age  connections  apps     sms  \\\n0               150              218  32.0740        811.0  10.0   584.0   \n1               150            97964  32.0740        811.0  10.0   584.0   \n2               150               66  32.0740        811.0  10.0   584.0   \n3               150             2312  32.0740        811.0  10.0   584.0   \n4               150             3754  32.0740        811.0  10.0   584.0   \n...             ...              ...      ...          ...   ...     ...   \n261924      1600000           282451  18.3178          1.0  24.0   121.0   \n261958      1600000           283249  30.0904        736.0  57.0  1638.0   \n261970      1600000           283473  18.6904        196.0  37.0  1328.0   \n261987      1600000           283850  27.9096          9.0  48.0   237.0   \n261997      1600000           284022  37.0877        622.0  44.0    97.0   \n\n        contacts  approved_dum    salary  loan_amount  CIBIL  gender_dum  \\\n0         1820.0             1   40000.0       5000.0  707.0           1   \n1         1820.0             1   40000.0      40000.0  707.0           1   \n2         1820.0             1   40000.0       5000.0  707.0           1   \n3         1820.0             1   40000.0       5000.0  707.0           1   \n4         1820.0             1   40000.0       5000.0  707.0           1   \n...          ...           ...       ...          ...    ...         ...   \n261924     171.0             0  115000.0     200000.0  747.0           1   \n261958     862.0             0   50251.0     101000.0  663.0           1   \n261970     203.0             0   68328.0     137000.0  745.0           1   \n261987     878.0             0   32012.0      64000.0  716.0           1   \n261997     946.0             0   30977.0      62000.0  735.0           1   \n\n        age_dum  \n0             1  \n1             1  \n2             1  \n3             1  \n4             1  \n...         ...  \n261924        0  \n261958        1  \n261970        0  \n261987        0  \n261997        1  \n\n[203656 rows x 13 columns]",
      "text/html": "<div>\n<style scoped>\n    .dataframe tbody tr th:only-of-type {\n        vertical-align: middle;\n    }\n\n    .dataframe tbody tr th {\n        vertical-align: top;\n    }\n\n    .dataframe thead th {\n        text-align: right;\n    }\n</style>\n<table border=\"1\" class=\"dataframe\">\n  <thead>\n    <tr style=\"text-align: right;\">\n      <th></th>\n      <th>customer_id</th>\n      <th>loan_request_id</th>\n      <th>age</th>\n      <th>connections</th>\n      <th>apps</th>\n      <th>sms</th>\n      <th>contacts</th>\n      <th>approved_dum</th>\n      <th>salary</th>\n      <th>loan_amount</th>\n      <th>CIBIL</th>\n      <th>gender_dum</th>\n      <th>age_dum</th>\n    </tr>\n  </thead>\n  <tbody>\n    <tr>\n      <th>0</th>\n      <td>150</td>\n      <td>218</td>\n      <td>32.0740</td>\n      <td>811.0</td>\n      <td>10.0</td>\n      <td>584.0</td>\n      <td>1820.0</td>\n      <td>1</td>\n      <td>40000.0</td>\n      <td>5000.0</td>\n      <td>707.0</td>\n      <td>1</td>\n      <td>1</td>\n    </tr>\n    <tr>\n      <th>1</th>\n      <td>150</td>\n      <td>97964</td>\n      <td>32.0740</td>\n      <td>811.0</td>\n      <td>10.0</td>\n      <td>584.0</td>\n      <td>1820.0</td>\n      <td>1</td>\n      <td>40000.0</td>\n      <td>40000.0</td>\n      <td>707.0</td>\n      <td>1</td>\n      <td>1</td>\n    </tr>\n    <tr>\n      <th>2</th>\n      <td>150</td>\n      <td>66</td>\n      <td>32.0740</td>\n      <td>811.0</td>\n      <td>10.0</td>\n      <td>584.0</td>\n      <td>1820.0</td>\n      <td>1</td>\n      <td>40000.0</td>\n      <td>5000.0</td>\n      <td>707.0</td>\n      <td>1</td>\n      <td>1</td>\n    </tr>\n    <tr>\n      <th>3</th>\n      <td>150</td>\n      <td>2312</td>\n      <td>32.0740</td>\n      <td>811.0</td>\n      <td>10.0</td>\n      <td>584.0</td>\n      <td>1820.0</td>\n      <td>1</td>\n      <td>40000.0</td>\n      <td>5000.0</td>\n      <td>707.0</td>\n      <td>1</td>\n      <td>1</td>\n    </tr>\n    <tr>\n      <th>4</th>\n      <td>150</td>\n      <td>3754</td>\n      <td>32.0740</td>\n      <td>811.0</td>\n      <td>10.0</td>\n      <td>584.0</td>\n      <td>1820.0</td>\n      <td>1</td>\n      <td>40000.0</td>\n      <td>5000.0</td>\n      <td>707.0</td>\n      <td>1</td>\n      <td>1</td>\n    </tr>\n    <tr>\n      <th>...</th>\n      <td>...</td>\n      <td>...</td>\n      <td>...</td>\n      <td>...</td>\n      <td>...</td>\n      <td>...</td>\n      <td>...</td>\n      <td>...</td>\n      <td>...</td>\n      <td>...</td>\n      <td>...</td>\n      <td>...</td>\n      <td>...</td>\n    </tr>\n    <tr>\n      <th>261924</th>\n      <td>1600000</td>\n      <td>282451</td>\n      <td>18.3178</td>\n      <td>1.0</td>\n      <td>24.0</td>\n      <td>121.0</td>\n      <td>171.0</td>\n      <td>0</td>\n      <td>115000.0</td>\n      <td>200000.0</td>\n      <td>747.0</td>\n      <td>1</td>\n      <td>0</td>\n    </tr>\n    <tr>\n      <th>261958</th>\n      <td>1600000</td>\n      <td>283249</td>\n      <td>30.0904</td>\n      <td>736.0</td>\n      <td>57.0</td>\n      <td>1638.0</td>\n      <td>862.0</td>\n      <td>0</td>\n      <td>50251.0</td>\n      <td>101000.0</td>\n      <td>663.0</td>\n      <td>1</td>\n      <td>1</td>\n    </tr>\n    <tr>\n      <th>261970</th>\n      <td>1600000</td>\n      <td>283473</td>\n      <td>18.6904</td>\n      <td>196.0</td>\n      <td>37.0</td>\n      <td>1328.0</td>\n      <td>203.0</td>\n      <td>0</td>\n      <td>68328.0</td>\n      <td>137000.0</td>\n      <td>745.0</td>\n      <td>1</td>\n      <td>0</td>\n    </tr>\n    <tr>\n      <th>261987</th>\n      <td>1600000</td>\n      <td>283850</td>\n      <td>27.9096</td>\n      <td>9.0</td>\n      <td>48.0</td>\n      <td>237.0</td>\n      <td>878.0</td>\n      <td>0</td>\n      <td>32012.0</td>\n      <td>64000.0</td>\n      <td>716.0</td>\n      <td>1</td>\n      <td>0</td>\n    </tr>\n    <tr>\n      <th>261997</th>\n      <td>1600000</td>\n      <td>284022</td>\n      <td>37.0877</td>\n      <td>622.0</td>\n      <td>44.0</td>\n      <td>97.0</td>\n      <td>946.0</td>\n      <td>0</td>\n      <td>30977.0</td>\n      <td>62000.0</td>\n      <td>735.0</td>\n      <td>1</td>\n      <td>1</td>\n    </tr>\n  </tbody>\n</table>\n<p>203656 rows × 13 columns</p>\n</div>"
     },
     "metadata": {},
     "execution_count": 15
    }
   ],
   "source": [
    "df_age = df_gender.copy()\n",
    "df_age['age_dum'] = 1\n",
    "df_age.loc[df_age.age < 28, 'age_dum'] = 0\n",
    "df_age"
   ]
  },
  {
   "cell_type": "code",
   "execution_count": 16,
   "metadata": {},
   "outputs": [
    {
     "output_type": "execute_result",
     "data": {
      "text/plain": "        connections      apps       sms  contacts  approved_dum    salary  \\\n0          0.742061 -2.373794 -0.045504  0.890059             1  0.432050   \n1          0.742061 -2.373794 -0.045504  0.890059             1  0.432050   \n2          0.742061 -2.373794 -0.045504  0.890059             1  0.432050   \n3          0.742061 -2.373794 -0.045504  0.890059             1  0.432050   \n4          0.742061 -2.373794 -0.045504  0.890059             1  0.432050   \n...             ...       ...       ...       ...           ...       ...   \n261924    -2.702040 -1.024403 -0.808190 -0.729581             0  2.584841   \n261958     0.686491  0.358826  0.455738  0.377513             0  0.897138   \n261970    -0.070057 -0.336196  0.353732 -0.612465             0  1.523554   \n261987    -1.779172  0.081672 -0.483064  0.390122             0 -0.022064   \n261997     0.590134 -0.058297 -0.914767  0.441268             0 -0.089061   \n\n        gender_dum  age_dum  \n0                1        1  \n1                1        1  \n2                1        1  \n3                1        1  \n4                1        1  \n...            ...      ...  \n261924           1        0  \n261958           1        1  \n261970           1        0  \n261987           1        0  \n261997           1        1  \n\n[203656 rows x 8 columns]",
      "text/html": "<div>\n<style scoped>\n    .dataframe tbody tr th:only-of-type {\n        vertical-align: middle;\n    }\n\n    .dataframe tbody tr th {\n        vertical-align: top;\n    }\n\n    .dataframe thead th {\n        text-align: right;\n    }\n</style>\n<table border=\"1\" class=\"dataframe\">\n  <thead>\n    <tr style=\"text-align: right;\">\n      <th></th>\n      <th>connections</th>\n      <th>apps</th>\n      <th>sms</th>\n      <th>contacts</th>\n      <th>approved_dum</th>\n      <th>salary</th>\n      <th>gender_dum</th>\n      <th>age_dum</th>\n    </tr>\n  </thead>\n  <tbody>\n    <tr>\n      <th>0</th>\n      <td>0.742061</td>\n      <td>-2.373794</td>\n      <td>-0.045504</td>\n      <td>0.890059</td>\n      <td>1</td>\n      <td>0.432050</td>\n      <td>1</td>\n      <td>1</td>\n    </tr>\n    <tr>\n      <th>1</th>\n      <td>0.742061</td>\n      <td>-2.373794</td>\n      <td>-0.045504</td>\n      <td>0.890059</td>\n      <td>1</td>\n      <td>0.432050</td>\n      <td>1</td>\n      <td>1</td>\n    </tr>\n    <tr>\n      <th>2</th>\n      <td>0.742061</td>\n      <td>-2.373794</td>\n      <td>-0.045504</td>\n      <td>0.890059</td>\n      <td>1</td>\n      <td>0.432050</td>\n      <td>1</td>\n      <td>1</td>\n    </tr>\n    <tr>\n      <th>3</th>\n      <td>0.742061</td>\n      <td>-2.373794</td>\n      <td>-0.045504</td>\n      <td>0.890059</td>\n      <td>1</td>\n      <td>0.432050</td>\n      <td>1</td>\n      <td>1</td>\n    </tr>\n    <tr>\n      <th>4</th>\n      <td>0.742061</td>\n      <td>-2.373794</td>\n      <td>-0.045504</td>\n      <td>0.890059</td>\n      <td>1</td>\n      <td>0.432050</td>\n      <td>1</td>\n      <td>1</td>\n    </tr>\n    <tr>\n      <th>...</th>\n      <td>...</td>\n      <td>...</td>\n      <td>...</td>\n      <td>...</td>\n      <td>...</td>\n      <td>...</td>\n      <td>...</td>\n      <td>...</td>\n    </tr>\n    <tr>\n      <th>261924</th>\n      <td>-2.702040</td>\n      <td>-1.024403</td>\n      <td>-0.808190</td>\n      <td>-0.729581</td>\n      <td>0</td>\n      <td>2.584841</td>\n      <td>1</td>\n      <td>0</td>\n    </tr>\n    <tr>\n      <th>261958</th>\n      <td>0.686491</td>\n      <td>0.358826</td>\n      <td>0.455738</td>\n      <td>0.377513</td>\n      <td>0</td>\n      <td>0.897138</td>\n      <td>1</td>\n      <td>1</td>\n    </tr>\n    <tr>\n      <th>261970</th>\n      <td>-0.070057</td>\n      <td>-0.336196</td>\n      <td>0.353732</td>\n      <td>-0.612465</td>\n      <td>0</td>\n      <td>1.523554</td>\n      <td>1</td>\n      <td>0</td>\n    </tr>\n    <tr>\n      <th>261987</th>\n      <td>-1.779172</td>\n      <td>0.081672</td>\n      <td>-0.483064</td>\n      <td>0.390122</td>\n      <td>0</td>\n      <td>-0.022064</td>\n      <td>1</td>\n      <td>0</td>\n    </tr>\n    <tr>\n      <th>261997</th>\n      <td>0.590134</td>\n      <td>-0.058297</td>\n      <td>-0.914767</td>\n      <td>0.441268</td>\n      <td>0</td>\n      <td>-0.089061</td>\n      <td>1</td>\n      <td>1</td>\n    </tr>\n  </tbody>\n</table>\n<p>203656 rows × 8 columns</p>\n</div>"
     },
     "metadata": {},
     "execution_count": 16
    }
   ],
   "source": [
    "df_a = df_age.drop(['customer_id', 'loan_request_id', 'age', 'CIBIL', 'loan_amount'], axis=1)\n",
    "log_vars = ['salary', 'connections',  'apps', 'sms', 'contacts']\n",
    "for c in log_vars:\n",
    "    df_a[c] = np.log(df_a[c] + 1)\n",
    "norm_vars = log_vars\n",
    "scaler = StandardScaler().fit(df_a[norm_vars])\n",
    "df_a[norm_vars] = scaler.transform(df_a[norm_vars])\n",
    "df_a"
   ]
  },
  {
   "cell_type": "code",
   "execution_count": 17,
   "metadata": {},
   "outputs": [],
   "source": [
    "np.random.seed(1)\n",
    "\n",
    "y = df_a.approved_dum.values.reshape(-1, 1)\n",
    "s = df_a.age_dum.values.reshape(-1, 1)\n",
    "a = df_a.drop(['approved_dum', 'age_dum'], axis=1).values\n",
    "\n",
    "n_test = 10000\n",
    "\n",
    "shuffle_idx = np.arange(y.shape[0])\n",
    "np.random.shuffle(shuffle_idx)\n",
    "y_train, y_test = y[shuffle_idx[n_test:]], y[shuffle_idx[:n_test]]\n",
    "s_train, s_test, s_eval = s[shuffle_idx[n_test:]], s[shuffle_idx[:n_test]], np.array([0, 1] * n_test).reshape(-1, 1)\n",
    "a_train, a_test, a_eval = a[shuffle_idx[n_test:]], a[shuffle_idx[:n_test]], np.repeat(a[shuffle_idx[:n_test]], 2, axis=0)"
   ]
  },
  {
   "cell_type": "code",
   "execution_count": 18,
   "metadata": {},
   "outputs": [
    {
     "output_type": "execute_result",
     "data": {
      "text/plain": "         y_ml     y_ftu      y_eo      y_aa       y_1       y_2\neo   0.047609  0.000000  0.000000  0.007883  0.007818  0.007778\ncf   0.036733  0.005647  0.008429  0.000969  0.000965  0.000959\nmae  0.124969  0.126105  0.126727  0.126556  0.125827  0.125827",
      "text/html": "<div>\n<style scoped>\n    .dataframe tbody tr th:only-of-type {\n        vertical-align: middle;\n    }\n\n    .dataframe tbody tr th {\n        vertical-align: top;\n    }\n\n    .dataframe thead th {\n        text-align: right;\n    }\n</style>\n<table border=\"1\" class=\"dataframe\">\n  <thead>\n    <tr style=\"text-align: right;\">\n      <th></th>\n      <th>y_ml</th>\n      <th>y_ftu</th>\n      <th>y_eo</th>\n      <th>y_aa</th>\n      <th>y_1</th>\n      <th>y_2</th>\n    </tr>\n  </thead>\n  <tbody>\n    <tr>\n      <th>eo</th>\n      <td>0.047609</td>\n      <td>0.000000</td>\n      <td>0.000000</td>\n      <td>0.007883</td>\n      <td>0.007818</td>\n      <td>0.007778</td>\n    </tr>\n    <tr>\n      <th>cf</th>\n      <td>0.036733</td>\n      <td>0.005647</td>\n      <td>0.008429</td>\n      <td>0.000969</td>\n      <td>0.000965</td>\n      <td>0.000959</td>\n    </tr>\n    <tr>\n      <th>mae</th>\n      <td>0.124969</td>\n      <td>0.126105</td>\n      <td>0.126727</td>\n      <td>0.126556</td>\n      <td>0.125827</td>\n      <td>0.125827</td>\n    </tr>\n  </tbody>\n</table>\n</div>"
     },
     "metadata": {},
     "execution_count": 18
    }
   ],
   "source": [
    "df_a_fair_o = FairData(s_train, a_train, y_train, preprocess_method='o')\n",
    "eval_o = df_a_fair_o.evaluate(s_test, a_test, y_test, ['eo', 'cf', 'mae'])\n",
    "pd.DataFrame(eval_o, index=['eo', 'cf', 'mae'], columns=['y_ml', 'y_ftu', 'y_eo', 'y_aa', 'y_1', 'y_2'])"
   ]
  },
  {
   "cell_type": "code",
   "execution_count": 19,
   "metadata": {},
   "outputs": [
    {
     "output_type": "execute_result",
     "data": {
      "text/plain": "         y_ml     y_ftu      y_eo      y_aa       y_1       y_2\neo   0.047609  0.000000  0.000000  0.007883  0.009826  0.010484\ncf   0.036733  0.005647  0.008429  0.000969  0.000072  0.000111\nmae  0.124969  0.126105  0.126727  0.126556  0.125743  0.125790",
      "text/html": "<div>\n<style scoped>\n    .dataframe tbody tr th:only-of-type {\n        vertical-align: middle;\n    }\n\n    .dataframe tbody tr th {\n        vertical-align: top;\n    }\n\n    .dataframe thead th {\n        text-align: right;\n    }\n</style>\n<table border=\"1\" class=\"dataframe\">\n  <thead>\n    <tr style=\"text-align: right;\">\n      <th></th>\n      <th>y_ml</th>\n      <th>y_ftu</th>\n      <th>y_eo</th>\n      <th>y_aa</th>\n      <th>y_1</th>\n      <th>y_2</th>\n    </tr>\n  </thead>\n  <tbody>\n    <tr>\n      <th>eo</th>\n      <td>0.047609</td>\n      <td>0.000000</td>\n      <td>0.000000</td>\n      <td>0.007883</td>\n      <td>0.009826</td>\n      <td>0.010484</td>\n    </tr>\n    <tr>\n      <th>cf</th>\n      <td>0.036733</td>\n      <td>0.005647</td>\n      <td>0.008429</td>\n      <td>0.000969</td>\n      <td>0.000072</td>\n      <td>0.000111</td>\n    </tr>\n    <tr>\n      <th>mae</th>\n      <td>0.124969</td>\n      <td>0.126105</td>\n      <td>0.126727</td>\n      <td>0.126556</td>\n      <td>0.125743</td>\n      <td>0.125790</td>\n    </tr>\n  </tbody>\n</table>\n</div>"
     },
     "metadata": {},
     "execution_count": 19
    }
   ],
   "source": [
    "df_a_fair_m = FairData(s_train, a_train, y_train, preprocess_method='m')\n",
    "eval_m = df_a_fair_m.evaluate(s_test, a_test, y_test, ['eo', 'cf', 'mae'])\n",
    "pd.DataFrame(eval_m, index=['eo', 'cf', 'mae'], columns=['y_ml', 'y_ftu', 'y_eo', 'y_aa', 'y_1', 'y_2'])"
   ]
  },
  {
   "cell_type": "code",
   "execution_count": 20,
   "metadata": {},
   "outputs": [
    {
     "output_type": "execute_result",
     "data": {
      "text/plain": "         y_ml     y_ftu      y_eo      y_aa       y_1       y_2\neo   0.047609  0.000000  0.000000  0.007883  0.009888  0.010507\ncf   0.036733  0.005647  0.008429  0.000969  0.000048  0.000149\nmae  0.124969  0.126105  0.126727  0.126556  0.125724  0.125799",
      "text/html": "<div>\n<style scoped>\n    .dataframe tbody tr th:only-of-type {\n        vertical-align: middle;\n    }\n\n    .dataframe tbody tr th {\n        vertical-align: top;\n    }\n\n    .dataframe thead th {\n        text-align: right;\n    }\n</style>\n<table border=\"1\" class=\"dataframe\">\n  <thead>\n    <tr style=\"text-align: right;\">\n      <th></th>\n      <th>y_ml</th>\n      <th>y_ftu</th>\n      <th>y_eo</th>\n      <th>y_aa</th>\n      <th>y_1</th>\n      <th>y_2</th>\n    </tr>\n  </thead>\n  <tbody>\n    <tr>\n      <th>eo</th>\n      <td>0.047609</td>\n      <td>0.000000</td>\n      <td>0.000000</td>\n      <td>0.007883</td>\n      <td>0.009888</td>\n      <td>0.010507</td>\n    </tr>\n    <tr>\n      <th>cf</th>\n      <td>0.036733</td>\n      <td>0.005647</td>\n      <td>0.008429</td>\n      <td>0.000969</td>\n      <td>0.000048</td>\n      <td>0.000149</td>\n    </tr>\n    <tr>\n      <th>mae</th>\n      <td>0.124969</td>\n      <td>0.126105</td>\n      <td>0.126727</td>\n      <td>0.126556</td>\n      <td>0.125724</td>\n      <td>0.125799</td>\n    </tr>\n  </tbody>\n</table>\n</div>"
     },
     "metadata": {},
     "execution_count": 20
    }
   ],
   "source": [
    "df_a_fair_r = FairData(s_train, a_train, y_train, preprocess_method='r')\n",
    "eval_r = df_a_fair_r.evaluate(s_test, a_test, y_test, ['eo', 'cf', 'mae'])\n",
    "pd.DataFrame(eval_r, index=['eo', 'cf', 'mae'], columns=['y_ml', 'y_ftu', 'y_eo', 'y_aa', 'y_1', 'y_2'])"
   ]
  },
  {
   "cell_type": "code",
   "execution_count": 21,
   "metadata": {},
   "outputs": [
    {
     "output_type": "execute_result",
     "data": {
      "text/plain": "[False, True, False, False, False, True]"
     },
     "metadata": {},
     "execution_count": 21
    }
   ],
   "source": [
    "df_a_fair_r.a_iscategory"
   ]
  },
  {
   "cell_type": "code",
   "execution_count": 26,
   "metadata": {},
   "outputs": [
    {
     "output_type": "execute_result",
     "data": {
      "text/plain": "        connections      apps       sms  contacts  approved_dum    salary  \\\n0          0.742061 -2.373794 -0.045504  0.890059             1  0.432050   \n1          0.742061 -2.373794 -0.045504  0.890059             1  0.432050   \n2          0.742061 -2.373794 -0.045504  0.890059             1  0.432050   \n3          0.742061 -2.373794 -0.045504  0.890059             1  0.432050   \n4          0.742061 -2.373794 -0.045504  0.890059             1  0.432050   \n...             ...       ...       ...       ...           ...       ...   \n261924    -2.702040 -1.024403 -0.808190 -0.729581             0  2.584841   \n261958     0.686491  0.358826  0.455738  0.377513             0  0.897138   \n261970    -0.070057 -0.336196  0.353732 -0.612465             0  1.523554   \n261987    -1.779172  0.081672 -0.483064  0.390122             0 -0.022064   \n261997     0.590134 -0.058297 -0.914767  0.441268             0 -0.089061   \n\n        gender_dum  age_dum  dum  \n0                1        1    3  \n1                1        1    3  \n2                1        1    3  \n3                1        1    3  \n4                1        1    3  \n...            ...      ...  ...  \n261924           1        0    1  \n261958           1        1    3  \n261970           1        0    1  \n261987           1        0    1  \n261997           1        1    3  \n\n[203656 rows x 9 columns]",
      "text/html": "<div>\n<style scoped>\n    .dataframe tbody tr th:only-of-type {\n        vertical-align: middle;\n    }\n\n    .dataframe tbody tr th {\n        vertical-align: top;\n    }\n\n    .dataframe thead th {\n        text-align: right;\n    }\n</style>\n<table border=\"1\" class=\"dataframe\">\n  <thead>\n    <tr style=\"text-align: right;\">\n      <th></th>\n      <th>connections</th>\n      <th>apps</th>\n      <th>sms</th>\n      <th>contacts</th>\n      <th>approved_dum</th>\n      <th>salary</th>\n      <th>gender_dum</th>\n      <th>age_dum</th>\n      <th>dum</th>\n    </tr>\n  </thead>\n  <tbody>\n    <tr>\n      <th>0</th>\n      <td>0.742061</td>\n      <td>-2.373794</td>\n      <td>-0.045504</td>\n      <td>0.890059</td>\n      <td>1</td>\n      <td>0.432050</td>\n      <td>1</td>\n      <td>1</td>\n      <td>3</td>\n    </tr>\n    <tr>\n      <th>1</th>\n      <td>0.742061</td>\n      <td>-2.373794</td>\n      <td>-0.045504</td>\n      <td>0.890059</td>\n      <td>1</td>\n      <td>0.432050</td>\n      <td>1</td>\n      <td>1</td>\n      <td>3</td>\n    </tr>\n    <tr>\n      <th>2</th>\n      <td>0.742061</td>\n      <td>-2.373794</td>\n      <td>-0.045504</td>\n      <td>0.890059</td>\n      <td>1</td>\n      <td>0.432050</td>\n      <td>1</td>\n      <td>1</td>\n      <td>3</td>\n    </tr>\n    <tr>\n      <th>3</th>\n      <td>0.742061</td>\n      <td>-2.373794</td>\n      <td>-0.045504</td>\n      <td>0.890059</td>\n      <td>1</td>\n      <td>0.432050</td>\n      <td>1</td>\n      <td>1</td>\n      <td>3</td>\n    </tr>\n    <tr>\n      <th>4</th>\n      <td>0.742061</td>\n      <td>-2.373794</td>\n      <td>-0.045504</td>\n      <td>0.890059</td>\n      <td>1</td>\n      <td>0.432050</td>\n      <td>1</td>\n      <td>1</td>\n      <td>3</td>\n    </tr>\n    <tr>\n      <th>...</th>\n      <td>...</td>\n      <td>...</td>\n      <td>...</td>\n      <td>...</td>\n      <td>...</td>\n      <td>...</td>\n      <td>...</td>\n      <td>...</td>\n      <td>...</td>\n    </tr>\n    <tr>\n      <th>261924</th>\n      <td>-2.702040</td>\n      <td>-1.024403</td>\n      <td>-0.808190</td>\n      <td>-0.729581</td>\n      <td>0</td>\n      <td>2.584841</td>\n      <td>1</td>\n      <td>0</td>\n      <td>1</td>\n    </tr>\n    <tr>\n      <th>261958</th>\n      <td>0.686491</td>\n      <td>0.358826</td>\n      <td>0.455738</td>\n      <td>0.377513</td>\n      <td>0</td>\n      <td>0.897138</td>\n      <td>1</td>\n      <td>1</td>\n      <td>3</td>\n    </tr>\n    <tr>\n      <th>261970</th>\n      <td>-0.070057</td>\n      <td>-0.336196</td>\n      <td>0.353732</td>\n      <td>-0.612465</td>\n      <td>0</td>\n      <td>1.523554</td>\n      <td>1</td>\n      <td>0</td>\n      <td>1</td>\n    </tr>\n    <tr>\n      <th>261987</th>\n      <td>-1.779172</td>\n      <td>0.081672</td>\n      <td>-0.483064</td>\n      <td>0.390122</td>\n      <td>0</td>\n      <td>-0.022064</td>\n      <td>1</td>\n      <td>0</td>\n      <td>1</td>\n    </tr>\n    <tr>\n      <th>261997</th>\n      <td>0.590134</td>\n      <td>-0.058297</td>\n      <td>-0.914767</td>\n      <td>0.441268</td>\n      <td>0</td>\n      <td>-0.089061</td>\n      <td>1</td>\n      <td>1</td>\n      <td>3</td>\n    </tr>\n  </tbody>\n</table>\n<p>203656 rows × 9 columns</p>\n</div>"
     },
     "metadata": {},
     "execution_count": 26
    }
   ],
   "source": [
    "df_b = df_a.copy()\n",
    "df_b['dum'] = 0\n",
    "df_b.loc[(df_b.age_dum == 0) & (df_b.gender_dum == 1), 'dum'] = 1\n",
    "df_b.loc[(df_b.age_dum == 1) & (df_b.gender_dum == 0), 'dum'] = 2\n",
    "df_b.loc[(df_b.age_dum == 1) & (df_b.gender_dum == 1), 'dum'] = 3\n",
    "df_b"
   ]
  },
  {
   "cell_type": "code",
   "execution_count": 27,
   "metadata": {},
   "outputs": [],
   "source": [
    "np.random.seed(1)\n",
    "\n",
    "y = df_b.approved_dum.values.reshape(-1, 1)\n",
    "s = df_b.dum.values.reshape(-1, 1)\n",
    "a = df_b.drop(['approved_dum', 'age_dum', 'gender_dum', 'dum'], axis=1).values\n",
    "\n",
    "n_test = 10000\n",
    "\n",
    "shuffle_idx = np.arange(y.shape[0])\n",
    "np.random.shuffle(shuffle_idx)\n",
    "y_train, y_test = y[shuffle_idx[n_test:]], y[shuffle_idx[:n_test]]\n",
    "s_train, s_test, s_eval = s[shuffle_idx[n_test:]], s[shuffle_idx[:n_test]], np.array([0, 1] * n_test).reshape(-1, 1)\n",
    "a_train, a_test, a_eval = a[shuffle_idx[n_test:]], a[shuffle_idx[:n_test]], np.repeat(a[shuffle_idx[:n_test]], 2, axis=0)"
   ]
  },
  {
   "cell_type": "code",
   "execution_count": 28,
   "metadata": {},
   "outputs": [
    {
     "output_type": "execute_result",
     "data": {
      "text/plain": "         y_ml     y_ftu      y_eo      y_aa       y_1       y_2\neo   0.051645  0.000000  0.000000  0.014663  0.014539  0.014438\ncf   0.039234  0.013032  0.015422  0.001123  0.001117  0.001115\nmae  0.124886  0.126101  0.126719  0.126567  0.125835  0.125834",
      "text/html": "<div>\n<style scoped>\n    .dataframe tbody tr th:only-of-type {\n        vertical-align: middle;\n    }\n\n    .dataframe tbody tr th {\n        vertical-align: top;\n    }\n\n    .dataframe thead th {\n        text-align: right;\n    }\n</style>\n<table border=\"1\" class=\"dataframe\">\n  <thead>\n    <tr style=\"text-align: right;\">\n      <th></th>\n      <th>y_ml</th>\n      <th>y_ftu</th>\n      <th>y_eo</th>\n      <th>y_aa</th>\n      <th>y_1</th>\n      <th>y_2</th>\n    </tr>\n  </thead>\n  <tbody>\n    <tr>\n      <th>eo</th>\n      <td>0.051645</td>\n      <td>0.000000</td>\n      <td>0.000000</td>\n      <td>0.014663</td>\n      <td>0.014539</td>\n      <td>0.014438</td>\n    </tr>\n    <tr>\n      <th>cf</th>\n      <td>0.039234</td>\n      <td>0.013032</td>\n      <td>0.015422</td>\n      <td>0.001123</td>\n      <td>0.001117</td>\n      <td>0.001115</td>\n    </tr>\n    <tr>\n      <th>mae</th>\n      <td>0.124886</td>\n      <td>0.126101</td>\n      <td>0.126719</td>\n      <td>0.126567</td>\n      <td>0.125835</td>\n      <td>0.125834</td>\n    </tr>\n  </tbody>\n</table>\n</div>"
     },
     "metadata": {},
     "execution_count": 28
    }
   ],
   "source": [
    "df_b_fair_o = FairData(s_train, a_train, y_train, preprocess_method='o')\n",
    "eval_o = df_b_fair_o.evaluate(s_test, a_test, y_test, ['eo', 'cf', 'mae'])\n",
    "pd.DataFrame(eval_o, index=['eo', 'cf', 'mae'], columns=['y_ml', 'y_ftu', 'y_eo', 'y_aa', 'y_1', 'y_2'])"
   ]
  },
  {
   "cell_type": "code",
   "execution_count": 74,
   "metadata": {},
   "outputs": [
    {
     "output_type": "execute_result",
     "data": {
      "text/plain": "<class 'statsmodels.iolib.summary.Summary'>\n\"\"\"\n                           Logit Regression Results                           \n==============================================================================\nDep. Variable:                      y   No. Observations:               193656\nModel:                          Logit   Df Residuals:                   193647\nMethod:                           MLE   Df Model:                            8\nDate:                Wed, 23 Sep 2020   Pseudo R-squ.:                 0.03138\nTime:                        15:40:43   Log-Likelihood:                -46848.\nconverged:                       True   LL-Null:                       -48365.\nCovariance Type:            nonrobust   LLR p-value:                     0.000\n==============================================================================\n                 coef    std err          z      P>|z|      [0.025      0.975]\n------------------------------------------------------------------------------\nx1             2.5047      0.049     51.098      0.000       2.409       2.601\nx2             2.1805      0.017    130.204      0.000       2.148       2.213\nx3             2.8940      0.040     72.137      0.000       2.815       2.973\nx4             2.8714      0.012    233.602      0.000       2.847       2.895\nx5             0.1789      0.009     20.375      0.000       0.162       0.196\nx6             0.2703      0.009     29.968      0.000       0.253       0.288\nx7             0.1728      0.009     19.139      0.000       0.155       0.190\nx8            -0.1164      0.010    -11.406      0.000      -0.136      -0.096\nx9            -0.1312      0.009    -14.294      0.000      -0.149      -0.113\n==============================================================================\n\"\"\"",
      "text/html": "<table class=\"simpletable\">\n<caption>Logit Regression Results</caption>\n<tr>\n  <th>Dep. Variable:</th>           <td>y</td>        <th>  No. Observations:  </th>  <td>193656</td> \n</tr>\n<tr>\n  <th>Model:</th>                 <td>Logit</td>      <th>  Df Residuals:      </th>  <td>193647</td> \n</tr>\n<tr>\n  <th>Method:</th>                 <td>MLE</td>       <th>  Df Model:          </th>  <td>     8</td> \n</tr>\n<tr>\n  <th>Date:</th>            <td>Wed, 23 Sep 2020</td> <th>  Pseudo R-squ.:     </th>  <td>0.03138</td>\n</tr>\n<tr>\n  <th>Time:</th>                <td>15:40:43</td>     <th>  Log-Likelihood:    </th> <td> -46848.</td>\n</tr>\n<tr>\n  <th>converged:</th>             <td>True</td>       <th>  LL-Null:           </th> <td> -48365.</td>\n</tr>\n<tr>\n  <th>Covariance Type:</th>     <td>nonrobust</td>    <th>  LLR p-value:       </th>  <td> 0.000</td> \n</tr>\n</table>\n<table class=\"simpletable\">\n<tr>\n   <td></td>     <th>coef</th>     <th>std err</th>      <th>z</th>      <th>P>|z|</th>  <th>[0.025</th>    <th>0.975]</th>  \n</tr>\n<tr>\n  <th>x1</th> <td>    2.5047</td> <td>    0.049</td> <td>   51.098</td> <td> 0.000</td> <td>    2.409</td> <td>    2.601</td>\n</tr>\n<tr>\n  <th>x2</th> <td>    2.1805</td> <td>    0.017</td> <td>  130.204</td> <td> 0.000</td> <td>    2.148</td> <td>    2.213</td>\n</tr>\n<tr>\n  <th>x3</th> <td>    2.8940</td> <td>    0.040</td> <td>   72.137</td> <td> 0.000</td> <td>    2.815</td> <td>    2.973</td>\n</tr>\n<tr>\n  <th>x4</th> <td>    2.8714</td> <td>    0.012</td> <td>  233.602</td> <td> 0.000</td> <td>    2.847</td> <td>    2.895</td>\n</tr>\n<tr>\n  <th>x5</th> <td>    0.1789</td> <td>    0.009</td> <td>   20.375</td> <td> 0.000</td> <td>    0.162</td> <td>    0.196</td>\n</tr>\n<tr>\n  <th>x6</th> <td>    0.2703</td> <td>    0.009</td> <td>   29.968</td> <td> 0.000</td> <td>    0.253</td> <td>    0.288</td>\n</tr>\n<tr>\n  <th>x7</th> <td>    0.1728</td> <td>    0.009</td> <td>   19.139</td> <td> 0.000</td> <td>    0.155</td> <td>    0.190</td>\n</tr>\n<tr>\n  <th>x8</th> <td>   -0.1164</td> <td>    0.010</td> <td>  -11.406</td> <td> 0.000</td> <td>   -0.136</td> <td>   -0.096</td>\n</tr>\n<tr>\n  <th>x9</th> <td>   -0.1312</td> <td>    0.009</td> <td>  -14.294</td> <td> 0.000</td> <td>   -0.149</td> <td>   -0.113</td>\n</tr>\n</table>"
     },
     "metadata": {},
     "execution_count": 74
    }
   ],
   "source": [
    "df_b_fair_o.ml.summary()"
   ]
  },
  {
   "cell_type": "code",
   "execution_count": 29,
   "metadata": {},
   "outputs": [
    {
     "output_type": "execute_result",
     "data": {
      "text/plain": "         y_ml     y_ftu      y_eo      y_aa       y_1       y_2\neo   0.051645  0.000000  0.000000  0.014663  0.016576  0.016719\ncf   0.039234  0.013032  0.015422  0.001123  0.000766  0.000745\nmae  0.124886  0.126101  0.126719  0.126567  0.125755  0.125772",
      "text/html": "<div>\n<style scoped>\n    .dataframe tbody tr th:only-of-type {\n        vertical-align: middle;\n    }\n\n    .dataframe tbody tr th {\n        vertical-align: top;\n    }\n\n    .dataframe thead th {\n        text-align: right;\n    }\n</style>\n<table border=\"1\" class=\"dataframe\">\n  <thead>\n    <tr style=\"text-align: right;\">\n      <th></th>\n      <th>y_ml</th>\n      <th>y_ftu</th>\n      <th>y_eo</th>\n      <th>y_aa</th>\n      <th>y_1</th>\n      <th>y_2</th>\n    </tr>\n  </thead>\n  <tbody>\n    <tr>\n      <th>eo</th>\n      <td>0.051645</td>\n      <td>0.000000</td>\n      <td>0.000000</td>\n      <td>0.014663</td>\n      <td>0.016576</td>\n      <td>0.016719</td>\n    </tr>\n    <tr>\n      <th>cf</th>\n      <td>0.039234</td>\n      <td>0.013032</td>\n      <td>0.015422</td>\n      <td>0.001123</td>\n      <td>0.000766</td>\n      <td>0.000745</td>\n    </tr>\n    <tr>\n      <th>mae</th>\n      <td>0.124886</td>\n      <td>0.126101</td>\n      <td>0.126719</td>\n      <td>0.126567</td>\n      <td>0.125755</td>\n      <td>0.125772</td>\n    </tr>\n  </tbody>\n</table>\n</div>"
     },
     "metadata": {},
     "execution_count": 29
    }
   ],
   "source": [
    "df_b_fair_m = FairData(s_train, a_train, y_train, preprocess_method='m')\n",
    "eval_m = df_b_fair_m.evaluate(s_test, a_test, y_test, ['eo', 'cf', 'mae'])\n",
    "pd.DataFrame(eval_m, index=['eo', 'cf', 'mae'], columns=['y_ml', 'y_ftu', 'y_eo', 'y_aa', 'y_1', 'y_2'])"
   ]
  },
  {
   "cell_type": "code",
   "execution_count": 30,
   "metadata": {
    "tags": []
   },
   "outputs": [
    {
     "output_type": "stream",
     "name": "stdout",
     "text": "<F test: F=array([[25127.24149695]]), p=0.0, df_denom=1.94e+05, df_num=3>\n"
    },
    {
     "output_type": "execute_result",
     "data": {
      "text/plain": "0.0"
     },
     "metadata": {},
     "execution_count": 30
    }
   ],
   "source": [
    "df_b_fair_m.cit_parametric(summary=True)"
   ]
  },
  {
   "cell_type": "code",
   "execution_count": 59,
   "metadata": {
    "tags": []
   },
   "outputs": [
    {
     "output_type": "stream",
     "name": "stdout",
     "text": "<F test: F=array([[25759.31690959]]), p=0.0, df_denom=1.94e+05, df_num=3>\n"
    },
    {
     "output_type": "execute_result",
     "data": {
      "text/plain": "0.0"
     },
     "metadata": {},
     "execution_count": 59
    }
   ],
   "source": [
    "p = df_b_fair_m.f_2(s_train, a_train, 'm')\n",
    "y_hat = np.random.binomial(1, 0.95, len(y_train)).reshape(-1, 1)\n",
    "df_b_processed = FairData(s_train, a_train, y_hat, preprocess_method='m')\n",
    "df_b_processed.cit_parametric(summary=True)"
   ]
  },
  {
   "cell_type": "code",
   "execution_count": 66,
   "metadata": {},
   "outputs": [
    {
     "output_type": "execute_result",
     "data": {
      "text/plain": "        connections      apps       sms  contacts  approved_dum    salary  \\\n240043    -3.099497  0.271532  0.844877 -0.566906             0  0.753932   \n240044     1.115360  1.220952 -0.365584  0.116484             0 -0.446098   \n240045     0.477619 -3.669729 -2.133790  2.714895             0 -0.295031   \n240046     0.066562 -1.475476 -0.272350  0.087979             0  0.432050   \n240048     0.488710  1.286706  0.201531  0.925681             0 -1.369973   \n...             ...       ...       ...       ...           ...       ...   \n24265      0.849892  0.179342 -0.495486 -4.262774             1 -0.154390   \n187497    -0.270022 -0.133020  0.039026 -0.425172             1  0.658516   \n41203     -2.702040 -2.703623 -1.641612 -0.524183             1 -1.126989   \n13730      0.294454  1.647014 -0.106566 -0.215022             1  1.572837   \n62243      0.465165 -0.959938  0.215348  0.714483             1 -0.154390   \n\n        gender_dum  age_dum  dum  \n240043           1        1    3  \n240044           1        1    3  \n240045           1        1    3  \n240046           1        1    3  \n240048           1        0    1  \n...            ...      ...  ...  \n24265            1        0    1  \n187497           1        1    3  \n41203            1        0    1  \n13730            1        1    3  \n62243            1        1    3  \n\n[27888 rows x 9 columns]",
      "text/html": "<div>\n<style scoped>\n    .dataframe tbody tr th:only-of-type {\n        vertical-align: middle;\n    }\n\n    .dataframe tbody tr th {\n        vertical-align: top;\n    }\n\n    .dataframe thead th {\n        text-align: right;\n    }\n</style>\n<table border=\"1\" class=\"dataframe\">\n  <thead>\n    <tr style=\"text-align: right;\">\n      <th></th>\n      <th>connections</th>\n      <th>apps</th>\n      <th>sms</th>\n      <th>contacts</th>\n      <th>approved_dum</th>\n      <th>salary</th>\n      <th>gender_dum</th>\n      <th>age_dum</th>\n      <th>dum</th>\n    </tr>\n  </thead>\n  <tbody>\n    <tr>\n      <th>240043</th>\n      <td>-3.099497</td>\n      <td>0.271532</td>\n      <td>0.844877</td>\n      <td>-0.566906</td>\n      <td>0</td>\n      <td>0.753932</td>\n      <td>1</td>\n      <td>1</td>\n      <td>3</td>\n    </tr>\n    <tr>\n      <th>240044</th>\n      <td>1.115360</td>\n      <td>1.220952</td>\n      <td>-0.365584</td>\n      <td>0.116484</td>\n      <td>0</td>\n      <td>-0.446098</td>\n      <td>1</td>\n      <td>1</td>\n      <td>3</td>\n    </tr>\n    <tr>\n      <th>240045</th>\n      <td>0.477619</td>\n      <td>-3.669729</td>\n      <td>-2.133790</td>\n      <td>2.714895</td>\n      <td>0</td>\n      <td>-0.295031</td>\n      <td>1</td>\n      <td>1</td>\n      <td>3</td>\n    </tr>\n    <tr>\n      <th>240046</th>\n      <td>0.066562</td>\n      <td>-1.475476</td>\n      <td>-0.272350</td>\n      <td>0.087979</td>\n      <td>0</td>\n      <td>0.432050</td>\n      <td>1</td>\n      <td>1</td>\n      <td>3</td>\n    </tr>\n    <tr>\n      <th>240048</th>\n      <td>0.488710</td>\n      <td>1.286706</td>\n      <td>0.201531</td>\n      <td>0.925681</td>\n      <td>0</td>\n      <td>-1.369973</td>\n      <td>1</td>\n      <td>0</td>\n      <td>1</td>\n    </tr>\n    <tr>\n      <th>...</th>\n      <td>...</td>\n      <td>...</td>\n      <td>...</td>\n      <td>...</td>\n      <td>...</td>\n      <td>...</td>\n      <td>...</td>\n      <td>...</td>\n      <td>...</td>\n    </tr>\n    <tr>\n      <th>24265</th>\n      <td>0.849892</td>\n      <td>0.179342</td>\n      <td>-0.495486</td>\n      <td>-4.262774</td>\n      <td>1</td>\n      <td>-0.154390</td>\n      <td>1</td>\n      <td>0</td>\n      <td>1</td>\n    </tr>\n    <tr>\n      <th>187497</th>\n      <td>-0.270022</td>\n      <td>-0.133020</td>\n      <td>0.039026</td>\n      <td>-0.425172</td>\n      <td>1</td>\n      <td>0.658516</td>\n      <td>1</td>\n      <td>1</td>\n      <td>3</td>\n    </tr>\n    <tr>\n      <th>41203</th>\n      <td>-2.702040</td>\n      <td>-2.703623</td>\n      <td>-1.641612</td>\n      <td>-0.524183</td>\n      <td>1</td>\n      <td>-1.126989</td>\n      <td>1</td>\n      <td>0</td>\n      <td>1</td>\n    </tr>\n    <tr>\n      <th>13730</th>\n      <td>0.294454</td>\n      <td>1.647014</td>\n      <td>-0.106566</td>\n      <td>-0.215022</td>\n      <td>1</td>\n      <td>1.572837</td>\n      <td>1</td>\n      <td>1</td>\n      <td>3</td>\n    </tr>\n    <tr>\n      <th>62243</th>\n      <td>0.465165</td>\n      <td>-0.959938</td>\n      <td>0.215348</td>\n      <td>0.714483</td>\n      <td>1</td>\n      <td>-0.154390</td>\n      <td>1</td>\n      <td>1</td>\n      <td>3</td>\n    </tr>\n  </tbody>\n</table>\n<p>27888 rows × 9 columns</p>\n</div>"
     },
     "metadata": {},
     "execution_count": 66
    }
   ],
   "source": [
    "df_downsamp_0 = df_b[df_b.approved_dum == 0]\n",
    "df_downsamp_1 = df_b[df_b.approved_dum == 1].sample(len(df_downsamp_0))\n",
    "df_downsamp = pd.concat([df_downsamp_0, df_downsamp_1])\n",
    "df_downsamp"
   ]
  },
  {
   "cell_type": "code",
   "execution_count": 68,
   "metadata": {},
   "outputs": [],
   "source": [
    "np.random.seed(1)\n",
    "\n",
    "y = df_downsamp.approved_dum.values.reshape(-1, 1)\n",
    "s = df_downsamp.dum.values.reshape(-1, 1)\n",
    "a = df_downsamp.drop(['approved_dum', 'age_dum', 'gender_dum', 'dum'], axis=1).values\n",
    "\n",
    "n_test = 10000\n",
    "\n",
    "shuffle_idx = np.arange(y.shape[0])\n",
    "np.random.shuffle(shuffle_idx)\n",
    "y_train, y_test = y[shuffle_idx[n_test:]], y[shuffle_idx[:n_test]]\n",
    "s_train, s_test, s_eval = s[shuffle_idx[n_test:]], s[shuffle_idx[:n_test]], np.array([0, 1] * n_test).reshape(-1, 1)\n",
    "a_train, a_test, a_eval = a[shuffle_idx[n_test:]], a[shuffle_idx[:n_test]], np.repeat(a[shuffle_idx[:n_test]], 2, axis=0)"
   ]
  },
  {
   "cell_type": "code",
   "execution_count": 69,
   "metadata": {},
   "outputs": [
    {
     "output_type": "execute_result",
     "data": {
      "text/plain": "         y_ml     y_ftu      y_eo      y_aa       y_1       y_2\neo   0.153452  0.000000  0.000000  0.038834  0.038915  0.038944\ncf   0.147116  0.034730  0.036162  0.002751  0.002758  0.002767\nmae  0.471849  0.480594  0.480206  0.479685  0.479642  0.479629",
      "text/html": "<div>\n<style scoped>\n    .dataframe tbody tr th:only-of-type {\n        vertical-align: middle;\n    }\n\n    .dataframe tbody tr th {\n        vertical-align: top;\n    }\n\n    .dataframe thead th {\n        text-align: right;\n    }\n</style>\n<table border=\"1\" class=\"dataframe\">\n  <thead>\n    <tr style=\"text-align: right;\">\n      <th></th>\n      <th>y_ml</th>\n      <th>y_ftu</th>\n      <th>y_eo</th>\n      <th>y_aa</th>\n      <th>y_1</th>\n      <th>y_2</th>\n    </tr>\n  </thead>\n  <tbody>\n    <tr>\n      <th>eo</th>\n      <td>0.153452</td>\n      <td>0.000000</td>\n      <td>0.000000</td>\n      <td>0.038834</td>\n      <td>0.038915</td>\n      <td>0.038944</td>\n    </tr>\n    <tr>\n      <th>cf</th>\n      <td>0.147116</td>\n      <td>0.034730</td>\n      <td>0.036162</td>\n      <td>0.002751</td>\n      <td>0.002758</td>\n      <td>0.002767</td>\n    </tr>\n    <tr>\n      <th>mae</th>\n      <td>0.471849</td>\n      <td>0.480594</td>\n      <td>0.480206</td>\n      <td>0.479685</td>\n      <td>0.479642</td>\n      <td>0.479629</td>\n    </tr>\n  </tbody>\n</table>\n</div>"
     },
     "metadata": {},
     "execution_count": 69
    }
   ],
   "source": [
    "df_downsamp_fair_o = FairData(s_train, a_train, y_train, preprocess_method='o')\n",
    "eval_o = df_downsamp_fair_o.evaluate(s_test, a_test, y_test, ['eo', 'cf', 'mae'])\n",
    "pd.DataFrame(eval_o, index=['eo', 'cf', 'mae'], columns=['y_ml', 'y_ftu', 'y_eo', 'y_aa', 'y_1', 'y_2'])"
   ]
  },
  {
   "cell_type": "code",
   "execution_count": 70,
   "metadata": {},
   "outputs": [
    {
     "output_type": "execute_result",
     "data": {
      "text/plain": "         y_ml     y_ftu      y_eo      y_aa       y_1       y_2\neo   0.153452  0.000000  0.000000  0.038834  0.037291  0.037029\ncf   0.147116  0.034730  0.036162  0.002751  0.003745  0.003693\nmae  0.471849  0.480594  0.480206  0.479685  0.479920  0.480044",
      "text/html": "<div>\n<style scoped>\n    .dataframe tbody tr th:only-of-type {\n        vertical-align: middle;\n    }\n\n    .dataframe tbody tr th {\n        vertical-align: top;\n    }\n\n    .dataframe thead th {\n        text-align: right;\n    }\n</style>\n<table border=\"1\" class=\"dataframe\">\n  <thead>\n    <tr style=\"text-align: right;\">\n      <th></th>\n      <th>y_ml</th>\n      <th>y_ftu</th>\n      <th>y_eo</th>\n      <th>y_aa</th>\n      <th>y_1</th>\n      <th>y_2</th>\n    </tr>\n  </thead>\n  <tbody>\n    <tr>\n      <th>eo</th>\n      <td>0.153452</td>\n      <td>0.000000</td>\n      <td>0.000000</td>\n      <td>0.038834</td>\n      <td>0.037291</td>\n      <td>0.037029</td>\n    </tr>\n    <tr>\n      <th>cf</th>\n      <td>0.147116</td>\n      <td>0.034730</td>\n      <td>0.036162</td>\n      <td>0.002751</td>\n      <td>0.003745</td>\n      <td>0.003693</td>\n    </tr>\n    <tr>\n      <th>mae</th>\n      <td>0.471849</td>\n      <td>0.480594</td>\n      <td>0.480206</td>\n      <td>0.479685</td>\n      <td>0.479920</td>\n      <td>0.480044</td>\n    </tr>\n  </tbody>\n</table>\n</div>"
     },
     "metadata": {},
     "execution_count": 70
    }
   ],
   "source": [
    "df_downsamp_fair_m = FairData(s_train, a_train, y_train, preprocess_method='m')\n",
    "eval_m = df_downsamp_fair_m.evaluate(s_test, a_test, y_test, ['eo', 'cf', 'mae'])\n",
    "pd.DataFrame(eval_m, index=['eo', 'cf', 'mae'], columns=['y_ml', 'y_ftu', 'y_eo', 'y_aa', 'y_1', 'y_2'])"
   ]
  },
  {
   "cell_type": "code",
   "execution_count": 71,
   "metadata": {
    "tags": []
   },
   "outputs": [
    {
     "output_type": "stream",
     "name": "stdout",
     "text": "<F test: F=array([[110.36026334]]), p=8.385252753101234e-71, df_denom=1.79e+04, df_num=3>\n"
    },
    {
     "output_type": "execute_result",
     "data": {
      "text/plain": "8.385252753101234e-71"
     },
     "metadata": {},
     "execution_count": 71
    }
   ],
   "source": [
    "df_downsamp_fair_m.cit_parametric(summary=True)"
   ]
  },
  {
   "cell_type": "code",
   "execution_count": 73,
   "metadata": {
    "tags": []
   },
   "outputs": [
    {
     "output_type": "stream",
     "name": "stdout",
     "text": "<F test: F=array([[10.53193649]]), p=6.451279021429456e-07, df_denom=1.79e+04, df_num=3>\n"
    },
    {
     "output_type": "execute_result",
     "data": {
      "text/plain": "6.451279021429456e-07"
     },
     "metadata": {},
     "execution_count": 73
    }
   ],
   "source": [
    "p = df_downsamp_fair_m.f_2(s_train, a_train, 'o')\n",
    "y_hat = np.random.binomial(1, p).reshape(-1, 1)\n",
    "df_b_processed = FairData(s_train, a_train, y_hat, preprocess_method='o')\n",
    "df_b_processed.cit_parametric(summary=True)"
   ]
  },
  {
   "cell_type": "code",
   "execution_count": null,
   "metadata": {},
   "outputs": [],
   "source": []
  }
 ]
}