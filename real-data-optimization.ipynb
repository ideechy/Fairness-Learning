{
 "metadata": {
  "language_info": {
   "codemirror_mode": {
    "name": "ipython",
    "version": 3
   },
   "file_extension": ".py",
   "mimetype": "text/x-python",
   "name": "python",
   "nbconvert_exporter": "python",
   "pygments_lexer": "ipython3",
   "version": "3.8.5-final"
  },
  "orig_nbformat": 2,
  "kernelspec": {
   "name": "python3",
   "display_name": "Python 3"
  }
 },
 "nbformat": 4,
 "nbformat_minor": 2,
 "cells": [
  {
   "cell_type": "code",
   "execution_count": 1,
   "metadata": {},
   "outputs": [],
   "source": [
    "import pandas as pd\n",
    "import numpy as np\n",
    "import statsmodels.api as sm\n",
    "import matplotlib.pyplot as plt\n",
    "import seaborn as sns\n",
    "from sklearn.preprocessing import StandardScaler\n",
    "from fairdata import FairData\n",
    "from fairopt import FairOptimization"
   ]
  },
  {
   "cell_type": "code",
   "execution_count": 2,
   "metadata": {},
   "outputs": [
    {
     "output_type": "execute_result",
     "data": {
      "text/plain": [
       "        customer_id  loan_request_id loan_transferred_date  def_flag      age  \\\n",
       "0               144            199.0   2016-04-18 10:34:00       0.0  29.9315   \n",
       "1               144           1658.0   2016-06-30 10:04:00       1.0  29.9315   \n",
       "2               144           1039.0   2016-06-03 02:18:00       0.0  29.9315   \n",
       "3               144            417.0   2016-05-04 10:18:00       0.0  29.9315   \n",
       "4               150            218.0   2016-04-19 14:34:00       0.0  32.0740   \n",
       "...             ...              ...                   ...       ...      ...   \n",
       "383756      3200000              NaN                   NaT       NaN      NaN   \n",
       "383757      3200000              NaN                   NaT       NaN      NaN   \n",
       "383758      3200000              NaN                   NaT       NaN      NaN   \n",
       "383759      3200000              NaN                   NaT       NaN      NaN   \n",
       "383760      3200000              NaN                   NaT       NaN      NaN   \n",
       "\n",
       "        noofconnections  noofapps  noofsms  noofcontacts gender  \n",
       "0                 401.0      19.0    472.0         358.0    NaN  \n",
       "1                 401.0      19.0    472.0         358.0    NaN  \n",
       "2                 401.0      19.0    472.0         358.0    NaN  \n",
       "3                 401.0      19.0    472.0         358.0    NaN  \n",
       "4                 811.0      10.0    584.0        1820.0      m  \n",
       "...                 ...       ...      ...           ...    ...  \n",
       "383756              NaN       NaN      NaN           NaN      m  \n",
       "383757              NaN       NaN      NaN           NaN      m  \n",
       "383758              NaN       NaN      NaN           NaN      m  \n",
       "383759              NaN       NaN      NaN           NaN      m  \n",
       "383760              NaN       NaN      NaN           NaN      m  \n",
       "\n",
       "[383761 rows x 10 columns]"
      ],
      "text/html": "<div>\n<style scoped>\n    .dataframe tbody tr th:only-of-type {\n        vertical-align: middle;\n    }\n\n    .dataframe tbody tr th {\n        vertical-align: top;\n    }\n\n    .dataframe thead th {\n        text-align: right;\n    }\n</style>\n<table border=\"1\" class=\"dataframe\">\n  <thead>\n    <tr style=\"text-align: right;\">\n      <th></th>\n      <th>customer_id</th>\n      <th>loan_request_id</th>\n      <th>loan_transferred_date</th>\n      <th>def_flag</th>\n      <th>age</th>\n      <th>noofconnections</th>\n      <th>noofapps</th>\n      <th>noofsms</th>\n      <th>noofcontacts</th>\n      <th>gender</th>\n    </tr>\n  </thead>\n  <tbody>\n    <tr>\n      <th>0</th>\n      <td>144</td>\n      <td>199.0</td>\n      <td>2016-04-18 10:34:00</td>\n      <td>0.0</td>\n      <td>29.9315</td>\n      <td>401.0</td>\n      <td>19.0</td>\n      <td>472.0</td>\n      <td>358.0</td>\n      <td>NaN</td>\n    </tr>\n    <tr>\n      <th>1</th>\n      <td>144</td>\n      <td>1658.0</td>\n      <td>2016-06-30 10:04:00</td>\n      <td>1.0</td>\n      <td>29.9315</td>\n      <td>401.0</td>\n      <td>19.0</td>\n      <td>472.0</td>\n      <td>358.0</td>\n      <td>NaN</td>\n    </tr>\n    <tr>\n      <th>2</th>\n      <td>144</td>\n      <td>1039.0</td>\n      <td>2016-06-03 02:18:00</td>\n      <td>0.0</td>\n      <td>29.9315</td>\n      <td>401.0</td>\n      <td>19.0</td>\n      <td>472.0</td>\n      <td>358.0</td>\n      <td>NaN</td>\n    </tr>\n    <tr>\n      <th>3</th>\n      <td>144</td>\n      <td>417.0</td>\n      <td>2016-05-04 10:18:00</td>\n      <td>0.0</td>\n      <td>29.9315</td>\n      <td>401.0</td>\n      <td>19.0</td>\n      <td>472.0</td>\n      <td>358.0</td>\n      <td>NaN</td>\n    </tr>\n    <tr>\n      <th>4</th>\n      <td>150</td>\n      <td>218.0</td>\n      <td>2016-04-19 14:34:00</td>\n      <td>0.0</td>\n      <td>32.0740</td>\n      <td>811.0</td>\n      <td>10.0</td>\n      <td>584.0</td>\n      <td>1820.0</td>\n      <td>m</td>\n    </tr>\n    <tr>\n      <th>...</th>\n      <td>...</td>\n      <td>...</td>\n      <td>...</td>\n      <td>...</td>\n      <td>...</td>\n      <td>...</td>\n      <td>...</td>\n      <td>...</td>\n      <td>...</td>\n      <td>...</td>\n    </tr>\n    <tr>\n      <th>383756</th>\n      <td>3200000</td>\n      <td>NaN</td>\n      <td>NaT</td>\n      <td>NaN</td>\n      <td>NaN</td>\n      <td>NaN</td>\n      <td>NaN</td>\n      <td>NaN</td>\n      <td>NaN</td>\n      <td>m</td>\n    </tr>\n    <tr>\n      <th>383757</th>\n      <td>3200000</td>\n      <td>NaN</td>\n      <td>NaT</td>\n      <td>NaN</td>\n      <td>NaN</td>\n      <td>NaN</td>\n      <td>NaN</td>\n      <td>NaN</td>\n      <td>NaN</td>\n      <td>m</td>\n    </tr>\n    <tr>\n      <th>383758</th>\n      <td>3200000</td>\n      <td>NaN</td>\n      <td>NaT</td>\n      <td>NaN</td>\n      <td>NaN</td>\n      <td>NaN</td>\n      <td>NaN</td>\n      <td>NaN</td>\n      <td>NaN</td>\n      <td>m</td>\n    </tr>\n    <tr>\n      <th>383759</th>\n      <td>3200000</td>\n      <td>NaN</td>\n      <td>NaT</td>\n      <td>NaN</td>\n      <td>NaN</td>\n      <td>NaN</td>\n      <td>NaN</td>\n      <td>NaN</td>\n      <td>NaN</td>\n      <td>m</td>\n    </tr>\n    <tr>\n      <th>383760</th>\n      <td>3200000</td>\n      <td>NaN</td>\n      <td>NaT</td>\n      <td>NaN</td>\n      <td>NaN</td>\n      <td>NaN</td>\n      <td>NaN</td>\n      <td>NaN</td>\n      <td>NaN</td>\n      <td>m</td>\n    </tr>\n  </tbody>\n</table>\n<p>383761 rows × 10 columns</p>\n</div>"
     },
     "metadata": {},
     "execution_count": 2
    }
   ],
   "source": [
    "df_raw_1 = pd.read_excel('data/Fintech-fairnessJun2020.xlsx', sheet_name='Approved&Default')\n",
    "df_raw_1"
   ]
  },
  {
   "cell_type": "code",
   "execution_count": 3,
   "metadata": {},
   "outputs": [
    {
     "output_type": "execute_result",
     "data": {
      "text/plain": [
       "       customer_id      age  noofconnections  noofapps  noofsms  noofcontacts  \\\n",
       "0              185  30.6932              0.0      54.0   3646.0         217.0   \n",
       "1              237  30.1973           1556.0      97.0    302.0         589.0   \n",
       "2              290  47.6575            511.0       4.0      7.0       25996.0   \n",
       "3              769  47.4247            249.0      18.0    366.0         565.0   \n",
       "4              803  31.3452            109.0      39.0    719.0         226.0   \n",
       "...            ...      ...              ...       ...      ...           ...   \n",
       "49979      3200000  26.3123              0.0      21.0      NaN         209.0   \n",
       "49980      3200000  25.5945            384.0      30.0      NaN         663.0   \n",
       "49981      3200000  24.1973            938.0       NaN      NaN           0.0   \n",
       "49982      3200000  20.1370              0.0      98.0      NaN         409.0   \n",
       "49983      3200000  26.8192              0.0      72.0      NaN         844.0   \n",
       "\n",
       "       loan_request_initial_id gender  \n",
       "0                        12116      m  \n",
       "1                       145910      m  \n",
       "2                          135      m  \n",
       "3                       193588      m  \n",
       "4                         1808      m  \n",
       "...                        ...    ...  \n",
       "49979                   711504      m  \n",
       "49980                   711581      m  \n",
       "49981                   711596      m  \n",
       "49982                   711610      m  \n",
       "49983                   711665      m  \n",
       "\n",
       "[49984 rows x 8 columns]"
      ],
      "text/html": "<div>\n<style scoped>\n    .dataframe tbody tr th:only-of-type {\n        vertical-align: middle;\n    }\n\n    .dataframe tbody tr th {\n        vertical-align: top;\n    }\n\n    .dataframe thead th {\n        text-align: right;\n    }\n</style>\n<table border=\"1\" class=\"dataframe\">\n  <thead>\n    <tr style=\"text-align: right;\">\n      <th></th>\n      <th>customer_id</th>\n      <th>age</th>\n      <th>noofconnections</th>\n      <th>noofapps</th>\n      <th>noofsms</th>\n      <th>noofcontacts</th>\n      <th>loan_request_initial_id</th>\n      <th>gender</th>\n    </tr>\n  </thead>\n  <tbody>\n    <tr>\n      <th>0</th>\n      <td>185</td>\n      <td>30.6932</td>\n      <td>0.0</td>\n      <td>54.0</td>\n      <td>3646.0</td>\n      <td>217.0</td>\n      <td>12116</td>\n      <td>m</td>\n    </tr>\n    <tr>\n      <th>1</th>\n      <td>237</td>\n      <td>30.1973</td>\n      <td>1556.0</td>\n      <td>97.0</td>\n      <td>302.0</td>\n      <td>589.0</td>\n      <td>145910</td>\n      <td>m</td>\n    </tr>\n    <tr>\n      <th>2</th>\n      <td>290</td>\n      <td>47.6575</td>\n      <td>511.0</td>\n      <td>4.0</td>\n      <td>7.0</td>\n      <td>25996.0</td>\n      <td>135</td>\n      <td>m</td>\n    </tr>\n    <tr>\n      <th>3</th>\n      <td>769</td>\n      <td>47.4247</td>\n      <td>249.0</td>\n      <td>18.0</td>\n      <td>366.0</td>\n      <td>565.0</td>\n      <td>193588</td>\n      <td>m</td>\n    </tr>\n    <tr>\n      <th>4</th>\n      <td>803</td>\n      <td>31.3452</td>\n      <td>109.0</td>\n      <td>39.0</td>\n      <td>719.0</td>\n      <td>226.0</td>\n      <td>1808</td>\n      <td>m</td>\n    </tr>\n    <tr>\n      <th>...</th>\n      <td>...</td>\n      <td>...</td>\n      <td>...</td>\n      <td>...</td>\n      <td>...</td>\n      <td>...</td>\n      <td>...</td>\n      <td>...</td>\n    </tr>\n    <tr>\n      <th>49979</th>\n      <td>3200000</td>\n      <td>26.3123</td>\n      <td>0.0</td>\n      <td>21.0</td>\n      <td>NaN</td>\n      <td>209.0</td>\n      <td>711504</td>\n      <td>m</td>\n    </tr>\n    <tr>\n      <th>49980</th>\n      <td>3200000</td>\n      <td>25.5945</td>\n      <td>384.0</td>\n      <td>30.0</td>\n      <td>NaN</td>\n      <td>663.0</td>\n      <td>711581</td>\n      <td>m</td>\n    </tr>\n    <tr>\n      <th>49981</th>\n      <td>3200000</td>\n      <td>24.1973</td>\n      <td>938.0</td>\n      <td>NaN</td>\n      <td>NaN</td>\n      <td>0.0</td>\n      <td>711596</td>\n      <td>m</td>\n    </tr>\n    <tr>\n      <th>49982</th>\n      <td>3200000</td>\n      <td>20.1370</td>\n      <td>0.0</td>\n      <td>98.0</td>\n      <td>NaN</td>\n      <td>409.0</td>\n      <td>711610</td>\n      <td>m</td>\n    </tr>\n    <tr>\n      <th>49983</th>\n      <td>3200000</td>\n      <td>26.8192</td>\n      <td>0.0</td>\n      <td>72.0</td>\n      <td>NaN</td>\n      <td>844.0</td>\n      <td>711665</td>\n      <td>m</td>\n    </tr>\n  </tbody>\n</table>\n<p>49984 rows × 8 columns</p>\n</div>"
     },
     "metadata": {},
     "execution_count": 3
    }
   ],
   "source": [
    "df_raw_2 = pd.read_excel('data/Fintech-fairnessJun2020.xlsx', sheet_name='Rejected')\n",
    "df_raw_2"
   ]
  },
  {
   "cell_type": "code",
   "execution_count": 4,
   "metadata": {},
   "outputs": [
    {
     "output_type": "execute_result",
     "data": {
      "text/plain": [
       "       customer_id  loan_request_id      age  connections  apps    sms  \\\n",
       "0              144              199  29.9315        401.0  19.0  472.0   \n",
       "1              144             1658  29.9315        401.0  19.0  472.0   \n",
       "2              144             1039  29.9315        401.0  19.0  472.0   \n",
       "3              144              417  29.9315        401.0  19.0  472.0   \n",
       "4              150              218  32.0740        811.0  10.0  584.0   \n",
       "...            ...              ...      ...          ...   ...    ...   \n",
       "49979      3200000           711504  26.3123          0.0  21.0    NaN   \n",
       "49980      3200000           711581  25.5945        384.0  30.0    NaN   \n",
       "49981      3200000           711596  24.1973        938.0   NaN    NaN   \n",
       "49982      3200000           711610  20.1370          0.0  98.0    NaN   \n",
       "49983      3200000           711665  26.8192          0.0  72.0    NaN   \n",
       "\n",
       "       contacts gender  reward  approved_dum  \n",
       "0         358.0    NaN       1             1  \n",
       "1         358.0    NaN      -1             1  \n",
       "2         358.0    NaN       1             1  \n",
       "3         358.0    NaN       1             1  \n",
       "4        1820.0      m       1             1  \n",
       "...         ...    ...     ...           ...  \n",
       "49979     209.0      m       0             0  \n",
       "49980     663.0      m       0             0  \n",
       "49981       0.0      m       0             0  \n",
       "49982     409.0      m       0             0  \n",
       "49983     844.0      m       0             0  \n",
       "\n",
       "[433745 rows x 10 columns]"
      ],
      "text/html": "<div>\n<style scoped>\n    .dataframe tbody tr th:only-of-type {\n        vertical-align: middle;\n    }\n\n    .dataframe tbody tr th {\n        vertical-align: top;\n    }\n\n    .dataframe thead th {\n        text-align: right;\n    }\n</style>\n<table border=\"1\" class=\"dataframe\">\n  <thead>\n    <tr style=\"text-align: right;\">\n      <th></th>\n      <th>customer_id</th>\n      <th>loan_request_id</th>\n      <th>age</th>\n      <th>connections</th>\n      <th>apps</th>\n      <th>sms</th>\n      <th>contacts</th>\n      <th>gender</th>\n      <th>reward</th>\n      <th>approved_dum</th>\n    </tr>\n  </thead>\n  <tbody>\n    <tr>\n      <th>0</th>\n      <td>144</td>\n      <td>199</td>\n      <td>29.9315</td>\n      <td>401.0</td>\n      <td>19.0</td>\n      <td>472.0</td>\n      <td>358.0</td>\n      <td>NaN</td>\n      <td>1</td>\n      <td>1</td>\n    </tr>\n    <tr>\n      <th>1</th>\n      <td>144</td>\n      <td>1658</td>\n      <td>29.9315</td>\n      <td>401.0</td>\n      <td>19.0</td>\n      <td>472.0</td>\n      <td>358.0</td>\n      <td>NaN</td>\n      <td>-1</td>\n      <td>1</td>\n    </tr>\n    <tr>\n      <th>2</th>\n      <td>144</td>\n      <td>1039</td>\n      <td>29.9315</td>\n      <td>401.0</td>\n      <td>19.0</td>\n      <td>472.0</td>\n      <td>358.0</td>\n      <td>NaN</td>\n      <td>1</td>\n      <td>1</td>\n    </tr>\n    <tr>\n      <th>3</th>\n      <td>144</td>\n      <td>417</td>\n      <td>29.9315</td>\n      <td>401.0</td>\n      <td>19.0</td>\n      <td>472.0</td>\n      <td>358.0</td>\n      <td>NaN</td>\n      <td>1</td>\n      <td>1</td>\n    </tr>\n    <tr>\n      <th>4</th>\n      <td>150</td>\n      <td>218</td>\n      <td>32.0740</td>\n      <td>811.0</td>\n      <td>10.0</td>\n      <td>584.0</td>\n      <td>1820.0</td>\n      <td>m</td>\n      <td>1</td>\n      <td>1</td>\n    </tr>\n    <tr>\n      <th>...</th>\n      <td>...</td>\n      <td>...</td>\n      <td>...</td>\n      <td>...</td>\n      <td>...</td>\n      <td>...</td>\n      <td>...</td>\n      <td>...</td>\n      <td>...</td>\n      <td>...</td>\n    </tr>\n    <tr>\n      <th>49979</th>\n      <td>3200000</td>\n      <td>711504</td>\n      <td>26.3123</td>\n      <td>0.0</td>\n      <td>21.0</td>\n      <td>NaN</td>\n      <td>209.0</td>\n      <td>m</td>\n      <td>0</td>\n      <td>0</td>\n    </tr>\n    <tr>\n      <th>49980</th>\n      <td>3200000</td>\n      <td>711581</td>\n      <td>25.5945</td>\n      <td>384.0</td>\n      <td>30.0</td>\n      <td>NaN</td>\n      <td>663.0</td>\n      <td>m</td>\n      <td>0</td>\n      <td>0</td>\n    </tr>\n    <tr>\n      <th>49981</th>\n      <td>3200000</td>\n      <td>711596</td>\n      <td>24.1973</td>\n      <td>938.0</td>\n      <td>NaN</td>\n      <td>NaN</td>\n      <td>0.0</td>\n      <td>m</td>\n      <td>0</td>\n      <td>0</td>\n    </tr>\n    <tr>\n      <th>49982</th>\n      <td>3200000</td>\n      <td>711610</td>\n      <td>20.1370</td>\n      <td>0.0</td>\n      <td>98.0</td>\n      <td>NaN</td>\n      <td>409.0</td>\n      <td>m</td>\n      <td>0</td>\n      <td>0</td>\n    </tr>\n    <tr>\n      <th>49983</th>\n      <td>3200000</td>\n      <td>711665</td>\n      <td>26.8192</td>\n      <td>0.0</td>\n      <td>72.0</td>\n      <td>NaN</td>\n      <td>844.0</td>\n      <td>m</td>\n      <td>0</td>\n      <td>0</td>\n    </tr>\n  </tbody>\n</table>\n<p>433745 rows × 10 columns</p>\n</div>"
     },
     "metadata": {},
     "execution_count": 4
    }
   ],
   "source": [
    "df_raw_1['reward'] = 2 * (0.5 - df_raw_1['def_flag'])\n",
    "df_raw_2['reward'] = 0\n",
    "df_raw_1['approved_dum'] = 1\n",
    "df_raw_2['approved_dum'] = 0\n",
    "df_raw = pd.concat([\n",
    "    df_raw_1.drop(['loan_transferred_date', 'def_flag'], axis=1),\n",
    "    df_raw_2.rename(columns={'loan_request_initial_id': 'loan_request_id'}),\n",
    "]).rename(columns={\n",
    "    'noofconnections': 'connections',\n",
    "    'noofapps': 'apps',\n",
    "    'noofsms': 'sms',\n",
    "    'noofcontacts': 'contacts',\n",
    "}).astype({\n",
    "    'customer_id': 'Int64',\n",
    "    'loan_request_id': 'Int64',\n",
    "    'age': 'float',\n",
    "    'connections': 'float',\n",
    "    'apps': 'float',\n",
    "    'sms': 'float',\n",
    "    'contacts': 'float',\n",
    "    'approved_dum': 'Int64',\n",
    "    'reward': 'Int64',\n",
    "})\n",
    "df_raw\n"
   ]
  },
  {
   "cell_type": "code",
   "execution_count": 5,
   "metadata": {},
   "outputs": [
    {
     "output_type": "execute_result",
     "data": {
      "text/plain": [
       "        customer_id  loan_request_id  loan_amount  def_flag      age   salary  \\\n",
       "0               320               16      30000.0       0.0  34.0466  85449.0   \n",
       "1               301               18      10000.0       0.0  45.2301  42603.0   \n",
       "2               302               20      20000.0       0.0  53.7123  44783.0   \n",
       "3               286               21       5000.0       0.0  43.3644  38500.0   \n",
       "4               302               19      20000.0       0.0  53.7123  44783.0   \n",
       "...             ...              ...          ...       ...      ...      ...   \n",
       "417670       549179             <NA>      25000.0       NaN  47.5616  25000.0   \n",
       "417671      1984639             <NA>      11000.0       NaN  40.5452  27000.0   \n",
       "417672       776459             <NA>       5000.0       NaN  22.5205  15000.0   \n",
       "417673      1865368             <NA>       5000.0       NaN  26.4164  25000.0   \n",
       "417674       706448             <NA>      45000.0       NaN  28.7178  42500.0   \n",
       "\n",
       "        referal  referer  connections  apps  ...  highschool  college  \\\n",
       "0           0.0      0.0         25.0   NaN  ...         1.0      0.0   \n",
       "1           0.0      1.0       1050.0  56.0  ...         1.0      0.0   \n",
       "2           0.0      0.0          NaN  35.0  ...         1.0      0.0   \n",
       "3           0.0      0.0        186.0  22.0  ...         0.0      0.0   \n",
       "4           0.0      0.0          NaN  35.0  ...         1.0      0.0   \n",
       "...         ...      ...          ...   ...  ...         ...      ...   \n",
       "417670      NaN      NaN       4290.0  49.0  ...         0.0      0.0   \n",
       "417671      0.0      0.0          NaN  62.0  ...         1.0      0.0   \n",
       "417672      NaN      NaN         36.0   NaN  ...         0.0      0.0   \n",
       "417673      0.0      0.0       4976.0  48.0  ...         1.0      0.0   \n",
       "417674      0.0      0.0          3.0  40.0  ...         1.0      0.0   \n",
       "\n",
       "        googleplus_status  sales  dating  ios  travel_app  finsavy_app  \\\n",
       "0                     0.0    0.0     0.0    1           1            0   \n",
       "1                     0.0    0.0     0.0    0           1            1   \n",
       "2                     0.0    0.0     0.0    0           1            0   \n",
       "3                     0.0    0.0     0.0    0           0            0   \n",
       "4                     0.0    0.0     0.0    0           1            0   \n",
       "...                   ...    ...     ...  ...         ...          ...   \n",
       "417670                NaN    NaN     NaN    0           0            0   \n",
       "417671                1.0    NaN     NaN    0           0            0   \n",
       "417672                NaN    NaN     NaN    1           0            0   \n",
       "417673                0.0    NaN     NaN    0           0            0   \n",
       "417674                0.0    NaN     NaN    1           0            0   \n",
       "\n",
       "        socialconnect_app  mloan_app  \n",
       "0                       0          0  \n",
       "1                       1          0  \n",
       "2                       1          0  \n",
       "3                       1          0  \n",
       "4                       1          0  \n",
       "...                   ...        ...  \n",
       "417670                  0          0  \n",
       "417671                  0          0  \n",
       "417672                  0          0  \n",
       "417673                  0          0  \n",
       "417674                  0          0  \n",
       "\n",
       "[417675 rows x 39 columns]"
      ],
      "text/html": "<div>\n<style scoped>\n    .dataframe tbody tr th:only-of-type {\n        vertical-align: middle;\n    }\n\n    .dataframe tbody tr th {\n        vertical-align: top;\n    }\n\n    .dataframe thead th {\n        text-align: right;\n    }\n</style>\n<table border=\"1\" class=\"dataframe\">\n  <thead>\n    <tr style=\"text-align: right;\">\n      <th></th>\n      <th>customer_id</th>\n      <th>loan_request_id</th>\n      <th>loan_amount</th>\n      <th>def_flag</th>\n      <th>age</th>\n      <th>salary</th>\n      <th>referal</th>\n      <th>referer</th>\n      <th>connections</th>\n      <th>apps</th>\n      <th>...</th>\n      <th>highschool</th>\n      <th>college</th>\n      <th>googleplus_status</th>\n      <th>sales</th>\n      <th>dating</th>\n      <th>ios</th>\n      <th>travel_app</th>\n      <th>finsavy_app</th>\n      <th>socialconnect_app</th>\n      <th>mloan_app</th>\n    </tr>\n  </thead>\n  <tbody>\n    <tr>\n      <th>0</th>\n      <td>320</td>\n      <td>16</td>\n      <td>30000.0</td>\n      <td>0.0</td>\n      <td>34.0466</td>\n      <td>85449.0</td>\n      <td>0.0</td>\n      <td>0.0</td>\n      <td>25.0</td>\n      <td>NaN</td>\n      <td>...</td>\n      <td>1.0</td>\n      <td>0.0</td>\n      <td>0.0</td>\n      <td>0.0</td>\n      <td>0.0</td>\n      <td>1</td>\n      <td>1</td>\n      <td>0</td>\n      <td>0</td>\n      <td>0</td>\n    </tr>\n    <tr>\n      <th>1</th>\n      <td>301</td>\n      <td>18</td>\n      <td>10000.0</td>\n      <td>0.0</td>\n      <td>45.2301</td>\n      <td>42603.0</td>\n      <td>0.0</td>\n      <td>1.0</td>\n      <td>1050.0</td>\n      <td>56.0</td>\n      <td>...</td>\n      <td>1.0</td>\n      <td>0.0</td>\n      <td>0.0</td>\n      <td>0.0</td>\n      <td>0.0</td>\n      <td>0</td>\n      <td>1</td>\n      <td>1</td>\n      <td>1</td>\n      <td>0</td>\n    </tr>\n    <tr>\n      <th>2</th>\n      <td>302</td>\n      <td>20</td>\n      <td>20000.0</td>\n      <td>0.0</td>\n      <td>53.7123</td>\n      <td>44783.0</td>\n      <td>0.0</td>\n      <td>0.0</td>\n      <td>NaN</td>\n      <td>35.0</td>\n      <td>...</td>\n      <td>1.0</td>\n      <td>0.0</td>\n      <td>0.0</td>\n      <td>0.0</td>\n      <td>0.0</td>\n      <td>0</td>\n      <td>1</td>\n      <td>0</td>\n      <td>1</td>\n      <td>0</td>\n    </tr>\n    <tr>\n      <th>3</th>\n      <td>286</td>\n      <td>21</td>\n      <td>5000.0</td>\n      <td>0.0</td>\n      <td>43.3644</td>\n      <td>38500.0</td>\n      <td>0.0</td>\n      <td>0.0</td>\n      <td>186.0</td>\n      <td>22.0</td>\n      <td>...</td>\n      <td>0.0</td>\n      <td>0.0</td>\n      <td>0.0</td>\n      <td>0.0</td>\n      <td>0.0</td>\n      <td>0</td>\n      <td>0</td>\n      <td>0</td>\n      <td>1</td>\n      <td>0</td>\n    </tr>\n    <tr>\n      <th>4</th>\n      <td>302</td>\n      <td>19</td>\n      <td>20000.0</td>\n      <td>0.0</td>\n      <td>53.7123</td>\n      <td>44783.0</td>\n      <td>0.0</td>\n      <td>0.0</td>\n      <td>NaN</td>\n      <td>35.0</td>\n      <td>...</td>\n      <td>1.0</td>\n      <td>0.0</td>\n      <td>0.0</td>\n      <td>0.0</td>\n      <td>0.0</td>\n      <td>0</td>\n      <td>1</td>\n      <td>0</td>\n      <td>1</td>\n      <td>0</td>\n    </tr>\n    <tr>\n      <th>...</th>\n      <td>...</td>\n      <td>...</td>\n      <td>...</td>\n      <td>...</td>\n      <td>...</td>\n      <td>...</td>\n      <td>...</td>\n      <td>...</td>\n      <td>...</td>\n      <td>...</td>\n      <td>...</td>\n      <td>...</td>\n      <td>...</td>\n      <td>...</td>\n      <td>...</td>\n      <td>...</td>\n      <td>...</td>\n      <td>...</td>\n      <td>...</td>\n      <td>...</td>\n      <td>...</td>\n    </tr>\n    <tr>\n      <th>417670</th>\n      <td>549179</td>\n      <td>&lt;NA&gt;</td>\n      <td>25000.0</td>\n      <td>NaN</td>\n      <td>47.5616</td>\n      <td>25000.0</td>\n      <td>NaN</td>\n      <td>NaN</td>\n      <td>4290.0</td>\n      <td>49.0</td>\n      <td>...</td>\n      <td>0.0</td>\n      <td>0.0</td>\n      <td>NaN</td>\n      <td>NaN</td>\n      <td>NaN</td>\n      <td>0</td>\n      <td>0</td>\n      <td>0</td>\n      <td>0</td>\n      <td>0</td>\n    </tr>\n    <tr>\n      <th>417671</th>\n      <td>1984639</td>\n      <td>&lt;NA&gt;</td>\n      <td>11000.0</td>\n      <td>NaN</td>\n      <td>40.5452</td>\n      <td>27000.0</td>\n      <td>0.0</td>\n      <td>0.0</td>\n      <td>NaN</td>\n      <td>62.0</td>\n      <td>...</td>\n      <td>1.0</td>\n      <td>0.0</td>\n      <td>1.0</td>\n      <td>NaN</td>\n      <td>NaN</td>\n      <td>0</td>\n      <td>0</td>\n      <td>0</td>\n      <td>0</td>\n      <td>0</td>\n    </tr>\n    <tr>\n      <th>417672</th>\n      <td>776459</td>\n      <td>&lt;NA&gt;</td>\n      <td>5000.0</td>\n      <td>NaN</td>\n      <td>22.5205</td>\n      <td>15000.0</td>\n      <td>NaN</td>\n      <td>NaN</td>\n      <td>36.0</td>\n      <td>NaN</td>\n      <td>...</td>\n      <td>0.0</td>\n      <td>0.0</td>\n      <td>NaN</td>\n      <td>NaN</td>\n      <td>NaN</td>\n      <td>1</td>\n      <td>0</td>\n      <td>0</td>\n      <td>0</td>\n      <td>0</td>\n    </tr>\n    <tr>\n      <th>417673</th>\n      <td>1865368</td>\n      <td>&lt;NA&gt;</td>\n      <td>5000.0</td>\n      <td>NaN</td>\n      <td>26.4164</td>\n      <td>25000.0</td>\n      <td>0.0</td>\n      <td>0.0</td>\n      <td>4976.0</td>\n      <td>48.0</td>\n      <td>...</td>\n      <td>1.0</td>\n      <td>0.0</td>\n      <td>0.0</td>\n      <td>NaN</td>\n      <td>NaN</td>\n      <td>0</td>\n      <td>0</td>\n      <td>0</td>\n      <td>0</td>\n      <td>0</td>\n    </tr>\n    <tr>\n      <th>417674</th>\n      <td>706448</td>\n      <td>&lt;NA&gt;</td>\n      <td>45000.0</td>\n      <td>NaN</td>\n      <td>28.7178</td>\n      <td>42500.0</td>\n      <td>0.0</td>\n      <td>0.0</td>\n      <td>3.0</td>\n      <td>40.0</td>\n      <td>...</td>\n      <td>1.0</td>\n      <td>0.0</td>\n      <td>0.0</td>\n      <td>NaN</td>\n      <td>NaN</td>\n      <td>1</td>\n      <td>0</td>\n      <td>0</td>\n      <td>0</td>\n      <td>0</td>\n    </tr>\n  </tbody>\n</table>\n<p>417675 rows × 39 columns</p>\n</div>"
     },
     "metadata": {},
     "execution_count": 5
    }
   ],
   "source": [
    "df_csv = pd.read_csv('data/Cashe_information.csv').rename(columns={\n",
    "    'AGE': 'age',\n",
    "}).astype({\n",
    "    'customer_id': 'Int64',\n",
    "    'loan_request_id': 'Int64',\n",
    "    'age': 'float',\n",
    "    'connections': 'float',\n",
    "    'apps': 'float',\n",
    "    'sms': 'float',\n",
    "    'contacts': 'float',\n",
    "    'approved_dum': 'Int64',\n",
    "})\n",
    "df_csv"
   ]
  },
  {
   "cell_type": "code",
   "execution_count": 6,
   "metadata": {},
   "outputs": [
    {
     "output_type": "execute_result",
     "data": {
      "text/plain": [
       "        customer_id  loan_request_id      age  connections  apps     sms  \\\n",
       "0               150              218  32.0740        811.0  10.0   584.0   \n",
       "1               150            97964  32.0740        811.0  10.0   584.0   \n",
       "2               150               66  32.0740        811.0  10.0   584.0   \n",
       "3               150             2312  32.0740        811.0  10.0   584.0   \n",
       "4               150             3754  32.0740        811.0  10.0   584.0   \n",
       "...             ...              ...      ...          ...   ...     ...   \n",
       "261924      1600000           282451  18.3178          1.0  24.0   121.0   \n",
       "261958      1600000           283249  30.0904        736.0  57.0  1638.0   \n",
       "261970      1600000           283473  18.6904        196.0  37.0  1328.0   \n",
       "261987      1600000           283850  27.9096          9.0  48.0   237.0   \n",
       "261997      1600000           284022  37.0877        622.0  44.0    97.0   \n",
       "\n",
       "        contacts gender  reward  approved_dum    salary  loan_amount  CIBIL  \n",
       "0         1820.0      m       1             1   40000.0       5000.0  707.0  \n",
       "1         1820.0      m      -1             1   40000.0      40000.0  707.0  \n",
       "2         1820.0      m       1             1   40000.0       5000.0  707.0  \n",
       "3         1820.0      m       1             1   40000.0       5000.0  707.0  \n",
       "4         1820.0      m       1             1   40000.0       5000.0  707.0  \n",
       "...          ...    ...     ...           ...       ...          ...    ...  \n",
       "261924     171.0      m       0             0  115000.0     200000.0  747.0  \n",
       "261958     862.0      m       0             0   50251.0     101000.0  663.0  \n",
       "261970     203.0      m       0             0   68328.0     137000.0  745.0  \n",
       "261987     878.0      m       0             0   32012.0      64000.0  716.0  \n",
       "261997     946.0      m       0             0   30977.0      62000.0  735.0  \n",
       "\n",
       "[203656 rows x 13 columns]"
      ],
      "text/html": "<div>\n<style scoped>\n    .dataframe tbody tr th:only-of-type {\n        vertical-align: middle;\n    }\n\n    .dataframe tbody tr th {\n        vertical-align: top;\n    }\n\n    .dataframe thead th {\n        text-align: right;\n    }\n</style>\n<table border=\"1\" class=\"dataframe\">\n  <thead>\n    <tr style=\"text-align: right;\">\n      <th></th>\n      <th>customer_id</th>\n      <th>loan_request_id</th>\n      <th>age</th>\n      <th>connections</th>\n      <th>apps</th>\n      <th>sms</th>\n      <th>contacts</th>\n      <th>gender</th>\n      <th>reward</th>\n      <th>approved_dum</th>\n      <th>salary</th>\n      <th>loan_amount</th>\n      <th>CIBIL</th>\n    </tr>\n  </thead>\n  <tbody>\n    <tr>\n      <th>0</th>\n      <td>150</td>\n      <td>218</td>\n      <td>32.0740</td>\n      <td>811.0</td>\n      <td>10.0</td>\n      <td>584.0</td>\n      <td>1820.0</td>\n      <td>m</td>\n      <td>1</td>\n      <td>1</td>\n      <td>40000.0</td>\n      <td>5000.0</td>\n      <td>707.0</td>\n    </tr>\n    <tr>\n      <th>1</th>\n      <td>150</td>\n      <td>97964</td>\n      <td>32.0740</td>\n      <td>811.0</td>\n      <td>10.0</td>\n      <td>584.0</td>\n      <td>1820.0</td>\n      <td>m</td>\n      <td>-1</td>\n      <td>1</td>\n      <td>40000.0</td>\n      <td>40000.0</td>\n      <td>707.0</td>\n    </tr>\n    <tr>\n      <th>2</th>\n      <td>150</td>\n      <td>66</td>\n      <td>32.0740</td>\n      <td>811.0</td>\n      <td>10.0</td>\n      <td>584.0</td>\n      <td>1820.0</td>\n      <td>m</td>\n      <td>1</td>\n      <td>1</td>\n      <td>40000.0</td>\n      <td>5000.0</td>\n      <td>707.0</td>\n    </tr>\n    <tr>\n      <th>3</th>\n      <td>150</td>\n      <td>2312</td>\n      <td>32.0740</td>\n      <td>811.0</td>\n      <td>10.0</td>\n      <td>584.0</td>\n      <td>1820.0</td>\n      <td>m</td>\n      <td>1</td>\n      <td>1</td>\n      <td>40000.0</td>\n      <td>5000.0</td>\n      <td>707.0</td>\n    </tr>\n    <tr>\n      <th>4</th>\n      <td>150</td>\n      <td>3754</td>\n      <td>32.0740</td>\n      <td>811.0</td>\n      <td>10.0</td>\n      <td>584.0</td>\n      <td>1820.0</td>\n      <td>m</td>\n      <td>1</td>\n      <td>1</td>\n      <td>40000.0</td>\n      <td>5000.0</td>\n      <td>707.0</td>\n    </tr>\n    <tr>\n      <th>...</th>\n      <td>...</td>\n      <td>...</td>\n      <td>...</td>\n      <td>...</td>\n      <td>...</td>\n      <td>...</td>\n      <td>...</td>\n      <td>...</td>\n      <td>...</td>\n      <td>...</td>\n      <td>...</td>\n      <td>...</td>\n      <td>...</td>\n    </tr>\n    <tr>\n      <th>261924</th>\n      <td>1600000</td>\n      <td>282451</td>\n      <td>18.3178</td>\n      <td>1.0</td>\n      <td>24.0</td>\n      <td>121.0</td>\n      <td>171.0</td>\n      <td>m</td>\n      <td>0</td>\n      <td>0</td>\n      <td>115000.0</td>\n      <td>200000.0</td>\n      <td>747.0</td>\n    </tr>\n    <tr>\n      <th>261958</th>\n      <td>1600000</td>\n      <td>283249</td>\n      <td>30.0904</td>\n      <td>736.0</td>\n      <td>57.0</td>\n      <td>1638.0</td>\n      <td>862.0</td>\n      <td>m</td>\n      <td>0</td>\n      <td>0</td>\n      <td>50251.0</td>\n      <td>101000.0</td>\n      <td>663.0</td>\n    </tr>\n    <tr>\n      <th>261970</th>\n      <td>1600000</td>\n      <td>283473</td>\n      <td>18.6904</td>\n      <td>196.0</td>\n      <td>37.0</td>\n      <td>1328.0</td>\n      <td>203.0</td>\n      <td>m</td>\n      <td>0</td>\n      <td>0</td>\n      <td>68328.0</td>\n      <td>137000.0</td>\n      <td>745.0</td>\n    </tr>\n    <tr>\n      <th>261987</th>\n      <td>1600000</td>\n      <td>283850</td>\n      <td>27.9096</td>\n      <td>9.0</td>\n      <td>48.0</td>\n      <td>237.0</td>\n      <td>878.0</td>\n      <td>m</td>\n      <td>0</td>\n      <td>0</td>\n      <td>32012.0</td>\n      <td>64000.0</td>\n      <td>716.0</td>\n    </tr>\n    <tr>\n      <th>261997</th>\n      <td>1600000</td>\n      <td>284022</td>\n      <td>37.0877</td>\n      <td>622.0</td>\n      <td>44.0</td>\n      <td>97.0</td>\n      <td>946.0</td>\n      <td>m</td>\n      <td>0</td>\n      <td>0</td>\n      <td>30977.0</td>\n      <td>62000.0</td>\n      <td>735.0</td>\n    </tr>\n  </tbody>\n</table>\n<p>203656 rows × 13 columns</p>\n</div>"
     },
     "metadata": {},
     "execution_count": 6
    }
   ],
   "source": [
    "df_all = pd.merge(\n",
    "    df_raw.dropna(),\n",
    "    df_csv.loc[:, ['loan_request_id', 'salary', 'loan_amount', 'CIBIL']].dropna(), \n",
    "    how='left', on='loan_request_id').dropna()\n",
    "df_all"
   ]
  },
  {
   "cell_type": "code",
   "execution_count": 7,
   "metadata": {},
   "outputs": [],
   "source": [
    "del df_raw_1, df_raw_2, df_raw, df_csv"
   ]
  },
  {
   "cell_type": "code",
   "execution_count": 8,
   "metadata": {},
   "outputs": [
    {
     "output_type": "execute_result",
     "data": {
      "text/plain": [
       "        customer_id  loan_request_id      age  connections  apps     sms  \\\n",
       "0               150              218  32.0740        811.0  10.0   584.0   \n",
       "1               150            97964  32.0740        811.0  10.0   584.0   \n",
       "2               150               66  32.0740        811.0  10.0   584.0   \n",
       "3               150             2312  32.0740        811.0  10.0   584.0   \n",
       "4               150             3754  32.0740        811.0  10.0   584.0   \n",
       "...             ...              ...      ...          ...   ...     ...   \n",
       "261924      1600000           282451  18.3178          1.0  24.0   121.0   \n",
       "261958      1600000           283249  30.0904        736.0  57.0  1638.0   \n",
       "261970      1600000           283473  18.6904        196.0  37.0  1328.0   \n",
       "261987      1600000           283850  27.9096          9.0  48.0   237.0   \n",
       "261997      1600000           284022  37.0877        622.0  44.0    97.0   \n",
       "\n",
       "        contacts  reward  approved_dum    salary  loan_amount  CIBIL  \\\n",
       "0         1820.0       1             1   40000.0       5000.0  707.0   \n",
       "1         1820.0      -1             1   40000.0      40000.0  707.0   \n",
       "2         1820.0       1             1   40000.0       5000.0  707.0   \n",
       "3         1820.0       1             1   40000.0       5000.0  707.0   \n",
       "4         1820.0       1             1   40000.0       5000.0  707.0   \n",
       "...          ...     ...           ...       ...          ...    ...   \n",
       "261924     171.0       0             0  115000.0     200000.0  747.0   \n",
       "261958     862.0       0             0   50251.0     101000.0  663.0   \n",
       "261970     203.0       0             0   68328.0     137000.0  745.0   \n",
       "261987     878.0       0             0   32012.0      64000.0  716.0   \n",
       "261997     946.0       0             0   30977.0      62000.0  735.0   \n",
       "\n",
       "        gender_dum  age_dum  \n",
       "0                1        1  \n",
       "1                1        1  \n",
       "2                1        1  \n",
       "3                1        1  \n",
       "4                1        1  \n",
       "...            ...      ...  \n",
       "261924           1        0  \n",
       "261958           1        1  \n",
       "261970           1        0  \n",
       "261987           1        0  \n",
       "261997           1        1  \n",
       "\n",
       "[203656 rows x 14 columns]"
      ],
      "text/html": "<div>\n<style scoped>\n    .dataframe tbody tr th:only-of-type {\n        vertical-align: middle;\n    }\n\n    .dataframe tbody tr th {\n        vertical-align: top;\n    }\n\n    .dataframe thead th {\n        text-align: right;\n    }\n</style>\n<table border=\"1\" class=\"dataframe\">\n  <thead>\n    <tr style=\"text-align: right;\">\n      <th></th>\n      <th>customer_id</th>\n      <th>loan_request_id</th>\n      <th>age</th>\n      <th>connections</th>\n      <th>apps</th>\n      <th>sms</th>\n      <th>contacts</th>\n      <th>reward</th>\n      <th>approved_dum</th>\n      <th>salary</th>\n      <th>loan_amount</th>\n      <th>CIBIL</th>\n      <th>gender_dum</th>\n      <th>age_dum</th>\n    </tr>\n  </thead>\n  <tbody>\n    <tr>\n      <th>0</th>\n      <td>150</td>\n      <td>218</td>\n      <td>32.0740</td>\n      <td>811.0</td>\n      <td>10.0</td>\n      <td>584.0</td>\n      <td>1820.0</td>\n      <td>1</td>\n      <td>1</td>\n      <td>40000.0</td>\n      <td>5000.0</td>\n      <td>707.0</td>\n      <td>1</td>\n      <td>1</td>\n    </tr>\n    <tr>\n      <th>1</th>\n      <td>150</td>\n      <td>97964</td>\n      <td>32.0740</td>\n      <td>811.0</td>\n      <td>10.0</td>\n      <td>584.0</td>\n      <td>1820.0</td>\n      <td>-1</td>\n      <td>1</td>\n      <td>40000.0</td>\n      <td>40000.0</td>\n      <td>707.0</td>\n      <td>1</td>\n      <td>1</td>\n    </tr>\n    <tr>\n      <th>2</th>\n      <td>150</td>\n      <td>66</td>\n      <td>32.0740</td>\n      <td>811.0</td>\n      <td>10.0</td>\n      <td>584.0</td>\n      <td>1820.0</td>\n      <td>1</td>\n      <td>1</td>\n      <td>40000.0</td>\n      <td>5000.0</td>\n      <td>707.0</td>\n      <td>1</td>\n      <td>1</td>\n    </tr>\n    <tr>\n      <th>3</th>\n      <td>150</td>\n      <td>2312</td>\n      <td>32.0740</td>\n      <td>811.0</td>\n      <td>10.0</td>\n      <td>584.0</td>\n      <td>1820.0</td>\n      <td>1</td>\n      <td>1</td>\n      <td>40000.0</td>\n      <td>5000.0</td>\n      <td>707.0</td>\n      <td>1</td>\n      <td>1</td>\n    </tr>\n    <tr>\n      <th>4</th>\n      <td>150</td>\n      <td>3754</td>\n      <td>32.0740</td>\n      <td>811.0</td>\n      <td>10.0</td>\n      <td>584.0</td>\n      <td>1820.0</td>\n      <td>1</td>\n      <td>1</td>\n      <td>40000.0</td>\n      <td>5000.0</td>\n      <td>707.0</td>\n      <td>1</td>\n      <td>1</td>\n    </tr>\n    <tr>\n      <th>...</th>\n      <td>...</td>\n      <td>...</td>\n      <td>...</td>\n      <td>...</td>\n      <td>...</td>\n      <td>...</td>\n      <td>...</td>\n      <td>...</td>\n      <td>...</td>\n      <td>...</td>\n      <td>...</td>\n      <td>...</td>\n      <td>...</td>\n      <td>...</td>\n    </tr>\n    <tr>\n      <th>261924</th>\n      <td>1600000</td>\n      <td>282451</td>\n      <td>18.3178</td>\n      <td>1.0</td>\n      <td>24.0</td>\n      <td>121.0</td>\n      <td>171.0</td>\n      <td>0</td>\n      <td>0</td>\n      <td>115000.0</td>\n      <td>200000.0</td>\n      <td>747.0</td>\n      <td>1</td>\n      <td>0</td>\n    </tr>\n    <tr>\n      <th>261958</th>\n      <td>1600000</td>\n      <td>283249</td>\n      <td>30.0904</td>\n      <td>736.0</td>\n      <td>57.0</td>\n      <td>1638.0</td>\n      <td>862.0</td>\n      <td>0</td>\n      <td>0</td>\n      <td>50251.0</td>\n      <td>101000.0</td>\n      <td>663.0</td>\n      <td>1</td>\n      <td>1</td>\n    </tr>\n    <tr>\n      <th>261970</th>\n      <td>1600000</td>\n      <td>283473</td>\n      <td>18.6904</td>\n      <td>196.0</td>\n      <td>37.0</td>\n      <td>1328.0</td>\n      <td>203.0</td>\n      <td>0</td>\n      <td>0</td>\n      <td>68328.0</td>\n      <td>137000.0</td>\n      <td>745.0</td>\n      <td>1</td>\n      <td>0</td>\n    </tr>\n    <tr>\n      <th>261987</th>\n      <td>1600000</td>\n      <td>283850</td>\n      <td>27.9096</td>\n      <td>9.0</td>\n      <td>48.0</td>\n      <td>237.0</td>\n      <td>878.0</td>\n      <td>0</td>\n      <td>0</td>\n      <td>32012.0</td>\n      <td>64000.0</td>\n      <td>716.0</td>\n      <td>1</td>\n      <td>0</td>\n    </tr>\n    <tr>\n      <th>261997</th>\n      <td>1600000</td>\n      <td>284022</td>\n      <td>37.0877</td>\n      <td>622.0</td>\n      <td>44.0</td>\n      <td>97.0</td>\n      <td>946.0</td>\n      <td>0</td>\n      <td>0</td>\n      <td>30977.0</td>\n      <td>62000.0</td>\n      <td>735.0</td>\n      <td>1</td>\n      <td>1</td>\n    </tr>\n  </tbody>\n</table>\n<p>203656 rows × 14 columns</p>\n</div>"
     },
     "metadata": {},
     "execution_count": 8
    }
   ],
   "source": [
    "df = df_all[~df_all.gender.isna()]\n",
    "df['gender_dum'] = 1\n",
    "df.loc[df.gender == 'f', 'gender_dum'] = 0\n",
    "df = df.drop('gender', axis=1).astype({'approved_dum': 'int64', 'reward': 'int64'})\n",
    "df['age_dum'] = 1\n",
    "df.loc[df.age < 28, 'age_dum'] = 0\n",
    "df"
   ]
  },
  {
   "cell_type": "code",
   "execution_count": 9,
   "metadata": {},
   "outputs": [
    {
     "output_type": "execute_result",
     "data": {
      "text/plain": [
       "        connections      apps       sms  contacts  reward  approved_dum  \\\n",
       "0          0.742061 -2.373794 -0.045504  0.890059       1             1   \n",
       "1          0.742061 -2.373794 -0.045504  0.890059      -1             1   \n",
       "2          0.742061 -2.373794 -0.045504  0.890059       1             1   \n",
       "3          0.742061 -2.373794 -0.045504  0.890059       1             1   \n",
       "4          0.742061 -2.373794 -0.045504  0.890059       1             1   \n",
       "...             ...       ...       ...       ...     ...           ...   \n",
       "261924    -2.702040 -1.024403 -0.808190 -0.729581       0             0   \n",
       "261958     0.686491  0.358826  0.455738  0.377513       0             0   \n",
       "261970    -0.070057 -0.336196  0.353732 -0.612465       0             0   \n",
       "261987    -1.779172  0.081672 -0.483064  0.390122       0             0   \n",
       "261997     0.590134 -0.058297 -0.914767  0.441268       0             0   \n",
       "\n",
       "          salary  gender_dum  age_dum  dum  \n",
       "0       0.432050           1        1    3  \n",
       "1       0.432050           1        1    3  \n",
       "2       0.432050           1        1    3  \n",
       "3       0.432050           1        1    3  \n",
       "4       0.432050           1        1    3  \n",
       "...          ...         ...      ...  ...  \n",
       "261924  2.584841           1        0    1  \n",
       "261958  0.897138           1        1    3  \n",
       "261970  1.523554           1        0    1  \n",
       "261987 -0.022064           1        0    1  \n",
       "261997 -0.089061           1        1    3  \n",
       "\n",
       "[203656 rows x 10 columns]"
      ],
      "text/html": "<div>\n<style scoped>\n    .dataframe tbody tr th:only-of-type {\n        vertical-align: middle;\n    }\n\n    .dataframe tbody tr th {\n        vertical-align: top;\n    }\n\n    .dataframe thead th {\n        text-align: right;\n    }\n</style>\n<table border=\"1\" class=\"dataframe\">\n  <thead>\n    <tr style=\"text-align: right;\">\n      <th></th>\n      <th>connections</th>\n      <th>apps</th>\n      <th>sms</th>\n      <th>contacts</th>\n      <th>reward</th>\n      <th>approved_dum</th>\n      <th>salary</th>\n      <th>gender_dum</th>\n      <th>age_dum</th>\n      <th>dum</th>\n    </tr>\n  </thead>\n  <tbody>\n    <tr>\n      <th>0</th>\n      <td>0.742061</td>\n      <td>-2.373794</td>\n      <td>-0.045504</td>\n      <td>0.890059</td>\n      <td>1</td>\n      <td>1</td>\n      <td>0.432050</td>\n      <td>1</td>\n      <td>1</td>\n      <td>3</td>\n    </tr>\n    <tr>\n      <th>1</th>\n      <td>0.742061</td>\n      <td>-2.373794</td>\n      <td>-0.045504</td>\n      <td>0.890059</td>\n      <td>-1</td>\n      <td>1</td>\n      <td>0.432050</td>\n      <td>1</td>\n      <td>1</td>\n      <td>3</td>\n    </tr>\n    <tr>\n      <th>2</th>\n      <td>0.742061</td>\n      <td>-2.373794</td>\n      <td>-0.045504</td>\n      <td>0.890059</td>\n      <td>1</td>\n      <td>1</td>\n      <td>0.432050</td>\n      <td>1</td>\n      <td>1</td>\n      <td>3</td>\n    </tr>\n    <tr>\n      <th>3</th>\n      <td>0.742061</td>\n      <td>-2.373794</td>\n      <td>-0.045504</td>\n      <td>0.890059</td>\n      <td>1</td>\n      <td>1</td>\n      <td>0.432050</td>\n      <td>1</td>\n      <td>1</td>\n      <td>3</td>\n    </tr>\n    <tr>\n      <th>4</th>\n      <td>0.742061</td>\n      <td>-2.373794</td>\n      <td>-0.045504</td>\n      <td>0.890059</td>\n      <td>1</td>\n      <td>1</td>\n      <td>0.432050</td>\n      <td>1</td>\n      <td>1</td>\n      <td>3</td>\n    </tr>\n    <tr>\n      <th>...</th>\n      <td>...</td>\n      <td>...</td>\n      <td>...</td>\n      <td>...</td>\n      <td>...</td>\n      <td>...</td>\n      <td>...</td>\n      <td>...</td>\n      <td>...</td>\n      <td>...</td>\n    </tr>\n    <tr>\n      <th>261924</th>\n      <td>-2.702040</td>\n      <td>-1.024403</td>\n      <td>-0.808190</td>\n      <td>-0.729581</td>\n      <td>0</td>\n      <td>0</td>\n      <td>2.584841</td>\n      <td>1</td>\n      <td>0</td>\n      <td>1</td>\n    </tr>\n    <tr>\n      <th>261958</th>\n      <td>0.686491</td>\n      <td>0.358826</td>\n      <td>0.455738</td>\n      <td>0.377513</td>\n      <td>0</td>\n      <td>0</td>\n      <td>0.897138</td>\n      <td>1</td>\n      <td>1</td>\n      <td>3</td>\n    </tr>\n    <tr>\n      <th>261970</th>\n      <td>-0.070057</td>\n      <td>-0.336196</td>\n      <td>0.353732</td>\n      <td>-0.612465</td>\n      <td>0</td>\n      <td>0</td>\n      <td>1.523554</td>\n      <td>1</td>\n      <td>0</td>\n      <td>1</td>\n    </tr>\n    <tr>\n      <th>261987</th>\n      <td>-1.779172</td>\n      <td>0.081672</td>\n      <td>-0.483064</td>\n      <td>0.390122</td>\n      <td>0</td>\n      <td>0</td>\n      <td>-0.022064</td>\n      <td>1</td>\n      <td>0</td>\n      <td>1</td>\n    </tr>\n    <tr>\n      <th>261997</th>\n      <td>0.590134</td>\n      <td>-0.058297</td>\n      <td>-0.914767</td>\n      <td>0.441268</td>\n      <td>0</td>\n      <td>0</td>\n      <td>-0.089061</td>\n      <td>1</td>\n      <td>1</td>\n      <td>3</td>\n    </tr>\n  </tbody>\n</table>\n<p>203656 rows × 10 columns</p>\n</div>"
     },
     "metadata": {},
     "execution_count": 9
    }
   ],
   "source": [
    "df_small = df.drop(['customer_id', 'loan_request_id', 'age', 'CIBIL', 'loan_amount'], axis=1)\n",
    "log_vars = ['salary', 'connections',  'apps', 'sms', 'contacts']\n",
    "for c in log_vars:\n",
    "    df_small[c] = np.log(df_small[c] + 1)\n",
    "norm_vars = log_vars\n",
    "scaler = StandardScaler().fit(df_small[norm_vars])\n",
    "df_small[norm_vars] = scaler.transform(df_small[norm_vars])\n",
    "df_small['dum'] = 0\n",
    "df_small.loc[(df_small.age_dum == 0) & (df_small.gender_dum == 1), 'dum'] = 1\n",
    "df_small.loc[(df_small.age_dum == 1) & (df_small.gender_dum == 0), 'dum'] = 2\n",
    "df_small.loc[(df_small.age_dum == 1) & (df_small.gender_dum == 1), 'dum'] = 3\n",
    "df_small"
   ]
  },
  {
   "cell_type": "code",
   "execution_count": 10,
   "metadata": {},
   "outputs": [],
   "source": [
    "np.random.seed(1)\n",
    "\n",
    "y = df_small.approved_dum.values.reshape(-1, 1)\n",
    "r = df_small.reward.values.reshape(-1, 1)\n",
    "s = df_small.dum.values.reshape(-1, 1)\n",
    "a = df_small.drop([\n",
    "    'approved_dum', 'age_dum', 'gender_dum', 'dum', 'reward',\n",
    "], axis=1).values\n",
    "\n",
    "n_test = 190000\n",
    "\n",
    "shuffle_idx = np.arange(y.shape[0])\n",
    "np.random.shuffle(shuffle_idx)\n",
    "y_train, y_test = y[shuffle_idx[n_test:]], y[shuffle_idx[:n_test]]\n",
    "r_train, r_test = r[shuffle_idx[n_test:]], r[shuffle_idx[:n_test]]\n",
    "s_train, s_test, s_eval = s[shuffle_idx[n_test:]], s[shuffle_idx[:n_test]], np.array([0, 1] * n_test).reshape(-1, 1)\n",
    "a_train, a_test, a_eval = a[shuffle_idx[n_test:]], a[shuffle_idx[:n_test]], np.repeat(a[shuffle_idx[:n_test]], 2, axis=0)"
   ]
  },
  {
   "cell_type": "code",
   "execution_count": 11,
   "metadata": {},
   "outputs": [],
   "source": [
    "df_small_opt = FairOptimization(s_train, a_train, y_train, r_train)"
   ]
  },
  {
   "cell_type": "code",
   "execution_count": 12,
   "metadata": {},
   "outputs": [
    {
     "output_type": "execute_result",
     "data": {
      "text/plain": [
       "<class 'statsmodels.iolib.summary.Summary'>\n",
       "\"\"\"\n",
       "                           Logit Regression Results                           \n",
       "==============================================================================\n",
       "Dep. Variable:                      y   No. Observations:                13656\n",
       "Model:                          Logit   Df Residuals:                    13650\n",
       "Method:                           MLE   Df Model:                            5\n",
       "Date:                Wed, 04 Nov 2020   Pseudo R-squ.:                 0.02471\n",
       "Time:                        10:52:06   Log-Likelihood:                -3232.7\n",
       "converged:                       True   LL-Null:                       -3314.6\n",
       "Covariance Type:            nonrobust   LLR p-value:                 1.520e-33\n",
       "==============================================================================\n",
       "                 coef    std err          z      P>|z|      [0.025      0.975]\n",
       "------------------------------------------------------------------------------\n",
       "const          2.7321      0.037     74.022      0.000       2.660       2.804\n",
       "x1             0.1985      0.034      5.832      0.000       0.132       0.265\n",
       "x2             0.2559      0.035      7.369      0.000       0.188       0.324\n",
       "x3             0.1999      0.034      5.853      0.000       0.133       0.267\n",
       "x4            -0.1066      0.042     -2.525      0.012      -0.189      -0.024\n",
       "x5            -0.1345      0.035     -3.872      0.000      -0.203      -0.066\n",
       "==============================================================================\n",
       "\"\"\""
      ],
      "text/html": "<table class=\"simpletable\">\n<caption>Logit Regression Results</caption>\n<tr>\n  <th>Dep. Variable:</th>           <td>y</td>        <th>  No. Observations:  </th>  <td> 13656</td>  \n</tr>\n<tr>\n  <th>Model:</th>                 <td>Logit</td>      <th>  Df Residuals:      </th>  <td> 13650</td>  \n</tr>\n<tr>\n  <th>Method:</th>                 <td>MLE</td>       <th>  Df Model:          </th>  <td>     5</td>  \n</tr>\n<tr>\n  <th>Date:</th>            <td>Wed, 04 Nov 2020</td> <th>  Pseudo R-squ.:     </th>  <td>0.02471</td> \n</tr>\n<tr>\n  <th>Time:</th>                <td>10:52:06</td>     <th>  Log-Likelihood:    </th> <td> -3232.7</td> \n</tr>\n<tr>\n  <th>converged:</th>             <td>True</td>       <th>  LL-Null:           </th> <td> -3314.6</td> \n</tr>\n<tr>\n  <th>Covariance Type:</th>     <td>nonrobust</td>    <th>  LLR p-value:       </th> <td>1.520e-33</td>\n</tr>\n</table>\n<table class=\"simpletable\">\n<tr>\n    <td></td>       <th>coef</th>     <th>std err</th>      <th>z</th>      <th>P>|z|</th>  <th>[0.025</th>    <th>0.975]</th>  \n</tr>\n<tr>\n  <th>const</th> <td>    2.7321</td> <td>    0.037</td> <td>   74.022</td> <td> 0.000</td> <td>    2.660</td> <td>    2.804</td>\n</tr>\n<tr>\n  <th>x1</th>    <td>    0.1985</td> <td>    0.034</td> <td>    5.832</td> <td> 0.000</td> <td>    0.132</td> <td>    0.265</td>\n</tr>\n<tr>\n  <th>x2</th>    <td>    0.2559</td> <td>    0.035</td> <td>    7.369</td> <td> 0.000</td> <td>    0.188</td> <td>    0.324</td>\n</tr>\n<tr>\n  <th>x3</th>    <td>    0.1999</td> <td>    0.034</td> <td>    5.853</td> <td> 0.000</td> <td>    0.133</td> <td>    0.267</td>\n</tr>\n<tr>\n  <th>x4</th>    <td>   -0.1066</td> <td>    0.042</td> <td>   -2.525</td> <td> 0.012</td> <td>   -0.189</td> <td>   -0.024</td>\n</tr>\n<tr>\n  <th>x5</th>    <td>   -0.1345</td> <td>    0.035</td> <td>   -3.872</td> <td> 0.000</td> <td>   -0.203</td> <td>   -0.066</td>\n</tr>\n</table>"
     },
     "metadata": {},
     "execution_count": 12
    }
   ],
   "source": [
    "df_small_opt.ftup.summary()"
   ]
  },
  {
   "cell_type": "code",
   "execution_count": 13,
   "metadata": {},
   "outputs": [],
   "source": [
    "optimization = df_small_opt.optimize(\n",
    "    df_small_opt.ipwe, \n",
    "    method='shgo', \n",
    "    bounds=[(2, 3), (-1, 1), (-1, 1), (-1, 1), (-1, 1), (-1, 1)]\n",
    ")"
   ]
  },
  {
   "cell_type": "code",
   "execution_count": 14,
   "metadata": {},
   "outputs": [
    {
     "output_type": "execute_result",
     "data": {
      "text/plain": [
       "array([ 3., -1., -1., -1.,  1.,  1.])"
      ]
     },
     "metadata": {},
     "execution_count": 14
    }
   ],
   "source": [
    "optimization.x"
   ]
  },
  {
   "cell_type": "code",
   "execution_count": 15,
   "metadata": {},
   "outputs": [
    {
     "output_type": "execute_result",
     "data": {
      "text/plain": [
       "          y_ml     y_rml     y_ftu      y_aa       y_1       y_2     y_eta\n",
       "CF    0.035571  0.015009  0.010922  0.001078  0.000757  0.000733  0.008621\n",
       "MAE   0.123060  0.096225  0.124085  0.124369  0.123739  0.123746  0.181904\n",
       "E(R)  0.976769  0.952890  0.977892  0.978053  0.977842  0.977804  1.028077"
      ],
      "text/html": "<div>\n<style scoped>\n    .dataframe tbody tr th:only-of-type {\n        vertical-align: middle;\n    }\n\n    .dataframe tbody tr th {\n        vertical-align: top;\n    }\n\n    .dataframe thead th {\n        text-align: right;\n    }\n</style>\n<table border=\"1\" class=\"dataframe\">\n  <thead>\n    <tr style=\"text-align: right;\">\n      <th></th>\n      <th>y_ml</th>\n      <th>y_rml</th>\n      <th>y_ftu</th>\n      <th>y_aa</th>\n      <th>y_1</th>\n      <th>y_2</th>\n      <th>y_eta</th>\n    </tr>\n  </thead>\n  <tbody>\n    <tr>\n      <th>CF</th>\n      <td>0.035571</td>\n      <td>0.015009</td>\n      <td>0.010922</td>\n      <td>0.001078</td>\n      <td>0.000757</td>\n      <td>0.000733</td>\n      <td>0.008621</td>\n    </tr>\n    <tr>\n      <th>MAE</th>\n      <td>0.123060</td>\n      <td>0.096225</td>\n      <td>0.124085</td>\n      <td>0.124369</td>\n      <td>0.123739</td>\n      <td>0.123746</td>\n      <td>0.181904</td>\n    </tr>\n    <tr>\n      <th>E(R)</th>\n      <td>0.976769</td>\n      <td>0.952890</td>\n      <td>0.977892</td>\n      <td>0.978053</td>\n      <td>0.977842</td>\n      <td>0.977804</td>\n      <td>1.028077</td>\n    </tr>\n  </tbody>\n</table>\n</div>"
     },
     "metadata": {},
     "execution_count": 15
    }
   ],
   "source": [
    "\n",
    "eval = df_small_opt.evaluate(eta=optimization.x, s_test=s_test, a_test=a_test, y_test=y_test, r_test=r_test, metrics=['cf', 'mae', 'er'])\n",
    "pd.DataFrame(eval, index=['CF', 'MAE', 'E(R)'], columns=['y_ml', 'y_rml', 'y_ftu', 'y_aa', 'y_1', 'y_2', 'y_eta'])"
   ]
  },
  {
   "cell_type": "code",
   "execution_count": 16,
   "metadata": {},
   "outputs": [
    {
     "output_type": "execute_result",
     "data": {
      "text/plain": [
       "<bound method FairOptimization.ipwe of <fairopt.FairOptimization object at 0x7f62bad4f0a0>>"
      ]
     },
     "metadata": {},
     "execution_count": 16
    }
   ],
   "source": [
    "getattr(df_small_opt, 'ipwe')"
   ]
  },
  {
   "cell_type": "code",
   "execution_count": null,
   "metadata": {},
   "outputs": [],
   "source": []
  }
 ]
}