{
 "metadata": {
  "language_info": {
   "codemirror_mode": {
    "name": "ipython",
    "version": 3
   },
   "file_extension": ".py",
   "mimetype": "text/x-python",
   "name": "python",
   "nbconvert_exporter": "python",
   "pygments_lexer": "ipython3",
   "version": "3.8.5-final"
  },
  "orig_nbformat": 2,
  "kernelspec": {
   "name": "python3",
   "display_name": "Python 3"
  }
 },
 "nbformat": 4,
 "nbformat_minor": 2,
 "cells": [
  {
   "cell_type": "code",
   "execution_count": 1,
   "metadata": {},
   "outputs": [],
   "source": [
    "import pandas as pd\n",
    "import numpy as np\n",
    "import statsmodels.api as sm\n",
    "import matplotlib.pyplot as plt\n",
    "import seaborn as sns\n",
    "from sklearn.preprocessing import StandardScaler\n",
    "from fairdata import FairData"
   ]
  },
  {
   "cell_type": "code",
   "execution_count": 2,
   "metadata": {},
   "outputs": [
    {
     "output_type": "execute_result",
     "data": {
      "text/plain": [
       "        customer_id  loan_request_id      age  ...    salary  loan_amount  CIBIL\n",
       "0               150              218  32.0740  ...   40000.0       5000.0  707.0\n",
       "1               150            97964  32.0740  ...   40000.0      40000.0  707.0\n",
       "2               150               66  32.0740  ...   40000.0       5000.0  707.0\n",
       "3               150             2312  32.0740  ...   40000.0       5000.0  707.0\n",
       "4               150             3754  32.0740  ...   40000.0       5000.0  707.0\n",
       "...             ...              ...      ...  ...       ...          ...    ...\n",
       "261924      1600000           282451  18.3178  ...  115000.0     200000.0  747.0\n",
       "261958      1600000           283249  30.0904  ...   50251.0     101000.0  663.0\n",
       "261970      1600000           283473  18.6904  ...   68328.0     137000.0  745.0\n",
       "261987      1600000           283850  27.9096  ...   32012.0      64000.0  716.0\n",
       "261997      1600000           284022  37.0877  ...   30977.0      62000.0  735.0\n",
       "\n",
       "[203656 rows x 12 columns]"
      ],
      "text/html": "<div>\n<style scoped>\n    .dataframe tbody tr th:only-of-type {\n        vertical-align: middle;\n    }\n\n    .dataframe tbody tr th {\n        vertical-align: top;\n    }\n\n    .dataframe thead th {\n        text-align: right;\n    }\n</style>\n<table border=\"1\" class=\"dataframe\">\n  <thead>\n    <tr style=\"text-align: right;\">\n      <th></th>\n      <th>customer_id</th>\n      <th>loan_request_id</th>\n      <th>age</th>\n      <th>connections</th>\n      <th>apps</th>\n      <th>sms</th>\n      <th>contacts</th>\n      <th>gender</th>\n      <th>approved_dum</th>\n      <th>salary</th>\n      <th>loan_amount</th>\n      <th>CIBIL</th>\n    </tr>\n  </thead>\n  <tbody>\n    <tr>\n      <th>0</th>\n      <td>150</td>\n      <td>218</td>\n      <td>32.0740</td>\n      <td>811.0</td>\n      <td>10.0</td>\n      <td>584.0</td>\n      <td>1820.0</td>\n      <td>m</td>\n      <td>1</td>\n      <td>40000.0</td>\n      <td>5000.0</td>\n      <td>707.0</td>\n    </tr>\n    <tr>\n      <th>1</th>\n      <td>150</td>\n      <td>97964</td>\n      <td>32.0740</td>\n      <td>811.0</td>\n      <td>10.0</td>\n      <td>584.0</td>\n      <td>1820.0</td>\n      <td>m</td>\n      <td>1</td>\n      <td>40000.0</td>\n      <td>40000.0</td>\n      <td>707.0</td>\n    </tr>\n    <tr>\n      <th>2</th>\n      <td>150</td>\n      <td>66</td>\n      <td>32.0740</td>\n      <td>811.0</td>\n      <td>10.0</td>\n      <td>584.0</td>\n      <td>1820.0</td>\n      <td>m</td>\n      <td>1</td>\n      <td>40000.0</td>\n      <td>5000.0</td>\n      <td>707.0</td>\n    </tr>\n    <tr>\n      <th>3</th>\n      <td>150</td>\n      <td>2312</td>\n      <td>32.0740</td>\n      <td>811.0</td>\n      <td>10.0</td>\n      <td>584.0</td>\n      <td>1820.0</td>\n      <td>m</td>\n      <td>1</td>\n      <td>40000.0</td>\n      <td>5000.0</td>\n      <td>707.0</td>\n    </tr>\n    <tr>\n      <th>4</th>\n      <td>150</td>\n      <td>3754</td>\n      <td>32.0740</td>\n      <td>811.0</td>\n      <td>10.0</td>\n      <td>584.0</td>\n      <td>1820.0</td>\n      <td>m</td>\n      <td>1</td>\n      <td>40000.0</td>\n      <td>5000.0</td>\n      <td>707.0</td>\n    </tr>\n    <tr>\n      <th>...</th>\n      <td>...</td>\n      <td>...</td>\n      <td>...</td>\n      <td>...</td>\n      <td>...</td>\n      <td>...</td>\n      <td>...</td>\n      <td>...</td>\n      <td>...</td>\n      <td>...</td>\n      <td>...</td>\n      <td>...</td>\n    </tr>\n    <tr>\n      <th>261924</th>\n      <td>1600000</td>\n      <td>282451</td>\n      <td>18.3178</td>\n      <td>1.0</td>\n      <td>24.0</td>\n      <td>121.0</td>\n      <td>171.0</td>\n      <td>m</td>\n      <td>0</td>\n      <td>115000.0</td>\n      <td>200000.0</td>\n      <td>747.0</td>\n    </tr>\n    <tr>\n      <th>261958</th>\n      <td>1600000</td>\n      <td>283249</td>\n      <td>30.0904</td>\n      <td>736.0</td>\n      <td>57.0</td>\n      <td>1638.0</td>\n      <td>862.0</td>\n      <td>m</td>\n      <td>0</td>\n      <td>50251.0</td>\n      <td>101000.0</td>\n      <td>663.0</td>\n    </tr>\n    <tr>\n      <th>261970</th>\n      <td>1600000</td>\n      <td>283473</td>\n      <td>18.6904</td>\n      <td>196.0</td>\n      <td>37.0</td>\n      <td>1328.0</td>\n      <td>203.0</td>\n      <td>m</td>\n      <td>0</td>\n      <td>68328.0</td>\n      <td>137000.0</td>\n      <td>745.0</td>\n    </tr>\n    <tr>\n      <th>261987</th>\n      <td>1600000</td>\n      <td>283850</td>\n      <td>27.9096</td>\n      <td>9.0</td>\n      <td>48.0</td>\n      <td>237.0</td>\n      <td>878.0</td>\n      <td>m</td>\n      <td>0</td>\n      <td>32012.0</td>\n      <td>64000.0</td>\n      <td>716.0</td>\n    </tr>\n    <tr>\n      <th>261997</th>\n      <td>1600000</td>\n      <td>284022</td>\n      <td>37.0877</td>\n      <td>622.0</td>\n      <td>44.0</td>\n      <td>97.0</td>\n      <td>946.0</td>\n      <td>m</td>\n      <td>0</td>\n      <td>30977.0</td>\n      <td>62000.0</td>\n      <td>735.0</td>\n    </tr>\n  </tbody>\n</table>\n<p>203656 rows × 12 columns</p>\n</div>"
     },
     "metadata": {},
     "execution_count": 2
    }
   ],
   "source": [
    "df_raw_1 = pd.read_excel('data/Fintech/Fintech-fairnessJun2020.xlsx', sheet_name='Approved&Default')\n",
    "df_raw_2 = pd.read_excel('data/Fintech/Fintech-fairnessJun2020.xlsx', sheet_name='Rejected')\n",
    "df_raw_1['approved_dum'] = 1\n",
    "df_raw_2['approved_dum'] = 0\n",
    "df_tmp = pd.concat([\n",
    "    df_raw_1.drop(['loan_transferred_date', 'def_flag'], axis=1),\n",
    "    df_raw_2.rename(columns={'loan_request_initial_id': 'loan_request_id'}),\n",
    "]).rename(columns={\n",
    "    'noofconnections': 'connections',\n",
    "    'noofapps': 'apps',\n",
    "    'noofsms': 'sms',\n",
    "    'noofcontacts': 'contacts',\n",
    "}).astype({\n",
    "    'customer_id': 'Int64',\n",
    "    'loan_request_id': 'Int64',\n",
    "    'age': 'float',\n",
    "    'connections': 'float',\n",
    "    'apps': 'float',\n",
    "    'sms': 'float',\n",
    "    'contacts': 'float',\n",
    "    'approved_dum': 'Int64',\n",
    "})\n",
    "df_raw_3 = pd.read_csv('data/Fintech/Cashe_information.csv').rename(columns={\n",
    "    'AGE': 'age',\n",
    "}).astype({\n",
    "    'customer_id': 'Int64',\n",
    "    'loan_request_id': 'Int64',\n",
    "    'age': 'float',\n",
    "    'connections': 'float',\n",
    "    'apps': 'float',\n",
    "    'sms': 'float',\n",
    "    'contacts': 'float',\n",
    "    'approved_dum': 'Int64',\n",
    "})\n",
    "df_raw = pd.merge(\n",
    "    df_tmp.dropna(),\n",
    "    df_raw_3.loc[:, ['loan_request_id', 'salary', 'loan_amount', 'CIBIL']].dropna(), \n",
    "    how='left', on='loan_request_id').dropna()\n",
    "df_raw"
   ]
  },
  {
   "cell_type": "code",
   "execution_count": 4,
   "metadata": {},
   "outputs": [
    {
     "output_type": "error",
     "ename": "NameError",
     "evalue": "name 'df_raw_1' is not defined",
     "traceback": [
      "\u001b[0;31m---------------------------------------------------------------------------\u001b[0m",
      "\u001b[0;31mNameError\u001b[0m                                 Traceback (most recent call last)",
      "\u001b[0;32m<ipython-input-4-02e796847fb6>\u001b[0m in \u001b[0;36m<module>\u001b[0;34m\u001b[0m\n\u001b[0;32m----> 1\u001b[0;31m \u001b[0;32mdel\u001b[0m \u001b[0mdf_raw_1\u001b[0m\u001b[0;34m,\u001b[0m \u001b[0mdf_raw_2\u001b[0m\u001b[0;34m,\u001b[0m \u001b[0mdf_raw_3\u001b[0m\u001b[0;34m,\u001b[0m \u001b[0mdf_tmp\u001b[0m\u001b[0;34m\u001b[0m\u001b[0;34m\u001b[0m\u001b[0m\n\u001b[0m",
      "\u001b[0;31mNameError\u001b[0m: name 'df_raw_1' is not defined"
     ]
    }
   ],
   "source": [
    "del df_raw_1, df_raw_2, df_raw_3, df_tmp"
   ]
  },
  {
   "cell_type": "code",
   "execution_count": 5,
   "metadata": {},
   "outputs": [],
   "source": [
    "df_gender = df_raw[~df_raw.gender.isna()]\n",
    "df_gender['gender_dum'] = 1\n",
    "df_gender.loc[df_gender.gender == 'f', 'gender_dum'] = 0\n",
    "df_gender = df_gender.drop('gender', axis=1).astype({'approved_dum': 'int64'})\n",
    "df_g = df_gender.drop(['customer_id', 'loan_request_id'], axis=1)\n",
    "log_vars = ['loan_amount', 'salary', 'connections',  'apps', 'sms', 'contacts']\n",
    "for c in log_vars:\n",
    "    df_g[c] = np.log(df_g[c] + 1)\n",
    "norm_vars = log_vars + ['age', 'CIBIL']\n",
    "scaler = StandardScaler().fit(df_g[norm_vars])\n",
    "df_g[norm_vars] = scaler.transform(df_g[norm_vars])"
   ]
  },
  {
   "cell_type": "code",
   "execution_count": 6,
   "metadata": {},
   "outputs": [],
   "source": [
    "df_age = df_gender.copy()\n",
    "df_age['age_dum'] = 1\n",
    "df_age.loc[df_age.age < 28, 'age_dum'] = 0\n",
    "df_a = df_age.drop(['customer_id', 'loan_request_id', 'age', 'CIBIL', 'loan_amount'], axis=1)\n",
    "log_vars = ['salary', 'connections',  'apps', 'sms', 'contacts']\n",
    "for c in log_vars:\n",
    "    df_a[c] = np.log(df_a[c] + 1)\n",
    "norm_vars = log_vars\n",
    "scaler = StandardScaler().fit(df_a[norm_vars])\n",
    "df_a[norm_vars] = scaler.transform(df_a[norm_vars])"
   ]
  },
  {
   "cell_type": "code",
   "execution_count": 7,
   "metadata": {},
   "outputs": [
    {
     "output_type": "execute_result",
     "data": {
      "text/plain": [
       "        connections      apps       sms  ...  gender_dum  age_dum  dum\n",
       "0          0.742061 -2.373794 -0.045504  ...           1        1    3\n",
       "1          0.742061 -2.373794 -0.045504  ...           1        1    3\n",
       "2          0.742061 -2.373794 -0.045504  ...           1        1    3\n",
       "3          0.742061 -2.373794 -0.045504  ...           1        1    3\n",
       "4          0.742061 -2.373794 -0.045504  ...           1        1    3\n",
       "...             ...       ...       ...  ...         ...      ...  ...\n",
       "261924    -2.702040 -1.024403 -0.808190  ...           1        0    1\n",
       "261958     0.686491  0.358826  0.455738  ...           1        1    3\n",
       "261970    -0.070057 -0.336196  0.353732  ...           1        0    1\n",
       "261987    -1.779172  0.081672 -0.483064  ...           1        0    1\n",
       "261997     0.590134 -0.058297 -0.914767  ...           1        1    3\n",
       "\n",
       "[203656 rows x 9 columns]"
      ],
      "text/html": "<div>\n<style scoped>\n    .dataframe tbody tr th:only-of-type {\n        vertical-align: middle;\n    }\n\n    .dataframe tbody tr th {\n        vertical-align: top;\n    }\n\n    .dataframe thead th {\n        text-align: right;\n    }\n</style>\n<table border=\"1\" class=\"dataframe\">\n  <thead>\n    <tr style=\"text-align: right;\">\n      <th></th>\n      <th>connections</th>\n      <th>apps</th>\n      <th>sms</th>\n      <th>contacts</th>\n      <th>approved_dum</th>\n      <th>salary</th>\n      <th>gender_dum</th>\n      <th>age_dum</th>\n      <th>dum</th>\n    </tr>\n  </thead>\n  <tbody>\n    <tr>\n      <th>0</th>\n      <td>0.742061</td>\n      <td>-2.373794</td>\n      <td>-0.045504</td>\n      <td>0.890059</td>\n      <td>1</td>\n      <td>0.432050</td>\n      <td>1</td>\n      <td>1</td>\n      <td>3</td>\n    </tr>\n    <tr>\n      <th>1</th>\n      <td>0.742061</td>\n      <td>-2.373794</td>\n      <td>-0.045504</td>\n      <td>0.890059</td>\n      <td>1</td>\n      <td>0.432050</td>\n      <td>1</td>\n      <td>1</td>\n      <td>3</td>\n    </tr>\n    <tr>\n      <th>2</th>\n      <td>0.742061</td>\n      <td>-2.373794</td>\n      <td>-0.045504</td>\n      <td>0.890059</td>\n      <td>1</td>\n      <td>0.432050</td>\n      <td>1</td>\n      <td>1</td>\n      <td>3</td>\n    </tr>\n    <tr>\n      <th>3</th>\n      <td>0.742061</td>\n      <td>-2.373794</td>\n      <td>-0.045504</td>\n      <td>0.890059</td>\n      <td>1</td>\n      <td>0.432050</td>\n      <td>1</td>\n      <td>1</td>\n      <td>3</td>\n    </tr>\n    <tr>\n      <th>4</th>\n      <td>0.742061</td>\n      <td>-2.373794</td>\n      <td>-0.045504</td>\n      <td>0.890059</td>\n      <td>1</td>\n      <td>0.432050</td>\n      <td>1</td>\n      <td>1</td>\n      <td>3</td>\n    </tr>\n    <tr>\n      <th>...</th>\n      <td>...</td>\n      <td>...</td>\n      <td>...</td>\n      <td>...</td>\n      <td>...</td>\n      <td>...</td>\n      <td>...</td>\n      <td>...</td>\n      <td>...</td>\n    </tr>\n    <tr>\n      <th>261924</th>\n      <td>-2.702040</td>\n      <td>-1.024403</td>\n      <td>-0.808190</td>\n      <td>-0.729581</td>\n      <td>0</td>\n      <td>2.584841</td>\n      <td>1</td>\n      <td>0</td>\n      <td>1</td>\n    </tr>\n    <tr>\n      <th>261958</th>\n      <td>0.686491</td>\n      <td>0.358826</td>\n      <td>0.455738</td>\n      <td>0.377513</td>\n      <td>0</td>\n      <td>0.897138</td>\n      <td>1</td>\n      <td>1</td>\n      <td>3</td>\n    </tr>\n    <tr>\n      <th>261970</th>\n      <td>-0.070057</td>\n      <td>-0.336196</td>\n      <td>0.353732</td>\n      <td>-0.612465</td>\n      <td>0</td>\n      <td>1.523554</td>\n      <td>1</td>\n      <td>0</td>\n      <td>1</td>\n    </tr>\n    <tr>\n      <th>261987</th>\n      <td>-1.779172</td>\n      <td>0.081672</td>\n      <td>-0.483064</td>\n      <td>0.390122</td>\n      <td>0</td>\n      <td>-0.022064</td>\n      <td>1</td>\n      <td>0</td>\n      <td>1</td>\n    </tr>\n    <tr>\n      <th>261997</th>\n      <td>0.590134</td>\n      <td>-0.058297</td>\n      <td>-0.914767</td>\n      <td>0.441268</td>\n      <td>0</td>\n      <td>-0.089061</td>\n      <td>1</td>\n      <td>1</td>\n      <td>3</td>\n    </tr>\n  </tbody>\n</table>\n<p>203656 rows × 9 columns</p>\n</div>"
     },
     "metadata": {},
     "execution_count": 7
    }
   ],
   "source": [
    "df_b = df_a.copy()\n",
    "df_b['dum'] = 0\n",
    "df_b.loc[(df_b.age_dum == 0) & (df_b.gender_dum == 1), 'dum'] = 1\n",
    "df_b.loc[(df_b.age_dum == 1) & (df_b.gender_dum == 0), 'dum'] = 2\n",
    "df_b.loc[(df_b.age_dum == 1) & (df_b.gender_dum == 1), 'dum'] = 3\n",
    "df_b"
   ]
  },
  {
   "cell_type": "code",
   "execution_count": 8,
   "metadata": {},
   "outputs": [],
   "source": [
    "np.random.seed(1)\n",
    "\n",
    "y = df_b.approved_dum.values.reshape(-1, 1)\n",
    "s = df_b.dum.values.reshape(-1, 1)\n",
    "a = df_b.drop(['approved_dum', 'age_dum', 'gender_dum', 'dum'], axis=1).values\n",
    "\n",
    "n_test = 10000\n",
    "\n",
    "shuffle_idx = np.arange(y.shape[0])\n",
    "np.random.shuffle(shuffle_idx)\n",
    "y_train, y_test = y[shuffle_idx[n_test:]], y[shuffle_idx[:n_test]]\n",
    "s_train, s_test, s_eval = s[shuffle_idx[n_test:]], s[shuffle_idx[:n_test]], np.array([0, 1] * n_test).reshape(-1, 1)\n",
    "a_train, a_test, a_eval = a[shuffle_idx[n_test:]], a[shuffle_idx[:n_test]], np.repeat(a[shuffle_idx[:n_test]], 2, axis=0)"
   ]
  },
  {
   "cell_type": "code",
   "execution_count": 11,
   "metadata": {},
   "outputs": [
    {
     "output_type": "execute_result",
     "data": {
      "text/plain": [
       "           ML       FTU        FL        AA    FLAP-1    FLAP-2\n",
       "cf   0.039234  0.013032  0.001115  0.001123  0.001117  0.001115\n",
       "mae  0.124886  0.126101  0.125834  0.126567  0.125835  0.125834"
      ],
      "text/html": "<div>\n<style scoped>\n    .dataframe tbody tr th:only-of-type {\n        vertical-align: middle;\n    }\n\n    .dataframe tbody tr th {\n        vertical-align: top;\n    }\n\n    .dataframe thead th {\n        text-align: right;\n    }\n</style>\n<table border=\"1\" class=\"dataframe\">\n  <thead>\n    <tr style=\"text-align: right;\">\n      <th></th>\n      <th>ML</th>\n      <th>FTU</th>\n      <th>FL</th>\n      <th>AA</th>\n      <th>FLAP-1</th>\n      <th>FLAP-2</th>\n    </tr>\n  </thead>\n  <tbody>\n    <tr>\n      <th>cf</th>\n      <td>0.039234</td>\n      <td>0.013032</td>\n      <td>0.001115</td>\n      <td>0.001123</td>\n      <td>0.001117</td>\n      <td>0.001115</td>\n    </tr>\n    <tr>\n      <th>mae</th>\n      <td>0.124886</td>\n      <td>0.126101</td>\n      <td>0.125834</td>\n      <td>0.126567</td>\n      <td>0.125835</td>\n      <td>0.125834</td>\n    </tr>\n  </tbody>\n</table>\n</div>"
     },
     "metadata": {},
     "execution_count": 11
    }
   ],
   "source": [
    "df_b_fair_o = FairData(s_train, a_train, y_train, preprocess_method='o')\n",
    "eval_o = df_b_fair_o.evaluate(a_test, s_test, y_test, ['cf', 'mae'])\n",
    "pd.DataFrame(eval_o, index=['cf', 'mae'], columns=['ML', 'FTU', 'FL', 'AA', 'FLAP-1', 'FLAP-2'])"
   ]
  },
  {
   "cell_type": "code",
   "execution_count": 12,
   "metadata": {},
   "outputs": [
    {
     "output_type": "execute_result",
     "data": {
      "text/plain": [
       "           ML       FTU        FL        AA    FLAP-1    FLAP-2\n",
       "cf   0.039234  0.013032  0.001115  0.001123  0.000766  0.000745\n",
       "mae  0.124886  0.126101  0.125834  0.126567  0.125755  0.125772"
      ],
      "text/html": "<div>\n<style scoped>\n    .dataframe tbody tr th:only-of-type {\n        vertical-align: middle;\n    }\n\n    .dataframe tbody tr th {\n        vertical-align: top;\n    }\n\n    .dataframe thead th {\n        text-align: right;\n    }\n</style>\n<table border=\"1\" class=\"dataframe\">\n  <thead>\n    <tr style=\"text-align: right;\">\n      <th></th>\n      <th>ML</th>\n      <th>FTU</th>\n      <th>FL</th>\n      <th>AA</th>\n      <th>FLAP-1</th>\n      <th>FLAP-2</th>\n    </tr>\n  </thead>\n  <tbody>\n    <tr>\n      <th>cf</th>\n      <td>0.039234</td>\n      <td>0.013032</td>\n      <td>0.001115</td>\n      <td>0.001123</td>\n      <td>0.000766</td>\n      <td>0.000745</td>\n    </tr>\n    <tr>\n      <th>mae</th>\n      <td>0.124886</td>\n      <td>0.126101</td>\n      <td>0.125834</td>\n      <td>0.126567</td>\n      <td>0.125755</td>\n      <td>0.125772</td>\n    </tr>\n  </tbody>\n</table>\n</div>"
     },
     "metadata": {},
     "execution_count": 12
    }
   ],
   "source": [
    "df_b_fair_m = FairData(s_train, a_train, y_train, preprocess_method='m')\n",
    "eval_m = df_b_fair_m.evaluate(a_test, s_test, y_test, ['cf', 'mae'])\n",
    "pd.DataFrame(eval_m, index=['cf', 'mae'], columns=['ML', 'FTU', 'FL', 'AA', 'FLAP-1', 'FLAP-2'])"
   ]
  },
  {
   "cell_type": "code",
   "execution_count": 30,
   "metadata": {
    "tags": []
   },
   "outputs": [
    {
     "output_type": "stream",
     "name": "stdout",
     "text": "<F test: F=array([[25127.24149695]]), p=0.0, df_denom=1.94e+05, df_num=3>\n"
    },
    {
     "output_type": "execute_result",
     "data": {
      "text/plain": "0.0"
     },
     "metadata": {},
     "execution_count": 30
    }
   ],
   "source": [
    "df_b_fair_m.cit_parametric(summary=True)"
   ]
  },
  {
   "cell_type": "code",
   "execution_count": 59,
   "metadata": {
    "tags": []
   },
   "outputs": [
    {
     "output_type": "stream",
     "name": "stdout",
     "text": "<F test: F=array([[25759.31690959]]), p=0.0, df_denom=1.94e+05, df_num=3>\n"
    },
    {
     "output_type": "execute_result",
     "data": {
      "text/plain": "0.0"
     },
     "metadata": {},
     "execution_count": 59
    }
   ],
   "source": [
    "p = df_b_fair_m.f_2(s_train, a_train, 'm')\n",
    "y_hat = np.random.binomial(1, 0.95, len(y_train)).reshape(-1, 1)\n",
    "df_b_processed = FairData(s_train, a_train, y_hat, preprocess_method='m')\n",
    "df_b_processed.cit_parametric(summary=True)"
   ]
  },
  {
   "cell_type": "code",
   "execution_count": null,
   "metadata": {},
   "outputs": [],
   "source": []
  }
 ]
}